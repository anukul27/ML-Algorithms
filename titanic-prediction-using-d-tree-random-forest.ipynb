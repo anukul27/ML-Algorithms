{
 "cells": [
  {
   "cell_type": "markdown",
   "id": "29108d08",
   "metadata": {
    "papermill": {
     "duration": 0.038968,
     "end_time": "2022-10-23T00:45:52.138827",
     "exception": false,
     "start_time": "2022-10-23T00:45:52.099859",
     "status": "completed"
    },
    "tags": []
   },
   "source": [
    "### Importing Relevant Libraries\n"
   ]
  },
  {
   "cell_type": "code",
   "execution_count": 1,
   "id": "bf92158b",
   "metadata": {
    "execution": {
     "iopub.execute_input": "2022-10-23T00:45:52.219243Z",
     "iopub.status.busy": "2022-10-23T00:45:52.218459Z",
     "iopub.status.idle": "2022-10-23T00:45:53.304761Z",
     "shell.execute_reply": "2022-10-23T00:45:53.303556Z"
    },
    "papermill": {
     "duration": 1.13103,
     "end_time": "2022-10-23T00:45:53.307750",
     "exception": false,
     "start_time": "2022-10-23T00:45:52.176720",
     "status": "completed"
    },
    "tags": []
   },
   "outputs": [],
   "source": [
    "import numpy as np\n",
    "import pandas as pd\n",
    "import matplotlib.pyplot as plt\n",
    "import seaborn as sns\n",
    "import warnings\n",
    "warnings.filterwarnings('ignore')\n",
    "%matplotlib inline"
   ]
  },
  {
   "cell_type": "markdown",
   "id": "4780f1fa",
   "metadata": {
    "papermill": {
     "duration": 0.029045,
     "end_time": "2022-10-23T00:45:53.367288",
     "exception": false,
     "start_time": "2022-10-23T00:45:53.338243",
     "status": "completed"
    },
    "tags": []
   },
   "source": [
    "### Loading the dataset"
   ]
  },
  {
   "cell_type": "code",
   "execution_count": 2,
   "id": "70009676",
   "metadata": {
    "execution": {
     "iopub.execute_input": "2022-10-23T00:45:53.428195Z",
     "iopub.status.busy": "2022-10-23T00:45:53.427398Z",
     "iopub.status.idle": "2022-10-23T00:45:53.473158Z",
     "shell.execute_reply": "2022-10-23T00:45:53.471942Z"
    },
    "papermill": {
     "duration": 0.078883,
     "end_time": "2022-10-23T00:45:53.475898",
     "exception": false,
     "start_time": "2022-10-23T00:45:53.397015",
     "status": "completed"
    },
    "tags": []
   },
   "outputs": [
    {
     "data": {
      "text/html": [
       "<div>\n",
       "<style scoped>\n",
       "    .dataframe tbody tr th:only-of-type {\n",
       "        vertical-align: middle;\n",
       "    }\n",
       "\n",
       "    .dataframe tbody tr th {\n",
       "        vertical-align: top;\n",
       "    }\n",
       "\n",
       "    .dataframe thead th {\n",
       "        text-align: right;\n",
       "    }\n",
       "</style>\n",
       "<table border=\"1\" class=\"dataframe\">\n",
       "  <thead>\n",
       "    <tr style=\"text-align: right;\">\n",
       "      <th></th>\n",
       "      <th>PassengerId</th>\n",
       "      <th>Survived</th>\n",
       "      <th>Pclass</th>\n",
       "      <th>Name</th>\n",
       "      <th>Sex</th>\n",
       "      <th>Age</th>\n",
       "      <th>SibSp</th>\n",
       "      <th>Parch</th>\n",
       "      <th>Ticket</th>\n",
       "      <th>Fare</th>\n",
       "      <th>Cabin</th>\n",
       "      <th>Embarked</th>\n",
       "    </tr>\n",
       "  </thead>\n",
       "  <tbody>\n",
       "    <tr>\n",
       "      <th>0</th>\n",
       "      <td>1</td>\n",
       "      <td>0</td>\n",
       "      <td>3</td>\n",
       "      <td>Braund, Mr. Owen Harris</td>\n",
       "      <td>male</td>\n",
       "      <td>22.0</td>\n",
       "      <td>1</td>\n",
       "      <td>0</td>\n",
       "      <td>A/5 21171</td>\n",
       "      <td>7.2500</td>\n",
       "      <td>NaN</td>\n",
       "      <td>S</td>\n",
       "    </tr>\n",
       "    <tr>\n",
       "      <th>1</th>\n",
       "      <td>2</td>\n",
       "      <td>1</td>\n",
       "      <td>1</td>\n",
       "      <td>Cumings, Mrs. John Bradley (Florence Briggs Th...</td>\n",
       "      <td>female</td>\n",
       "      <td>38.0</td>\n",
       "      <td>1</td>\n",
       "      <td>0</td>\n",
       "      <td>PC 17599</td>\n",
       "      <td>71.2833</td>\n",
       "      <td>C85</td>\n",
       "      <td>C</td>\n",
       "    </tr>\n",
       "    <tr>\n",
       "      <th>2</th>\n",
       "      <td>3</td>\n",
       "      <td>1</td>\n",
       "      <td>3</td>\n",
       "      <td>Heikkinen, Miss. Laina</td>\n",
       "      <td>female</td>\n",
       "      <td>26.0</td>\n",
       "      <td>0</td>\n",
       "      <td>0</td>\n",
       "      <td>STON/O2. 3101282</td>\n",
       "      <td>7.9250</td>\n",
       "      <td>NaN</td>\n",
       "      <td>S</td>\n",
       "    </tr>\n",
       "    <tr>\n",
       "      <th>3</th>\n",
       "      <td>4</td>\n",
       "      <td>1</td>\n",
       "      <td>1</td>\n",
       "      <td>Futrelle, Mrs. Jacques Heath (Lily May Peel)</td>\n",
       "      <td>female</td>\n",
       "      <td>35.0</td>\n",
       "      <td>1</td>\n",
       "      <td>0</td>\n",
       "      <td>113803</td>\n",
       "      <td>53.1000</td>\n",
       "      <td>C123</td>\n",
       "      <td>S</td>\n",
       "    </tr>\n",
       "    <tr>\n",
       "      <th>4</th>\n",
       "      <td>5</td>\n",
       "      <td>0</td>\n",
       "      <td>3</td>\n",
       "      <td>Allen, Mr. William Henry</td>\n",
       "      <td>male</td>\n",
       "      <td>35.0</td>\n",
       "      <td>0</td>\n",
       "      <td>0</td>\n",
       "      <td>373450</td>\n",
       "      <td>8.0500</td>\n",
       "      <td>NaN</td>\n",
       "      <td>S</td>\n",
       "    </tr>\n",
       "  </tbody>\n",
       "</table>\n",
       "</div>"
      ],
      "text/plain": [
       "   PassengerId  Survived  Pclass  \\\n",
       "0            1         0       3   \n",
       "1            2         1       1   \n",
       "2            3         1       3   \n",
       "3            4         1       1   \n",
       "4            5         0       3   \n",
       "\n",
       "                                                Name     Sex   Age  SibSp  \\\n",
       "0                            Braund, Mr. Owen Harris    male  22.0      1   \n",
       "1  Cumings, Mrs. John Bradley (Florence Briggs Th...  female  38.0      1   \n",
       "2                             Heikkinen, Miss. Laina  female  26.0      0   \n",
       "3       Futrelle, Mrs. Jacques Heath (Lily May Peel)  female  35.0      1   \n",
       "4                           Allen, Mr. William Henry    male  35.0      0   \n",
       "\n",
       "   Parch            Ticket     Fare Cabin Embarked  \n",
       "0      0         A/5 21171   7.2500   NaN        S  \n",
       "1      0          PC 17599  71.2833   C85        C  \n",
       "2      0  STON/O2. 3101282   7.9250   NaN        S  \n",
       "3      0            113803  53.1000  C123        S  \n",
       "4      0            373450   8.0500   NaN        S  "
      ]
     },
     "execution_count": 2,
     "metadata": {},
     "output_type": "execute_result"
    }
   ],
   "source": [
    "titanic = pd.read_csv('../input/titanic-dataset/titanic.csv')\n",
    "titanic.head()"
   ]
  },
  {
   "cell_type": "code",
   "execution_count": 3,
   "id": "c2470805",
   "metadata": {
    "execution": {
     "iopub.execute_input": "2022-10-23T00:45:53.539462Z",
     "iopub.status.busy": "2022-10-23T00:45:53.538670Z",
     "iopub.status.idle": "2022-10-23T00:45:53.545244Z",
     "shell.execute_reply": "2022-10-23T00:45:53.544366Z"
    },
    "papermill": {
     "duration": 0.041994,
     "end_time": "2022-10-23T00:45:53.547372",
     "exception": false,
     "start_time": "2022-10-23T00:45:53.505378",
     "status": "completed"
    },
    "tags": []
   },
   "outputs": [
    {
     "data": {
      "text/plain": [
       "(891, 12)"
      ]
     },
     "execution_count": 3,
     "metadata": {},
     "output_type": "execute_result"
    }
   ],
   "source": [
    "#Finding the number of rows and columns of the data\n",
    "titanic.shape"
   ]
  },
  {
   "cell_type": "markdown",
   "id": "443332ff",
   "metadata": {
    "papermill": {
     "duration": 0.028855,
     "end_time": "2022-10-23T00:45:53.605610",
     "exception": false,
     "start_time": "2022-10-23T00:45:53.576755",
     "status": "completed"
    },
    "tags": []
   },
   "source": [
    "There are 891 rows and 12 columns in the dataset"
   ]
  },
  {
   "cell_type": "code",
   "execution_count": 4,
   "id": "12cceffb",
   "metadata": {
    "execution": {
     "iopub.execute_input": "2022-10-23T00:45:53.667581Z",
     "iopub.status.busy": "2022-10-23T00:45:53.666751Z",
     "iopub.status.idle": "2022-10-23T00:45:53.691690Z",
     "shell.execute_reply": "2022-10-23T00:45:53.690126Z"
    },
    "papermill": {
     "duration": 0.060185,
     "end_time": "2022-10-23T00:45:53.694895",
     "exception": false,
     "start_time": "2022-10-23T00:45:53.634710",
     "status": "completed"
    },
    "tags": []
   },
   "outputs": [
    {
     "name": "stdout",
     "output_type": "stream",
     "text": [
      "<class 'pandas.core.frame.DataFrame'>\n",
      "RangeIndex: 891 entries, 0 to 890\n",
      "Data columns (total 12 columns):\n",
      " #   Column       Non-Null Count  Dtype  \n",
      "---  ------       --------------  -----  \n",
      " 0   PassengerId  891 non-null    int64  \n",
      " 1   Survived     891 non-null    int64  \n",
      " 2   Pclass       891 non-null    int64  \n",
      " 3   Name         891 non-null    object \n",
      " 4   Sex          891 non-null    object \n",
      " 5   Age          714 non-null    float64\n",
      " 6   SibSp        891 non-null    int64  \n",
      " 7   Parch        891 non-null    int64  \n",
      " 8   Ticket       891 non-null    object \n",
      " 9   Fare         891 non-null    float64\n",
      " 10  Cabin        204 non-null    object \n",
      " 11  Embarked     889 non-null    object \n",
      "dtypes: float64(2), int64(5), object(5)\n",
      "memory usage: 83.7+ KB\n"
     ]
    }
   ],
   "source": [
    "#Finding the name and datatypes of the columns\n",
    "titanic.info()"
   ]
  },
  {
   "cell_type": "markdown",
   "id": "cc59efb6",
   "metadata": {
    "papermill": {
     "duration": 0.030965,
     "end_time": "2022-10-23T00:45:53.757210",
     "exception": false,
     "start_time": "2022-10-23T00:45:53.726245",
     "status": "completed"
    },
    "tags": []
   },
   "source": [
    "The data thus gives information about the Passenger ID, that passenger Survived or not, class in which passenger was travelling, Name of the Passenger, Gender and Age of the passenger, family relation of the passenger in terms of sibling/spouse and parent/child, ticket number, ticket fare, Cabin number and the port of embarkation of the passenger. We are going to discuss each of these columns as variables in which Survived column, is the target variable here which is to be predicted from the other variables. Also, 7 of the variables are numerical and the others are object."
   ]
  },
  {
   "cell_type": "markdown",
   "id": "9fcd9648",
   "metadata": {
    "papermill": {
     "duration": 0.030351,
     "end_time": "2022-10-23T00:45:53.818621",
     "exception": false,
     "start_time": "2022-10-23T00:45:53.788270",
     "status": "completed"
    },
    "tags": []
   },
   "source": [
    "### Handling the missing values\n",
    "We got to know that this dataset contains missing values. These variables have missing values-\n",
    "1. Age\n",
    "2. Cabin\n",
    "3. Embarked"
   ]
  },
  {
   "cell_type": "code",
   "execution_count": 5,
   "id": "98b9194d",
   "metadata": {
    "execution": {
     "iopub.execute_input": "2022-10-23T00:45:53.882197Z",
     "iopub.status.busy": "2022-10-23T00:45:53.881535Z",
     "iopub.status.idle": "2022-10-23T00:45:53.892902Z",
     "shell.execute_reply": "2022-10-23T00:45:53.892032Z"
    },
    "papermill": {
     "duration": 0.045453,
     "end_time": "2022-10-23T00:45:53.895150",
     "exception": false,
     "start_time": "2022-10-23T00:45:53.849697",
     "status": "completed"
    },
    "tags": []
   },
   "outputs": [
    {
     "data": {
      "text/plain": [
       "count    714.000000\n",
       "mean      29.699118\n",
       "std       14.526497\n",
       "min        0.420000\n",
       "25%       20.125000\n",
       "50%       28.000000\n",
       "75%       38.000000\n",
       "max       80.000000\n",
       "Name: Age, dtype: float64"
      ]
     },
     "execution_count": 5,
     "metadata": {},
     "output_type": "execute_result"
    }
   ],
   "source": [
    "#Analyzing the Age Variable for missing value imputaion\n",
    "titanic.Age.describe()"
   ]
  },
  {
   "cell_type": "code",
   "execution_count": 6,
   "id": "637cb174",
   "metadata": {
    "execution": {
     "iopub.execute_input": "2022-10-23T00:45:53.958971Z",
     "iopub.status.busy": "2022-10-23T00:45:53.958339Z",
     "iopub.status.idle": "2022-10-23T00:45:53.964982Z",
     "shell.execute_reply": "2022-10-23T00:45:53.964238Z"
    },
    "papermill": {
     "duration": 0.04144,
     "end_time": "2022-10-23T00:45:53.966913",
     "exception": false,
     "start_time": "2022-10-23T00:45:53.925473",
     "status": "completed"
    },
    "tags": []
   },
   "outputs": [
    {
     "data": {
      "text/plain": [
       "0"
      ]
     },
     "execution_count": 6,
     "metadata": {},
     "output_type": "execute_result"
    }
   ],
   "source": [
    "#Since mean age is 29, imputing the missing values of Age as 29\n",
    "titanic.Age.fillna(29, inplace=True)\n",
    "#Checking whether the null values are replaced\n",
    "titanic.Age.isnull().values.sum()"
   ]
  },
  {
   "cell_type": "code",
   "execution_count": 7,
   "id": "2f27258b",
   "metadata": {
    "execution": {
     "iopub.execute_input": "2022-10-23T00:45:54.028614Z",
     "iopub.status.busy": "2022-10-23T00:45:54.027987Z",
     "iopub.status.idle": "2022-10-23T00:45:54.034055Z",
     "shell.execute_reply": "2022-10-23T00:45:54.033305Z"
    },
    "papermill": {
     "duration": 0.039492,
     "end_time": "2022-10-23T00:45:54.036056",
     "exception": false,
     "start_time": "2022-10-23T00:45:53.996564",
     "status": "completed"
    },
    "scrolled": true,
    "tags": []
   },
   "outputs": [
    {
     "data": {
      "text/plain": [
       "array([nan, 'C85', 'C123', 'E46', 'G6', 'C103', 'D56', 'A6',\n",
       "       'C23 C25 C27', 'B78', 'D33', 'B30', 'C52', 'B28', 'C83', 'F33',\n",
       "       'F G73', 'E31', 'A5', 'D10 D12', 'D26', 'C110', 'B58 B60', 'E101',\n",
       "       'F E69', 'D47', 'B86', 'F2', 'C2', 'E33', 'B19', 'A7', 'C49', 'F4',\n",
       "       'A32', 'B4', 'B80', 'A31', 'D36', 'D15', 'C93', 'C78', 'D35',\n",
       "       'C87', 'B77', 'E67', 'B94', 'C125', 'C99', 'C118', 'D7', 'A19',\n",
       "       'B49', 'D', 'C22 C26', 'C106', 'C65', 'E36', 'C54',\n",
       "       'B57 B59 B63 B66', 'C7', 'E34', 'C32', 'B18', 'C124', 'C91', 'E40',\n",
       "       'T', 'C128', 'D37', 'B35', 'E50', 'C82', 'B96 B98', 'E10', 'E44',\n",
       "       'A34', 'C104', 'C111', 'C92', 'E38', 'D21', 'E12', 'E63', 'A14',\n",
       "       'B37', 'C30', 'D20', 'B79', 'E25', 'D46', 'B73', 'C95', 'B38',\n",
       "       'B39', 'B22', 'C86', 'C70', 'A16', 'C101', 'C68', 'A10', 'E68',\n",
       "       'B41', 'A20', 'D19', 'D50', 'D9', 'A23', 'B50', 'A26', 'D48',\n",
       "       'E58', 'C126', 'B71', 'B51 B53 B55', 'D49', 'B5', 'B20', 'F G63',\n",
       "       'C62 C64', 'E24', 'C90', 'C45', 'E8', 'B101', 'D45', 'C46', 'D30',\n",
       "       'E121', 'D11', 'E77', 'F38', 'B3', 'D6', 'B82 B84', 'D17', 'A36',\n",
       "       'B102', 'B69', 'E49', 'C47', 'D28', 'E17', 'A24', 'C50', 'B42',\n",
       "       'C148'], dtype=object)"
      ]
     },
     "execution_count": 7,
     "metadata": {},
     "output_type": "execute_result"
    }
   ],
   "source": [
    "#Handling the Cabin Variable\n",
    "#The datatype is object, so finding the unique values\n",
    "titanic.Cabin.unique()"
   ]
  },
  {
   "cell_type": "code",
   "execution_count": 8,
   "id": "7b5911b7",
   "metadata": {
    "execution": {
     "iopub.execute_input": "2022-10-23T00:45:54.098534Z",
     "iopub.status.busy": "2022-10-23T00:45:54.098098Z",
     "iopub.status.idle": "2022-10-23T00:45:54.108513Z",
     "shell.execute_reply": "2022-10-23T00:45:54.107371Z"
    },
    "papermill": {
     "duration": 0.04467,
     "end_time": "2022-10-23T00:45:54.110698",
     "exception": false,
     "start_time": "2022-10-23T00:45:54.066028",
     "status": "completed"
    },
    "tags": []
   },
   "outputs": [
    {
     "data": {
      "text/plain": [
       "array(['n', 'C', 'E', 'G', 'D', 'A', 'B', 'F', 'T'], dtype=object)"
      ]
     },
     "execution_count": 8,
     "metadata": {},
     "output_type": "execute_result"
    }
   ],
   "source": [
    "#Since there are a lot of unique values in the Cabin but it is noticeable that the first letter of the object varies from 'A' to 'G'\n",
    "#We can extract the first value only to get a categorical data which might be a good predictor.\n",
    "#Creating a new column Cabin_Code for this\n",
    "titanic['Cabin_Code'] = titanic['Cabin'].astype(str).str[0]\n",
    "titanic.Cabin_Code.unique()"
   ]
  },
  {
   "cell_type": "code",
   "execution_count": 9,
   "id": "569faa8e",
   "metadata": {
    "execution": {
     "iopub.execute_input": "2022-10-23T00:45:54.173555Z",
     "iopub.status.busy": "2022-10-23T00:45:54.172877Z",
     "iopub.status.idle": "2022-10-23T00:45:54.433895Z",
     "shell.execute_reply": "2022-10-23T00:45:54.431828Z"
    },
    "papermill": {
     "duration": 0.295654,
     "end_time": "2022-10-23T00:45:54.436466",
     "exception": false,
     "start_time": "2022-10-23T00:45:54.140812",
     "status": "completed"
    },
    "scrolled": true,
    "tags": []
   },
   "outputs": [
    {
     "data": {
      "text/plain": [
       "(array([687.,  59.,  32.,   4.,   0.,  33.,  15.,  47.,  13.,   1.]),\n",
       " array([0. , 0.8, 1.6, 2.4, 3.2, 4. , 4.8, 5.6, 6.4, 7.2, 8. ]),\n",
       " <BarContainer object of 10 artists>)"
      ]
     },
     "execution_count": 9,
     "metadata": {},
     "output_type": "execute_result"
    },
    {
     "data": {
      "image/png": "[encoded data removed]",
      "text/plain": [
       "<Figure size 432x288 with 1 Axes>"
      ]
     },
     "metadata": {
      "needs_background": "light"
     },
     "output_type": "display_data"
    }
   ],
   "source": [
    "#Projecting the values with respect to the target variable to see which cabin gives the highest/lowest survival rate\n",
    "plt.hist(titanic.Cabin_Code)"
   ]
  },
  {
   "cell_type": "code",
   "execution_count": 10,
   "id": "62b6344a",
   "metadata": {
    "execution": {
     "iopub.execute_input": "2022-10-23T00:45:54.500085Z",
     "iopub.status.busy": "2022-10-23T00:45:54.499289Z",
     "iopub.status.idle": "2022-10-23T00:45:54.506467Z",
     "shell.execute_reply": "2022-10-23T00:45:54.505705Z"
    },
    "papermill": {
     "duration": 0.041526,
     "end_time": "2022-10-23T00:45:54.508606",
     "exception": false,
     "start_time": "2022-10-23T00:45:54.467080",
     "status": "completed"
    },
    "tags": []
   },
   "outputs": [],
   "source": [
    "#removing the Cabin_Code Variable because of a lot of null values.\n",
    "titanic.drop('Cabin_Code', axis=1, inplace=True)\n"
   ]
  },
  {
   "cell_type": "code",
   "execution_count": 11,
   "id": "1e11b968",
   "metadata": {
    "execution": {
     "iopub.execute_input": "2022-10-23T00:45:54.573748Z",
     "iopub.status.busy": "2022-10-23T00:45:54.573032Z",
     "iopub.status.idle": "2022-10-23T00:45:54.579434Z",
     "shell.execute_reply": "2022-10-23T00:45:54.578181Z"
    },
    "papermill": {
     "duration": 0.041327,
     "end_time": "2022-10-23T00:45:54.581787",
     "exception": false,
     "start_time": "2022-10-23T00:45:54.540460",
     "status": "completed"
    },
    "tags": []
   },
   "outputs": [],
   "source": [
    "titanic.drop('Cabin', axis=1, inplace=True)"
   ]
  },
  {
   "cell_type": "code",
   "execution_count": 12,
   "id": "a5637514",
   "metadata": {
    "execution": {
     "iopub.execute_input": "2022-10-23T00:45:54.644237Z",
     "iopub.status.busy": "2022-10-23T00:45:54.643761Z",
     "iopub.status.idle": "2022-10-23T00:45:54.651623Z",
     "shell.execute_reply": "2022-10-23T00:45:54.650879Z"
    },
    "papermill": {
     "duration": 0.041034,
     "end_time": "2022-10-23T00:45:54.653548",
     "exception": false,
     "start_time": "2022-10-23T00:45:54.612514",
     "status": "completed"
    },
    "tags": []
   },
   "outputs": [],
   "source": [
    "#The Embarked Column\n",
    "#There are two rows in which there are missing values, thus removing those rows\n",
    "titanic.dropna(inplace=True)"
   ]
  },
  {
   "cell_type": "code",
   "execution_count": 13,
   "id": "c5898da5",
   "metadata": {
    "execution": {
     "iopub.execute_input": "2022-10-23T00:45:54.715800Z",
     "iopub.status.busy": "2022-10-23T00:45:54.714942Z",
     "iopub.status.idle": "2022-10-23T00:45:54.721391Z",
     "shell.execute_reply": "2022-10-23T00:45:54.720478Z"
    },
    "papermill": {
     "duration": 0.039923,
     "end_time": "2022-10-23T00:45:54.723372",
     "exception": false,
     "start_time": "2022-10-23T00:45:54.683449",
     "status": "completed"
    },
    "scrolled": true,
    "tags": []
   },
   "outputs": [
    {
     "data": {
      "text/plain": [
       "(889, 11)"
      ]
     },
     "execution_count": 13,
     "metadata": {},
     "output_type": "execute_result"
    }
   ],
   "source": [
    "titanic.shape"
   ]
  },
  {
   "cell_type": "markdown",
   "id": "e656c0da",
   "metadata": {
    "papermill": {
     "duration": 0.032627,
     "end_time": "2022-10-23T00:45:54.787716",
     "exception": false,
     "start_time": "2022-10-23T00:45:54.755089",
     "status": "completed"
    },
    "tags": []
   },
   "source": [
    "Missing values successfully removed. Our dataframe has now no missing values"
   ]
  },
  {
   "cell_type": "code",
   "execution_count": 14,
   "id": "824ecf1d",
   "metadata": {
    "execution": {
     "iopub.execute_input": "2022-10-23T00:45:54.850156Z",
     "iopub.status.busy": "2022-10-23T00:45:54.849254Z",
     "iopub.status.idle": "2022-10-23T00:45:54.862757Z",
     "shell.execute_reply": "2022-10-23T00:45:54.861584Z"
    },
    "papermill": {
     "duration": 0.047393,
     "end_time": "2022-10-23T00:45:54.865810",
     "exception": false,
     "start_time": "2022-10-23T00:45:54.818417",
     "status": "completed"
    },
    "tags": []
   },
   "outputs": [
    {
     "name": "stdout",
     "output_type": "stream",
     "text": [
      "<class 'pandas.core.frame.DataFrame'>\n",
      "Int64Index: 889 entries, 0 to 890\n",
      "Data columns (total 11 columns):\n",
      " #   Column       Non-Null Count  Dtype  \n",
      "---  ------       --------------  -----  \n",
      " 0   PassengerId  889 non-null    int64  \n",
      " 1   Survived     889 non-null    int64  \n",
      " 2   Pclass       889 non-null    int64  \n",
      " 3   Name         889 non-null    object \n",
      " 4   Sex          889 non-null    object \n",
      " 5   Age          889 non-null    float64\n",
      " 6   SibSp        889 non-null    int64  \n",
      " 7   Parch        889 non-null    int64  \n",
      " 8   Ticket       889 non-null    object \n",
      " 9   Fare         889 non-null    float64\n",
      " 10  Embarked     889 non-null    object \n",
      "dtypes: float64(2), int64(5), object(4)\n",
      "memory usage: 83.3+ KB\n"
     ]
    }
   ],
   "source": [
    "titanic.info()"
   ]
  },
  {
   "cell_type": "markdown",
   "id": "64bf5f18",
   "metadata": {
    "papermill": {
     "duration": 0.030637,
     "end_time": "2022-10-23T00:45:54.928264",
     "exception": false,
     "start_time": "2022-10-23T00:45:54.897627",
     "status": "completed"
    },
    "tags": []
   },
   "source": [
    "### Train Test Split"
   ]
  },
  {
   "cell_type": "code",
   "execution_count": 15,
   "id": "82fcd3e0",
   "metadata": {
    "execution": {
     "iopub.execute_input": "2022-10-23T00:45:54.992584Z",
     "iopub.status.busy": "2022-10-23T00:45:54.991902Z",
     "iopub.status.idle": "2022-10-23T00:45:55.174602Z",
     "shell.execute_reply": "2022-10-23T00:45:55.173353Z"
    },
    "papermill": {
     "duration": 0.21802,
     "end_time": "2022-10-23T00:45:55.177402",
     "exception": false,
     "start_time": "2022-10-23T00:45:54.959382",
     "status": "completed"
    },
    "tags": []
   },
   "outputs": [],
   "source": [
    "#Importing\n",
    "from sklearn.model_selection import train_test_split\n",
    "#Splitting the dataset into two parts, train and test\n",
    "train_data, test_data = train_test_split(titanic, random_state = 100,test_size=0.2)"
   ]
  },
  {
   "cell_type": "code",
   "execution_count": 16,
   "id": "42697e0d",
   "metadata": {
    "execution": {
     "iopub.execute_input": "2022-10-23T00:45:55.239741Z",
     "iopub.status.busy": "2022-10-23T00:45:55.239321Z",
     "iopub.status.idle": "2022-10-23T00:45:55.246316Z",
     "shell.execute_reply": "2022-10-23T00:45:55.244967Z"
    },
    "papermill": {
     "duration": 0.04076,
     "end_time": "2022-10-23T00:45:55.248753",
     "exception": false,
     "start_time": "2022-10-23T00:45:55.207993",
     "status": "completed"
    },
    "tags": []
   },
   "outputs": [
    {
     "data": {
      "text/plain": [
       "(711, 11)"
      ]
     },
     "execution_count": 16,
     "metadata": {},
     "output_type": "execute_result"
    }
   ],
   "source": [
    "train_data.shape"
   ]
  },
  {
   "cell_type": "code",
   "execution_count": 17,
   "id": "22041411",
   "metadata": {
    "execution": {
     "iopub.execute_input": "2022-10-23T00:45:55.310180Z",
     "iopub.status.busy": "2022-10-23T00:45:55.309423Z",
     "iopub.status.idle": "2022-10-23T00:45:55.316209Z",
     "shell.execute_reply": "2022-10-23T00:45:55.315392Z"
    },
    "papermill": {
     "duration": 0.039761,
     "end_time": "2022-10-23T00:45:55.318347",
     "exception": false,
     "start_time": "2022-10-23T00:45:55.278586",
     "status": "completed"
    },
    "tags": []
   },
   "outputs": [
    {
     "data": {
      "text/plain": [
       "(178, 11)"
      ]
     },
     "execution_count": 17,
     "metadata": {},
     "output_type": "execute_result"
    }
   ],
   "source": [
    "test_data.shape"
   ]
  },
  {
   "cell_type": "markdown",
   "id": "d1e60a6c",
   "metadata": {
    "papermill": {
     "duration": 0.029211,
     "end_time": "2022-10-23T00:45:55.377809",
     "exception": false,
     "start_time": "2022-10-23T00:45:55.348598",
     "status": "completed"
    },
    "tags": []
   },
   "source": [
    "#### Train test split successfully done\n",
    "\n",
    "### Data Cleaning\n",
    "\n",
    "By visual analysis, it may be considered that the Passenger ID, Passenger Name, and Ticket Number has no role in predicting the desired output. We can thus exclude these columns from the dataset"
   ]
  },
  {
   "cell_type": "code",
   "execution_count": 18,
   "id": "3e125e01",
   "metadata": {
    "execution": {
     "iopub.execute_input": "2022-10-23T00:45:55.440256Z",
     "iopub.status.busy": "2022-10-23T00:45:55.439489Z",
     "iopub.status.idle": "2022-10-23T00:45:55.447698Z",
     "shell.execute_reply": "2022-10-23T00:45:55.447004Z"
    },
    "papermill": {
     "duration": 0.041902,
     "end_time": "2022-10-23T00:45:55.449749",
     "exception": false,
     "start_time": "2022-10-23T00:45:55.407847",
     "status": "completed"
    },
    "tags": []
   },
   "outputs": [],
   "source": [
    "train_data.drop('PassengerId', axis = 1, inplace=True)\n",
    "train_data.drop('Ticket', axis = 1, inplace=True)\n",
    "train_data.drop('Name', axis = 1, inplace=True)\n",
    "#test_data.drop('PassengerId', axis = 1, inplace=True)\n",
    "#test_data.drop('Name', axis = 1, inplace=True)\n",
    "#test_data.drop('Ticket', axis = 1, inplace=True)\n"
   ]
  },
  {
   "cell_type": "code",
   "execution_count": 19,
   "id": "496ef6c5",
   "metadata": {
    "execution": {
     "iopub.execute_input": "2022-10-23T00:45:55.512614Z",
     "iopub.status.busy": "2022-10-23T00:45:55.512225Z",
     "iopub.status.idle": "2022-10-23T00:45:55.525927Z",
     "shell.execute_reply": "2022-10-23T00:45:55.524544Z"
    },
    "papermill": {
     "duration": 0.047461,
     "end_time": "2022-10-23T00:45:55.528306",
     "exception": false,
     "start_time": "2022-10-23T00:45:55.480845",
     "status": "completed"
    },
    "tags": []
   },
   "outputs": [
    {
     "name": "stdout",
     "output_type": "stream",
     "text": [
      "<class 'pandas.core.frame.DataFrame'>\n",
      "Int64Index: 711 entries, 777 to 521\n",
      "Data columns (total 8 columns):\n",
      " #   Column    Non-Null Count  Dtype  \n",
      "---  ------    --------------  -----  \n",
      " 0   Survived  711 non-null    int64  \n",
      " 1   Pclass    711 non-null    int64  \n",
      " 2   Sex       711 non-null    object \n",
      " 3   Age       711 non-null    float64\n",
      " 4   SibSp     711 non-null    int64  \n",
      " 5   Parch     711 non-null    int64  \n",
      " 6   Fare      711 non-null    float64\n",
      " 7   Embarked  711 non-null    object \n",
      "dtypes: float64(2), int64(4), object(2)\n",
      "memory usage: 50.0+ KB\n"
     ]
    }
   ],
   "source": [
    "train_data.info()"
   ]
  },
  {
   "cell_type": "markdown",
   "id": "f320caa0",
   "metadata": {
    "papermill": {
     "duration": 0.030843,
     "end_time": "2022-10-23T00:45:55.589111",
     "exception": false,
     "start_time": "2022-10-23T00:45:55.558268",
     "status": "completed"
    },
    "tags": []
   },
   "source": [
    "## Explanatory Data Analysis\n",
    "\n",
    "### 1.Survived, the target variable"
   ]
  },
  {
   "cell_type": "code",
   "execution_count": 20,
   "id": "24b8220d",
   "metadata": {
    "execution": {
     "iopub.execute_input": "2022-10-23T00:45:55.653260Z",
     "iopub.status.busy": "2022-10-23T00:45:55.652549Z",
     "iopub.status.idle": "2022-10-23T00:45:55.948886Z",
     "shell.execute_reply": "2022-10-23T00:45:55.947983Z"
    },
    "papermill": {
     "duration": 0.330658,
     "end_time": "2022-10-23T00:45:55.951254",
     "exception": false,
     "start_time": "2022-10-23T00:45:55.620596",
     "status": "completed"
    },
    "tags": []
   },
   "outputs": [
    {
     "name": "stdout",
     "output_type": "stream",
     "text": [
      "count    711.000000\n",
      "mean       0.388186\n",
      "std        0.487680\n",
      "min        0.000000\n",
      "25%        0.000000\n",
      "50%        0.000000\n",
      "75%        1.000000\n",
      "max        1.000000\n",
      "Name: Survived, dtype: float64\n"
     ]
    },
    {
     "data": {
      "image/png": "[encoded data removed]",
      "text/plain": [
       "<Figure size 1080x432 with 2 Axes>"
      ]
     },
     "metadata": {
      "needs_background": "light"
     },
     "output_type": "display_data"
    }
   ],
   "source": [
    "print(train_data.Survived.describe())\n",
    "plt.figure(figsize=(15, 6))\n",
    "plt.subplot(1,2,1)\n",
    "sns.histplot(x=train_data.Survived, color='mediumvioletred')\n",
    "plt.subplot(1,2,2)\n",
    "plt.pie(x=train_data.Survived.value_counts(),labels =['no','yes'],autopct='%1.2f%%',colors = ['#ff9999','#99ff99'])\n",
    "plt.title('Survived, 1=Yes, 0=No')\n",
    "plt.show()"
   ]
  },
  {
   "cell_type": "markdown",
   "id": "852b0ca7",
   "metadata": {
    "papermill": {
     "duration": 0.029854,
     "end_time": "2022-10-23T00:45:56.011533",
     "exception": false,
     "start_time": "2022-10-23T00:45:55.981679",
     "status": "completed"
    },
    "tags": []
   },
   "source": [
    "Inference: 61% of the people survived  and 38% did not survive.\n",
    "\n",
    "### 2.Passenger Class Variable (Pclass)"
   ]
  },
  {
   "cell_type": "code",
   "execution_count": 21,
   "id": "9ef32d26",
   "metadata": {
    "execution": {
     "iopub.execute_input": "2022-10-23T00:45:56.074553Z",
     "iopub.status.busy": "2022-10-23T00:45:56.073273Z",
     "iopub.status.idle": "2022-10-23T00:45:56.082226Z",
     "shell.execute_reply": "2022-10-23T00:45:56.081336Z"
    },
    "papermill": {
     "duration": 0.043094,
     "end_time": "2022-10-23T00:45:56.084419",
     "exception": false,
     "start_time": "2022-10-23T00:45:56.041325",
     "status": "completed"
    },
    "tags": []
   },
   "outputs": [
    {
     "data": {
      "text/plain": [
       "array([3, 1, 2])"
      ]
     },
     "execution_count": 21,
     "metadata": {},
     "output_type": "execute_result"
    }
   ],
   "source": [
    "train_data.Pclass.unique()"
   ]
  },
  {
   "cell_type": "code",
   "execution_count": 22,
   "id": "36291443",
   "metadata": {
    "execution": {
     "iopub.execute_input": "2022-10-23T00:45:56.148836Z",
     "iopub.status.busy": "2022-10-23T00:45:56.147633Z",
     "iopub.status.idle": "2022-10-23T00:45:56.420721Z",
     "shell.execute_reply": "2022-10-23T00:45:56.419573Z"
    },
    "papermill": {
     "duration": 0.307594,
     "end_time": "2022-10-23T00:45:56.423117",
     "exception": false,
     "start_time": "2022-10-23T00:45:56.115523",
     "status": "completed"
    },
    "scrolled": true,
    "tags": []
   },
   "outputs": [
    {
     "name": "stdout",
     "output_type": "stream",
     "text": [
      "count    711.000000\n",
      "mean       2.286920\n",
      "std        0.845425\n",
      "min        1.000000\n",
      "25%        1.000000\n",
      "50%        3.000000\n",
      "75%        3.000000\n",
      "max        3.000000\n",
      "Name: Pclass, dtype: float64\n"
     ]
    },
    {
     "data": {
      "image/png": "[encoded data removed]",
      "text/plain": [
       "<Figure size 1080x432 with 2 Axes>"
      ]
     },
     "metadata": {
      "needs_background": "light"
     },
     "output_type": "display_data"
    }
   ],
   "source": [
    "print(train_data.Pclass.describe())\n",
    "plt.figure(figsize=(15, 6))\n",
    "plt.subplot(1,2,1)\n",
    "sns.histplot(x=train_data.Pclass, color='mediumvioletred')\n",
    "plt.subplot(1,2,2)\n",
    "plt.pie(x=train_data.Pclass.value_counts(),labels =['Lower Class','Upper Class','Middle Class'],autopct='%1.2f%%',colors = ['#ff9999','#99ff99','#66b3ff'])\n",
    "plt.title('Passenger Class')\n",
    "plt.show()"
   ]
  },
  {
   "cell_type": "markdown",
   "id": "0c49dbd0",
   "metadata": {
    "papermill": {
     "duration": 0.032034,
     "end_time": "2022-10-23T00:45:56.487622",
     "exception": false,
     "start_time": "2022-10-23T00:45:56.455588",
     "status": "completed"
    },
    "tags": []
   },
   "source": [
    "There are three passenger Classes: 1,2,3. Upper Middle and Lower according to the socio-economic status. We can see that more than half of the passengers (55%) belong to the lower class, then comes the Upper Class (24%) and then the Middle Class (21%)"
   ]
  },
  {
   "cell_type": "code",
   "execution_count": 23,
   "id": "d0070fb8",
   "metadata": {
    "execution": {
     "iopub.execute_input": "2022-10-23T00:45:56.554557Z",
     "iopub.status.busy": "2022-10-23T00:45:56.553326Z",
     "iopub.status.idle": "2022-10-23T00:45:56.579310Z",
     "shell.execute_reply": "2022-10-23T00:45:56.577852Z"
    },
    "papermill": {
     "duration": 0.062515,
     "end_time": "2022-10-23T00:45:56.582544",
     "exception": false,
     "start_time": "2022-10-23T00:45:56.520029",
     "status": "completed"
    },
    "tags": []
   },
   "outputs": [
    {
     "name": "stdout",
     "output_type": "stream",
     "text": [
      "Pclass      1   2    3\n",
      "Survived              \n",
      "0          66  76  293\n",
      "1         115  69   92\n"
     ]
    }
   ],
   "source": [
    "#Passenger Class Analysis with respect to the Target Variable\n",
    "#Count of survivors by class\n",
    "table = pd.crosstab(train_data['Survived'],train_data['Pclass'])\n",
    "print(table)"
   ]
  },
  {
   "cell_type": "code",
   "execution_count": 24,
   "id": "4c9f323f",
   "metadata": {
    "execution": {
     "iopub.execute_input": "2022-10-23T00:45:56.649557Z",
     "iopub.status.busy": "2022-10-23T00:45:56.649141Z",
     "iopub.status.idle": "2022-10-23T00:45:56.658578Z",
     "shell.execute_reply": "2022-10-23T00:45:56.657022Z"
    },
    "papermill": {
     "duration": 0.045868,
     "end_time": "2022-10-23T00:45:56.661010",
     "exception": false,
     "start_time": "2022-10-23T00:45:56.615142",
     "status": "completed"
    },
    "scrolled": true,
    "tags": []
   },
   "outputs": [
    {
     "name": "stdout",
     "output_type": "stream",
     "text": [
      "Pclass\n",
      "1    0.635359\n",
      "2    0.475862\n",
      "3    0.238961\n",
      "Name: Survived, dtype: float64\n"
     ]
    }
   ],
   "source": [
    "#Proportion of survivors by class\n",
    "print(train_data.groupby('Pclass').Survived.mean())"
   ]
  },
  {
   "cell_type": "code",
   "execution_count": 25,
   "id": "e18b5ec8",
   "metadata": {
    "execution": {
     "iopub.execute_input": "2022-10-23T00:45:56.727383Z",
     "iopub.status.busy": "2022-10-23T00:45:56.726876Z",
     "iopub.status.idle": "2022-10-23T00:45:56.966724Z",
     "shell.execute_reply": "2022-10-23T00:45:56.965507Z"
    },
    "papermill": {
     "duration": 0.275931,
     "end_time": "2022-10-23T00:45:56.969278",
     "exception": false,
     "start_time": "2022-10-23T00:45:56.693347",
     "status": "completed"
    },
    "tags": []
   },
   "outputs": [
    {
     "data": {
      "image/png": "[encoded data removed]",
      "text/plain": [
       "<Figure size 720x360 with 2 Axes>"
      ]
     },
     "metadata": {
      "needs_background": "light"
     },
     "output_type": "display_data"
    }
   ],
   "source": [
    "#Visualistaion of the Fare Variable with respect to the target variable\n",
    "\n",
    "# calculate values for each survival status\n",
    "survivors_data = train_data[train_data.Survived==True]\n",
    "non_survivors_data = train_data[train_data.Survived==False]\n",
    "survivors_class = survivors_data.groupby(['Pclass']).size().values\n",
    "non_survivors_class = non_survivors_data.groupby(['Pclass']).size().values\n",
    "\n",
    "# calculate totals for percentates\n",
    "totals = survivors_class + non_survivors_class\n",
    "\n",
    "# use calculate_percentage_function to calculate percentage of the total\n",
    "def as_percent(val, precision='0.2'):\n",
    "    \"\"\"Convert number to percentage string.\"\"\"\n",
    "    if isinstance(val, Number):\n",
    "        return \"{{:{}%}}\".format(precision).format(val)\n",
    "    else:\n",
    "        raise TypeError(\"Numeric type required\")\n",
    "\n",
    "def calculate_percentage(val, total, format_percent = False):\n",
    "    \"\"\"Calculates the percentage of a value over a total\"\"\"\n",
    "    percent = np.divide(val, total, dtype=float)\n",
    "    if format_percent:\n",
    "        percent = as_percent(percent)\n",
    "    return percent\n",
    "data1_percentages = calculate_percentage(survivors_class, totals)*100 \n",
    "data2_percentages = calculate_percentage(non_survivors_class, totals)*100 \n",
    "\n",
    "\n",
    "class_categories = ['Upper Class','Middle Class','Lower Class' ]\n",
    "\n",
    "\n",
    "f, (ax1, ax2) = plt.subplots(1, 2, figsize=(10,5))\n",
    "# plot chart for count of survivors by class\n",
    "ax1.bar(range(len(survivors_class)), survivors_class, label='Survivors', alpha=0.5, color='c')\n",
    "ax1.bar(range(len(non_survivors_class)), non_survivors_class, bottom=survivors_class, label='Non-Survivors', alpha=0.5, color='k')\n",
    "plt.sca(ax1)\n",
    "plt.xticks([0.4, 1.4, 2.4], class_categories )\n",
    "ax1.set_ylabel(\"Count\")\n",
    "ax1.set_xlabel(\"\")\n",
    "ax1.set_title(\"Count of survivors by class\",fontsize=14)\n",
    "plt.legend(loc='upper right')\n",
    "\n",
    "# plot chart for percentage of survivors by class\n",
    "ax2.bar(range(len(data1_percentages)), data1_percentages, alpha=0.5, color='c')\n",
    "ax2.bar(range(len(data2_percentages)), data2_percentages, bottom=data1_percentages, alpha=0.5, color='k')\n",
    "plt.sca(ax2)\n",
    "plt.xticks([0.4, 1.4, 2.4],  class_categories)\n",
    "ax2.set_ylabel(\"Percentage\")\n",
    "ax2.set_xlabel(\"\")\n",
    "ax2.set_title(\"% of survivors by class\",fontsize=14)\n",
    "plt.show()"
   ]
  },
  {
   "cell_type": "markdown",
   "id": "554507fe",
   "metadata": {
    "papermill": {
     "duration": 0.031419,
     "end_time": "2022-10-23T00:45:57.032109",
     "exception": false,
     "start_time": "2022-10-23T00:45:57.000690",
     "status": "completed"
    },
    "tags": []
   },
   "source": [
    "#### Inference:\n",
    "The graphs above show that whilst the lower class had more passengers, than all classes, and more survivors than the middle class, the lower class had the lowest survival rate. The Upper Class passengers had the highest survival rate\n",
    "\n",
    "### 3.The Fare Variable."
   ]
  },
  {
   "cell_type": "code",
   "execution_count": 26,
   "id": "61dfa2a8",
   "metadata": {
    "execution": {
     "iopub.execute_input": "2022-10-23T00:45:57.097314Z",
     "iopub.status.busy": "2022-10-23T00:45:57.096894Z",
     "iopub.status.idle": "2022-10-23T00:45:57.491784Z",
     "shell.execute_reply": "2022-10-23T00:45:57.490854Z"
    },
    "papermill": {
     "duration": 0.43001,
     "end_time": "2022-10-23T00:45:57.494237",
     "exception": false,
     "start_time": "2022-10-23T00:45:57.064227",
     "status": "completed"
    },
    "tags": []
   },
   "outputs": [
    {
     "name": "stdout",
     "output_type": "stream",
     "text": [
      "count    711.000000\n",
      "mean      33.018149\n",
      "std       50.097410\n",
      "min        0.000000\n",
      "25%        7.925000\n",
      "50%       14.500000\n",
      "75%       31.331250\n",
      "max      512.329200\n",
      "Name: Fare, dtype: float64\n"
     ]
    },
    {
     "data": {
      "image/png": "[encoded data removed]",
      "text/plain": [
       "<Figure size 1080x432 with 2 Axes>"
      ]
     },
     "metadata": {
      "needs_background": "light"
     },
     "output_type": "display_data"
    }
   ],
   "source": [
    "#Visualising the Fare Variable which is a continuous variable\n",
    "print(train_data.Fare.describe())\n",
    "plt.figure(figsize=(15, 6))\n",
    "plt.subplot(1,2,1)\n",
    "sns.histplot(x=train_data.Fare, color='mediumvioletred')\n",
    "plt.subplot(1,2,2)\n",
    "plt.boxplot(train_data.Fare)\n",
    "plt.show()"
   ]
  },
  {
   "cell_type": "markdown",
   "id": "1fa47fba",
   "metadata": {
    "papermill": {
     "duration": 0.032257,
     "end_time": "2022-10-23T00:45:57.558876",
     "exception": false,
     "start_time": "2022-10-23T00:45:57.526619",
     "status": "completed"
    },
    "tags": []
   },
   "source": [
    "The Fare Variable shows the ticket fare in USD. The most expensive ticket was sold for 512 USD. The minimum value is zero, which may be showing the crew members who are alloted a cabin but were not charged the ticket fare. The mean value is 32 and median value is 14. We can handle the zero values with the median value. Mean value is not used since there are outliers which could have hightened the mean value. Thus doing the same."
   ]
  },
  {
   "cell_type": "code",
   "execution_count": 27,
   "id": "54180db6",
   "metadata": {
    "execution": {
     "iopub.execute_input": "2022-10-23T00:45:57.627903Z",
     "iopub.status.busy": "2022-10-23T00:45:57.627483Z",
     "iopub.status.idle": "2022-10-23T00:45:57.632827Z",
     "shell.execute_reply": "2022-10-23T00:45:57.631999Z"
    },
    "papermill": {
     "duration": 0.042814,
     "end_time": "2022-10-23T00:45:57.635198",
     "exception": false,
     "start_time": "2022-10-23T00:45:57.592384",
     "status": "completed"
    },
    "tags": []
   },
   "outputs": [],
   "source": [
    "#First converting the zero values into NaN\n",
    "train_data['Fare'] = train_data.Fare.replace(0,np.NaN) "
   ]
  },
  {
   "cell_type": "code",
   "execution_count": 28,
   "id": "5209a457",
   "metadata": {
    "execution": {
     "iopub.execute_input": "2022-10-23T00:45:57.703476Z",
     "iopub.status.busy": "2022-10-23T00:45:57.702608Z",
     "iopub.status.idle": "2022-10-23T00:45:57.709961Z",
     "shell.execute_reply": "2022-10-23T00:45:57.709245Z"
    },
    "papermill": {
     "duration": 0.043396,
     "end_time": "2022-10-23T00:45:57.711713",
     "exception": false,
     "start_time": "2022-10-23T00:45:57.668317",
     "status": "completed"
    },
    "tags": []
   },
   "outputs": [
    {
     "data": {
      "text/plain": [
       "9"
      ]
     },
     "execution_count": 28,
     "metadata": {},
     "output_type": "execute_result"
    }
   ],
   "source": [
    "train_data['Fare'].isnull().sum()"
   ]
  },
  {
   "cell_type": "code",
   "execution_count": 29,
   "id": "c833e0d1",
   "metadata": {
    "execution": {
     "iopub.execute_input": "2022-10-23T00:45:57.778676Z",
     "iopub.status.busy": "2022-10-23T00:45:57.777911Z",
     "iopub.status.idle": "2022-10-23T00:45:57.783407Z",
     "shell.execute_reply": "2022-10-23T00:45:57.782671Z"
    },
    "papermill": {
     "duration": 0.04208,
     "end_time": "2022-10-23T00:45:57.785517",
     "exception": false,
     "start_time": "2022-10-23T00:45:57.743437",
     "status": "completed"
    },
    "tags": []
   },
   "outputs": [],
   "source": [
    "#Imputing the NaN Values with the median value\n",
    "train_data.Fare.fillna(test_data.Age.median(),inplace=True)"
   ]
  },
  {
   "cell_type": "code",
   "execution_count": 30,
   "id": "dd344769",
   "metadata": {
    "execution": {
     "iopub.execute_input": "2022-10-23T00:45:57.853257Z",
     "iopub.status.busy": "2022-10-23T00:45:57.852532Z",
     "iopub.status.idle": "2022-10-23T00:45:57.859053Z",
     "shell.execute_reply": "2022-10-23T00:45:57.858206Z"
    },
    "papermill": {
     "duration": 0.042604,
     "end_time": "2022-10-23T00:45:57.861079",
     "exception": false,
     "start_time": "2022-10-23T00:45:57.818475",
     "status": "completed"
    },
    "tags": []
   },
   "outputs": [
    {
     "data": {
      "text/plain": [
       "0"
      ]
     },
     "execution_count": 30,
     "metadata": {},
     "output_type": "execute_result"
    }
   ],
   "source": [
    "train_data['Fare'].isnull().sum()"
   ]
  },
  {
   "cell_type": "markdown",
   "id": "40833f89",
   "metadata": {
    "papermill": {
     "duration": 0.031439,
     "end_time": "2022-10-23T00:45:57.925479",
     "exception": false,
     "start_time": "2022-10-23T00:45:57.894040",
     "status": "completed"
    },
    "tags": []
   },
   "source": [
    "#### There can be an interdependence between PClass and Fare. Plotting the same"
   ]
  },
  {
   "cell_type": "code",
   "execution_count": 31,
   "id": "2f97199d",
   "metadata": {
    "execution": {
     "iopub.execute_input": "2022-10-23T00:45:57.991628Z",
     "iopub.status.busy": "2022-10-23T00:45:57.990922Z",
     "iopub.status.idle": "2022-10-23T00:45:58.262183Z",
     "shell.execute_reply": "2022-10-23T00:45:58.261007Z"
    },
    "papermill": {
     "duration": 0.307415,
     "end_time": "2022-10-23T00:45:58.264737",
     "exception": false,
     "start_time": "2022-10-23T00:45:57.957322",
     "status": "completed"
    },
    "tags": []
   },
   "outputs": [
    {
     "data": {
      "text/plain": [
       "<AxesSubplot:xlabel='Fare', ylabel='Count'>"
      ]
     },
     "execution_count": 31,
     "metadata": {},
     "output_type": "execute_result"
    },
    {
     "data": {
      "image/png": "[encoded data removed]",
      "text/plain": [
       "<Figure size 432x288 with 1 Axes>"
      ]
     },
     "metadata": {
      "needs_background": "light"
     },
     "output_type": "display_data"
    }
   ],
   "source": [
    "sns.histplot(data=train_data, x='Fare', hue='Pclass',binwidth=50, element=\"poly\")"
   ]
  },
  {
   "cell_type": "markdown",
   "id": "a4b44bbd",
   "metadata": {
    "papermill": {
     "duration": 0.031883,
     "end_time": "2022-10-23T00:45:58.329727",
     "exception": false,
     "start_time": "2022-10-23T00:45:58.297844",
     "status": "completed"
    },
    "tags": []
   },
   "source": [
    "This can be inferred that Passenger Class 1 has bought the costliest as well as cheap tickets. Both Passenger Class 2 and 3 have bought the cheap tickets. However, no interdependence of both variables on each other is evident.\n",
    "\n",
    "###  4. Sex Variable"
   ]
  },
  {
   "cell_type": "code",
   "execution_count": 32,
   "id": "aeab0f21",
   "metadata": {
    "execution": {
     "iopub.execute_input": "2022-10-23T00:45:58.396774Z",
     "iopub.status.busy": "2022-10-23T00:45:58.396369Z",
     "iopub.status.idle": "2022-10-23T00:45:58.505476Z",
     "shell.execute_reply": "2022-10-23T00:45:58.503838Z"
    },
    "papermill": {
     "duration": 0.146986,
     "end_time": "2022-10-23T00:45:58.509408",
     "exception": false,
     "start_time": "2022-10-23T00:45:58.362422",
     "status": "completed"
    },
    "tags": []
   },
   "outputs": [
    {
     "name": "stdout",
     "output_type": "stream",
     "text": [
      "count      711\n",
      "unique       2\n",
      "top       male\n",
      "freq       460\n",
      "Name: Sex, dtype: object\n"
     ]
    },
    {
     "data": {
      "image/png": "[encoded data removed]",
      "text/plain": [
       "<Figure size 1080x432 with 1 Axes>"
      ]
     },
     "metadata": {},
     "output_type": "display_data"
    }
   ],
   "source": [
    "print(train_data.Sex.describe())\n",
    "plt.figure(figsize=(15, 6))\n",
    "plt.pie(x=train_data.Sex.value_counts(),labels =['Male','Female'],autopct='%1.2f%%',colors = ['#ff9999','#99ff99'])\n",
    "plt.title('Percentage Distribution')\n",
    "plt.show()"
   ]
  },
  {
   "cell_type": "code",
   "execution_count": 33,
   "id": "c0f5819f",
   "metadata": {
    "execution": {
     "iopub.execute_input": "2022-10-23T00:45:58.618090Z",
     "iopub.status.busy": "2022-10-23T00:45:58.617412Z",
     "iopub.status.idle": "2022-10-23T00:45:58.633921Z",
     "shell.execute_reply": "2022-10-23T00:45:58.633049Z"
    },
    "papermill": {
     "duration": 0.052634,
     "end_time": "2022-10-23T00:45:58.636018",
     "exception": false,
     "start_time": "2022-10-23T00:45:58.583384",
     "status": "completed"
    },
    "scrolled": true,
    "tags": []
   },
   "outputs": [
    {
     "name": "stdout",
     "output_type": "stream",
     "text": [
      "Sex       female  male\n",
      "Survived              \n",
      "0             65   370\n",
      "1            186    90\n"
     ]
    }
   ],
   "source": [
    "#Count of Survivors by Gender\n",
    "table = pd.crosstab(train_data['Survived'],train_data['Sex'])\n",
    "print(table)"
   ]
  },
  {
   "cell_type": "code",
   "execution_count": 34,
   "id": "c7e5562f",
   "metadata": {
    "execution": {
     "iopub.execute_input": "2022-10-23T00:45:58.705236Z",
     "iopub.status.busy": "2022-10-23T00:45:58.704522Z",
     "iopub.status.idle": "2022-10-23T00:45:58.711927Z",
     "shell.execute_reply": "2022-10-23T00:45:58.710871Z"
    },
    "papermill": {
     "duration": 0.044944,
     "end_time": "2022-10-23T00:45:58.714279",
     "exception": false,
     "start_time": "2022-10-23T00:45:58.669335",
     "status": "completed"
    },
    "tags": []
   },
   "outputs": [
    {
     "name": "stdout",
     "output_type": "stream",
     "text": [
      "Sex\n",
      "female    0.741036\n",
      "male      0.195652\n",
      "Name: Survived, dtype: float64\n"
     ]
    }
   ],
   "source": [
    "#Proportion of survivors by Gender\n",
    "print(train_data.groupby('Sex').Survived.mean())"
   ]
  },
  {
   "cell_type": "code",
   "execution_count": 35,
   "id": "a6e46500",
   "metadata": {
    "execution": {
     "iopub.execute_input": "2022-10-23T00:45:58.784390Z",
     "iopub.status.busy": "2022-10-23T00:45:58.783377Z",
     "iopub.status.idle": "2022-10-23T00:45:59.049322Z",
     "shell.execute_reply": "2022-10-23T00:45:59.047891Z"
    },
    "papermill": {
     "duration": 0.302929,
     "end_time": "2022-10-23T00:45:59.051762",
     "exception": false,
     "start_time": "2022-10-23T00:45:58.748833",
     "status": "completed"
    },
    "tags": []
   },
   "outputs": [
    {
     "data": {
      "image/png": "[encoded data removed]",
      "text/plain": [
       "<Figure size 720x360 with 2 Axes>"
      ]
     },
     "metadata": {
      "needs_background": "light"
     },
     "output_type": "display_data"
    }
   ],
   "source": [
    "# calculate values for each survival status\n",
    "survivors_gender = survivors_data.groupby(['Sex']).size().values\n",
    "non_survivors_gender = non_survivors_data.groupby(['Sex']).size().values\n",
    "\n",
    "# calculate totals for percentates\n",
    "totals = survivors_gender + non_survivors_gender\n",
    "\n",
    "# use calculate_percentage_function to calculate percentage of the total\n",
    "data1_percentages = calculate_percentage(survivors_gender, totals)*100 \n",
    "data2_percentages = calculate_percentage(non_survivors_gender, totals)*100 \n",
    "\n",
    "gender_categories = ['Female', 'Male']\n",
    "\n",
    "f, (ax1, ax2) = plt.subplots(1, 2, figsize=(10,5))\n",
    "# plot chart for count of survivors by class\n",
    "ax1.bar(range(len(survivors_gender)), survivors_gender, label='Survivors', alpha=0.5, color='c')\n",
    "ax1.bar(range(len(non_survivors_gender)), non_survivors_gender, bottom=survivors_gender, label='Non-Survivors', alpha=0.5, color='k')\n",
    "plt.sca(ax1)\n",
    "plt.xticks([0.4, 1.4], gender_categories )\n",
    "ax1.set_ylabel(\"Count\")\n",
    "ax1.set_xlabel(\"\")\n",
    "ax1.set_title(\"Count of survivors by gender\",fontsize=14)\n",
    "plt.legend(loc='upper left')\n",
    "\n",
    "# plot chart for percentage of survivors by class\n",
    "ax2.bar(range(len(data1_percentages)), data1_percentages, alpha=0.5, color='c')\n",
    "ax2.bar(range(len(data2_percentages)), data2_percentages, bottom=data1_percentages, alpha=0.5, color='k')\n",
    "plt.sca(ax2)\n",
    "plt.xticks([0.4, 1.4],  gender_categories)\n",
    "ax2.set_ylabel(\"Percentage\")\n",
    "ax2.set_xlabel(\"\")\n",
    "ax2.set_title(\"% of survivors by gender\",fontsize=14)\n",
    "plt.show()"
   ]
  },
  {
   "cell_type": "markdown",
   "id": "089fd7e1",
   "metadata": {
    "papermill": {
     "duration": 0.033341,
     "end_time": "2022-10-23T00:45:59.120593",
     "exception": false,
     "start_time": "2022-10-23T00:45:59.087252",
     "status": "completed"
    },
    "tags": []
   },
   "source": [
    "Inference: There are 65% males and 35% females. Most of the males lost their lives while most of the females survived.\n",
    "Females had a higher proportion (74.2%) of survivors compared to the proportion of males (18.9%). This shows that females had a greater rate of survival.\n",
    "\n",
    "### 5. Visualising the Age Variable."
   ]
  },
  {
   "cell_type": "code",
   "execution_count": 36,
   "id": "1e3738a5",
   "metadata": {
    "execution": {
     "iopub.execute_input": "2022-10-23T00:45:59.191429Z",
     "iopub.status.busy": "2022-10-23T00:45:59.190991Z",
     "iopub.status.idle": "2022-10-23T00:45:59.703914Z",
     "shell.execute_reply": "2022-10-23T00:45:59.702858Z"
    },
    "papermill": {
     "duration": 0.551137,
     "end_time": "2022-10-23T00:45:59.706354",
     "exception": false,
     "start_time": "2022-10-23T00:45:59.155217",
     "status": "completed"
    },
    "tags": []
   },
   "outputs": [
    {
     "name": "stdout",
     "output_type": "stream",
     "text": [
      "count    711.000000\n",
      "mean      29.794895\n",
      "std       13.332687\n",
      "min        0.420000\n",
      "25%       22.000000\n",
      "50%       29.000000\n",
      "75%       36.000000\n",
      "max       80.000000\n",
      "Name: Age, dtype: float64\n"
     ]
    },
    {
     "data": {
      "image/png": "[encoded data removed]",
      "text/plain": [
       "<Figure size 1080x432 with 2 Axes>"
      ]
     },
     "metadata": {
      "needs_background": "light"
     },
     "output_type": "display_data"
    }
   ],
   "source": [
    "print(train_data.Age.describe())\n",
    "plt.figure(figsize=(15, 6))\n",
    "plt.subplot(1,2,1)\n",
    "sns.histplot(x=train_data.Age, color='green')\n",
    "plt.subplot(1,2,2)\n",
    "plt.boxplot(train_data.Age)\n",
    "plt.show()"
   ]
  },
  {
   "cell_type": "code",
   "execution_count": 37,
   "id": "f8ea8606",
   "metadata": {
    "execution": {
     "iopub.execute_input": "2022-10-23T00:45:59.777636Z",
     "iopub.status.busy": "2022-10-23T00:45:59.777212Z",
     "iopub.status.idle": "2022-10-23T00:46:00.025646Z",
     "shell.execute_reply": "2022-10-23T00:46:00.024539Z"
    },
    "papermill": {
     "duration": 0.287013,
     "end_time": "2022-10-23T00:46:00.028200",
     "exception": false,
     "start_time": "2022-10-23T00:45:59.741187",
     "status": "completed"
    },
    "tags": []
   },
   "outputs": [
    {
     "data": {
      "image/png": "[encoded data removed]",
      "text/plain": [
       "<Figure size 432x288 with 1 Axes>"
      ]
     },
     "metadata": {
      "needs_background": "light"
     },
     "output_type": "display_data"
    }
   ],
   "source": [
    "#Binning the age groups\n",
    "age_labels = ['0-9', '10-19', '20-29', '30-39', '40-49', '50-59', '60-69', '70-79']\n",
    "train_data['age_group'] = pd.cut(train_data.Age, range(0, 81, 10), right=False, labels=age_labels)\n",
    "train_data.groupby(['age_group']).size().plot(kind='bar',stacked=True)\n",
    "plt.title(\"Distribution of Age Groups\",fontsize=14)\n",
    "plt.ylabel('Count')\n",
    "plt.xlabel('Age Group');"
   ]
  },
  {
   "cell_type": "markdown",
   "id": "7c5a2f45",
   "metadata": {
    "papermill": {
     "duration": 0.099132,
     "end_time": "2022-10-23T00:46:00.161352",
     "exception": false,
     "start_time": "2022-10-23T00:46:00.062220",
     "status": "completed"
    },
    "tags": []
   },
   "source": [
    "Inference: From the plot above we can see that the majority of passengers were aged between 20-29"
   ]
  },
  {
   "cell_type": "code",
   "execution_count": 38,
   "id": "1592cdfe",
   "metadata": {
    "execution": {
     "iopub.execute_input": "2022-10-23T00:46:00.231059Z",
     "iopub.status.busy": "2022-10-23T00:46:00.230495Z",
     "iopub.status.idle": "2022-10-23T00:46:00.238456Z",
     "shell.execute_reply": "2022-10-23T00:46:00.237135Z"
    },
    "papermill": {
     "duration": 0.045594,
     "end_time": "2022-10-23T00:46:00.240739",
     "exception": false,
     "start_time": "2022-10-23T00:46:00.195145",
     "status": "completed"
    },
    "tags": []
   },
   "outputs": [
    {
     "name": "stdout",
     "output_type": "stream",
     "text": [
      "age_group\n",
      "0-9      0.600000\n",
      "10-19    0.370370\n",
      "20-29    0.335463\n",
      "30-39    0.434109\n",
      "40-49    0.424658\n",
      "50-59    0.452381\n",
      "60-69    0.250000\n",
      "70-79    0.000000\n",
      "Name: Survived, dtype: float64\n"
     ]
    }
   ],
   "source": [
    "#Proportion of survivors by age group\n",
    "print(train_data.groupby(['age_group']).Survived.mean())"
   ]
  },
  {
   "cell_type": "code",
   "execution_count": 39,
   "id": "363564fd",
   "metadata": {
    "execution": {
     "iopub.execute_input": "2022-10-23T00:46:00.311779Z",
     "iopub.status.busy": "2022-10-23T00:46:00.311113Z",
     "iopub.status.idle": "2022-10-23T00:46:00.680385Z",
     "shell.execute_reply": "2022-10-23T00:46:00.679140Z"
    },
    "papermill": {
     "duration": 0.408257,
     "end_time": "2022-10-23T00:46:00.683028",
     "exception": false,
     "start_time": "2022-10-23T00:46:00.274771",
     "status": "completed"
    },
    "tags": []
   },
   "outputs": [
    {
     "data": {
      "image/png": "[encoded data removed]",
      "text/plain": [
       "<Figure size 720x360 with 2 Axes>"
      ]
     },
     "metadata": {
      "needs_background": "light"
     },
     "output_type": "display_data"
    }
   ],
   "source": [
    "#Visualizing Age Groups with Respect to Survival\n",
    "\n",
    "\n",
    "# calculate values for each survival status\n",
    "survivors_data['age_group'] = pd.cut(train_data.Age, range(0, 81, 10), right=False, labels=age_labels)\n",
    "non_survivors_data['age_group'] = pd.cut(train_data.Age, range(0, 81, 10), right=False, labels=age_labels)\n",
    "survivors_age_group = survivors_data.groupby(['age_group']).size().values\n",
    "non_survivors_age_group = non_survivors_data.groupby(['age_group']).size().values\n",
    "\n",
    "# calculate totals for percentates\n",
    "totals = survivors_age_group + non_survivors_age_group\n",
    "\n",
    "# use calculate_percentage_function to calculate percentage of the total\n",
    "data1_percentages = calculate_percentage(survivors_age_group, totals)*100 \n",
    "data2_percentages = calculate_percentage(non_survivors_age_group, totals)*100 \n",
    "\n",
    "\n",
    "tick_spacing = np.array(range(len(age_labels)))+0.4\n",
    "\n",
    "\n",
    "f, (ax1, ax2) = plt.subplots(1, 2, figsize=(10,5))\n",
    "# plot chart for count of survivors by class\n",
    "ax1.bar(range(len(survivors_age_group)), survivors_age_group, label='Survivors', alpha=0.5, color='c')\n",
    "ax1.bar(range(len(non_survivors_age_group)), non_survivors_age_group, bottom=survivors_age_group, label='Non-Survivors', alpha=0.5, color='k')\n",
    "plt.sca(ax1)\n",
    "plt.xticks(tick_spacing, age_labels )\n",
    "ax1.set_ylabel(\"Count\")\n",
    "ax1.set_xlabel(\"\")\n",
    "ax1.set_title(\"Count of survivors by age group\",fontsize=14)\n",
    "plt.legend(loc='upper right')\n",
    "\n",
    "# plot chart for percentage of survivors by class\n",
    "ax2.bar(range(len(data1_percentages)), data1_percentages, alpha=0.5, color='c')\n",
    "ax2.bar(range(len(data2_percentages)), data2_percentages, bottom=data1_percentages, alpha=0.5, color='k')\n",
    "plt.sca(ax2)\n",
    "plt.xticks(tick_spacing,  age_labels)\n",
    "ax2.set_ylabel(\"Percentage\")\n",
    "ax2.set_xlabel(\"\")\n",
    "ax2.set_title(\"% of survivors by age group\",fontsize=14)\n",
    "plt.show()"
   ]
  },
  {
   "cell_type": "markdown",
   "id": "3f3bc8a7",
   "metadata": {
    "papermill": {
     "duration": 0.035134,
     "end_time": "2022-10-23T00:46:00.755493",
     "exception": false,
     "start_time": "2022-10-23T00:46:00.720359",
     "status": "completed"
    },
    "tags": []
   },
   "source": [
    "Inference: When looking at proportions and percentages of survivors per age group, it shows that there was similar proportion of survival for all age groups except for the last age group of 70-79 where none of the passengers survived. Consideration of the gender of the passengers as well in this analysis is required."
   ]
  },
  {
   "cell_type": "code",
   "execution_count": 40,
   "id": "68e32e24",
   "metadata": {
    "execution": {
     "iopub.execute_input": "2022-10-23T00:46:00.827899Z",
     "iopub.status.busy": "2022-10-23T00:46:00.827531Z",
     "iopub.status.idle": "2022-10-23T00:46:00.840257Z",
     "shell.execute_reply": "2022-10-23T00:46:00.838770Z"
    },
    "papermill": {
     "duration": 0.052342,
     "end_time": "2022-10-23T00:46:00.842924",
     "exception": false,
     "start_time": "2022-10-23T00:46:00.790582",
     "status": "completed"
    },
    "tags": []
   },
   "outputs": [
    {
     "name": "stdout",
     "output_type": "stream",
     "text": [
      "Sex     age_group\n",
      "female  0-9          0.636364\n",
      "        10-19        0.714286\n",
      "        20-29        0.690000\n",
      "        30-39        0.847826\n",
      "        40-49        0.724138\n",
      "        50-59        0.941176\n",
      "        60-69        1.000000\n",
      "        70-79             NaN\n",
      "male    0-9          0.571429\n",
      "        10-19        0.108696\n",
      "        20-29        0.169014\n",
      "        30-39        0.204819\n",
      "        40-49        0.227273\n",
      "        50-59        0.120000\n",
      "        60-69        0.142857\n",
      "        70-79        0.000000\n",
      "Name: Survived, dtype: float64\n"
     ]
    }
   ],
   "source": [
    "#Proportion of Survivors by age group as well as gender\n",
    "print(train_data.groupby(['Sex','age_group']).Survived.mean())"
   ]
  },
  {
   "cell_type": "code",
   "execution_count": 41,
   "id": "d8926d91",
   "metadata": {
    "execution": {
     "iopub.execute_input": "2022-10-23T00:46:00.916058Z",
     "iopub.status.busy": "2022-10-23T00:46:00.915612Z",
     "iopub.status.idle": "2022-10-23T00:46:01.166008Z",
     "shell.execute_reply": "2022-10-23T00:46:01.165136Z"
    },
    "papermill": {
     "duration": 0.289891,
     "end_time": "2022-10-23T00:46:01.168449",
     "exception": false,
     "start_time": "2022-10-23T00:46:00.878558",
     "status": "completed"
    },
    "tags": []
   },
   "outputs": [
    {
     "data": {
      "image/png": "[encoded data removed]",
      "text/plain": [
       "<Figure size 432x288 with 1 Axes>"
      ]
     },
     "metadata": {
      "needs_background": "light"
     },
     "output_type": "display_data"
    }
   ],
   "source": [
    "#Visualizing\n",
    "male_data = train_data[train_data.Sex == \"male\"].groupby('age_group').Survived.mean().values\n",
    "female_data = train_data[train_data.Sex == \"female\"].groupby('age_group').Survived.mean().values\n",
    "ax = plt.subplot()\n",
    "male_plt_position = np.array(range(len(age_labels)))\n",
    "female_plt_position = np.array(range(len(age_labels)))+0.4\n",
    "ax.bar(male_plt_position, male_data,width=0.4,label='Male',color='b')\n",
    "ax.bar(female_plt_position, female_data,width=0.4,label='Female',color='m')\n",
    "plt.xticks(tick_spacing,  age_labels)\n",
    "ax.set_ylabel(\"Proportion\")\n",
    "ax.set_xlabel(\"Age Group\")\n",
    "ax.set_title(\"Proportion of survivors by age group / Gender\",fontsize=14)\n",
    "plt.legend(loc='best')\n",
    "plt.show()"
   ]
  },
  {
   "cell_type": "markdown",
   "id": "6a9d00e6",
   "metadata": {
    "papermill": {
     "duration": 0.034266,
     "end_time": "2022-10-23T00:46:01.238092",
     "exception": false,
     "start_time": "2022-10-23T00:46:01.203826",
     "status": "completed"
    },
    "tags": []
   },
   "source": [
    "Inference: After relooking at the proportion of survivors by age group and gender, the data supports notion of women and children to be given preferential treatment over men. The plot \"Proportion of survivors by age group / gender\", shows that children (0-9 years old, male and female) and women (all ages) had a much higher proportion of survivors. This supports the notion of the seats in the lifeboats been given to Women and Children first.\n",
    "\n",
    "### 6. The Embarked Variable\n",
    "\n",
    "This variable gives the name of the port of Embarkation of the speific passenger."
   ]
  },
  {
   "cell_type": "code",
   "execution_count": 42,
   "id": "2f3e961d",
   "metadata": {
    "execution": {
     "iopub.execute_input": "2022-10-23T00:46:01.310019Z",
     "iopub.status.busy": "2022-10-23T00:46:01.308931Z",
     "iopub.status.idle": "2022-10-23T00:46:01.316428Z",
     "shell.execute_reply": "2022-10-23T00:46:01.315559Z"
    },
    "papermill": {
     "duration": 0.045424,
     "end_time": "2022-10-23T00:46:01.318403",
     "exception": false,
     "start_time": "2022-10-23T00:46:01.272979",
     "status": "completed"
    },
    "tags": []
   },
   "outputs": [
    {
     "data": {
      "text/plain": [
       "array(['S', 'C', 'Q'], dtype=object)"
      ]
     },
     "execution_count": 42,
     "metadata": {},
     "output_type": "execute_result"
    }
   ],
   "source": [
    "train_data.Embarked.unique()"
   ]
  },
  {
   "cell_type": "markdown",
   "id": "b0466c98",
   "metadata": {
    "papermill": {
     "duration": 0.034901,
     "end_time": "2022-10-23T00:46:01.388194",
     "exception": false,
     "start_time": "2022-10-23T00:46:01.353293",
     "status": "completed"
    },
    "tags": []
   },
   "source": [
    "S stands for Southampton\n",
    "C stands for Chebourg\n",
    "Q stands for Queenstown\n",
    "\n",
    "Thus mapping the same"
   ]
  },
  {
   "cell_type": "code",
   "execution_count": 43,
   "id": "6e64103d",
   "metadata": {
    "execution": {
     "iopub.execute_input": "2022-10-23T00:46:01.461535Z",
     "iopub.status.busy": "2022-10-23T00:46:01.460462Z",
     "iopub.status.idle": "2022-10-23T00:46:01.470583Z",
     "shell.execute_reply": "2022-10-23T00:46:01.469657Z"
    },
    "papermill": {
     "duration": 0.048468,
     "end_time": "2022-10-23T00:46:01.472629",
     "exception": false,
     "start_time": "2022-10-23T00:46:01.424161",
     "status": "completed"
    },
    "tags": []
   },
   "outputs": [
    {
     "data": {
      "text/plain": [
       "array(['Southampton', 'Cherbourg', 'Queenstown'], dtype=object)"
      ]
     },
     "execution_count": 43,
     "metadata": {},
     "output_type": "execute_result"
    }
   ],
   "source": [
    "def map_data(df):\n",
    "    #Function which takes the original dataframe and returns a clean / updated dataframe\n",
    "    port_map = {'S': 'Southampton', 'C': 'Cherbourg','Q':'Queenstown'}\n",
    "    df['Embarked'] = df['Embarked'].map(port_map)\n",
    "    \n",
    "    return df\n",
    "\n",
    "train_data = map_data(train_data)\n",
    "\n",
    "#Checking\n",
    "train_data.Embarked.unique()"
   ]
  },
  {
   "cell_type": "code",
   "execution_count": 44,
   "id": "e2d9686b",
   "metadata": {
    "execution": {
     "iopub.execute_input": "2022-10-23T00:46:01.546183Z",
     "iopub.status.busy": "2022-10-23T00:46:01.544938Z",
     "iopub.status.idle": "2022-10-23T00:46:01.824674Z",
     "shell.execute_reply": "2022-10-23T00:46:01.823521Z"
    },
    "papermill": {
     "duration": 0.318791,
     "end_time": "2022-10-23T00:46:01.827094",
     "exception": false,
     "start_time": "2022-10-23T00:46:01.508303",
     "status": "completed"
    },
    "tags": []
   },
   "outputs": [
    {
     "data": {
      "image/png": "[encoded data removed]",
      "text/plain": [
       "<Figure size 1080x432 with 2 Axes>"
      ]
     },
     "metadata": {
      "needs_background": "light"
     },
     "output_type": "display_data"
    }
   ],
   "source": [
    "plt.figure(figsize=(15, 6))\n",
    "plt.subplot(1,2,1)\n",
    "sns.histplot(x=train_data.Embarked, color='mediumvioletred')\n",
    "plt.subplot(1,2,2)\n",
    "plt.pie(x=train_data.Embarked.value_counts(),labels =train_data.Embarked.unique(),autopct='%1.2f%%',colors = ['#ff9999','#99ff99','#66b3ff'])\n",
    "plt.title('Embarkation Port')\n",
    "plt.show()"
   ]
  },
  {
   "cell_type": "code",
   "execution_count": 45,
   "id": "3f5bf730",
   "metadata": {
    "execution": {
     "iopub.execute_input": "2022-10-23T00:46:01.902178Z",
     "iopub.status.busy": "2022-10-23T00:46:01.901108Z",
     "iopub.status.idle": "2022-10-23T00:46:01.919565Z",
     "shell.execute_reply": "2022-10-23T00:46:01.918127Z"
    },
    "papermill": {
     "duration": 0.058333,
     "end_time": "2022-10-23T00:46:01.921714",
     "exception": false,
     "start_time": "2022-10-23T00:46:01.863381",
     "status": "completed"
    },
    "tags": []
   },
   "outputs": [
    {
     "name": "stdout",
     "output_type": "stream",
     "text": [
      "Embarked  Cherbourg  Queenstown  Southampton\n",
      "Survived                                    \n",
      "0                65          34          336\n",
      "1                75          18          183\n"
     ]
    }
   ],
   "source": [
    "#Count of Survivors by Embarked\n",
    "table = pd.crosstab(train_data['Survived'],train_data['Embarked'])\n",
    "print(table)"
   ]
  },
  {
   "cell_type": "code",
   "execution_count": 46,
   "id": "352d59fb",
   "metadata": {
    "execution": {
     "iopub.execute_input": "2022-10-23T00:46:01.997705Z",
     "iopub.status.busy": "2022-10-23T00:46:01.996985Z",
     "iopub.status.idle": "2022-10-23T00:46:02.004891Z",
     "shell.execute_reply": "2022-10-23T00:46:02.003245Z"
    },
    "papermill": {
     "duration": 0.048223,
     "end_time": "2022-10-23T00:46:02.007841",
     "exception": false,
     "start_time": "2022-10-23T00:46:01.959618",
     "status": "completed"
    },
    "tags": []
   },
   "outputs": [
    {
     "name": "stdout",
     "output_type": "stream",
     "text": [
      "Embarked\n",
      "Cherbourg      0.535714\n",
      "Queenstown     0.346154\n",
      "Southampton    0.352601\n",
      "Name: Survived, dtype: float64\n"
     ]
    }
   ],
   "source": [
    "#Proportion of survivors by Embarked\n",
    "print(train_data.groupby(['Embarked']).Survived.mean())"
   ]
  },
  {
   "cell_type": "code",
   "execution_count": 47,
   "id": "a158f297",
   "metadata": {
    "execution": {
     "iopub.execute_input": "2022-10-23T00:46:02.083666Z",
     "iopub.status.busy": "2022-10-23T00:46:02.082634Z",
     "iopub.status.idle": "2022-10-23T00:46:02.372336Z",
     "shell.execute_reply": "2022-10-23T00:46:02.371444Z"
    },
    "papermill": {
     "duration": 0.328878,
     "end_time": "2022-10-23T00:46:02.374523",
     "exception": false,
     "start_time": "2022-10-23T00:46:02.045645",
     "status": "completed"
    },
    "tags": []
   },
   "outputs": [
    {
     "data": {
      "image/png": "[encoded data removed]",
      "text/plain": [
       "<Figure size 720x360 with 2 Axes>"
      ]
     },
     "metadata": {
      "needs_background": "light"
     },
     "output_type": "display_data"
    }
   ],
   "source": [
    "# calculate values for each survival status\n",
    "survivors_Emb = survivors_data.groupby(['Embarked']).size().values\n",
    "non_survivors_Emb = non_survivors_data.groupby(['Embarked']).size().values\n",
    "\n",
    "# calculate totals for percentates\n",
    "totals = survivors_Emb + non_survivors_Emb\n",
    "\n",
    "# use calculate_percentage_function to calculate percentage of the total\n",
    "data1_percentages = calculate_percentage(survivors_Emb, totals)*100 \n",
    "data2_percentages = calculate_percentage(non_survivors_Emb, totals)*100 \n",
    "\n",
    "Emb_categories = ['Chebourg','Queenstown','Southampton']\n",
    "\n",
    "f, (ax1, ax2) = plt.subplots(1, 2, figsize=(10,5))\n",
    "# plot chart for count of survivors by class\n",
    "ax1.bar(range(len(survivors_Emb)), survivors_Emb, label='Survivors', alpha=0.5, color='c')\n",
    "ax1.bar(range(len(non_survivors_Emb)), non_survivors_Emb, bottom=survivors_Emb, label='Non-Survivors', alpha=0.5, color='k')\n",
    "plt.sca(ax1)\n",
    "plt.xticks([0.4, 1.4, 2.4], Emb_categories )\n",
    "ax1.set_ylabel(\"Count\")\n",
    "ax1.set_xlabel(\"\")\n",
    "ax1.set_title(\"Count of survivors by Embarkation Ports\",fontsize=14)\n",
    "plt.legend(loc='upper left')\n",
    "\n",
    "# plot chart for percentage of survivors by class\n",
    "ax2.bar(range(len(data1_percentages)), data1_percentages, alpha=0.5, color='c')\n",
    "ax2.bar(range(len(data2_percentages)), data2_percentages, bottom=data1_percentages, alpha=0.5, color='k')\n",
    "plt.sca(ax2)\n",
    "plt.xticks([0.4, 1.4, 2.4],  Emb_categories)\n",
    "ax2.set_ylabel(\"Percentage\")\n",
    "ax2.set_xlabel(\"\")\n",
    "ax2.set_title(\"% of survivors by Embarkation Ports\",fontsize=14)\n",
    "plt.show()"
   ]
  },
  {
   "cell_type": "markdown",
   "id": "39894f1d",
   "metadata": {
    "papermill": {
     "duration": 0.037366,
     "end_time": "2022-10-23T00:46:02.449701",
     "exception": false,
     "start_time": "2022-10-23T00:46:02.412335",
     "status": "completed"
    },
    "tags": []
   },
   "source": [
    "Inference: Most of the passengers embarked from the Southampton port, thus most of the survivors and non survivors embarked from the same port. The important inference is that, the more than 50% of the passengers who boarded from the Vhebourg port, survived which is the highest perentage of survival among all the ports.\n",
    "\n",
    "### 7. The SibSp Variable"
   ]
  },
  {
   "cell_type": "code",
   "execution_count": 48,
   "id": "19a37994",
   "metadata": {
    "execution": {
     "iopub.execute_input": "2022-10-23T00:46:02.523949Z",
     "iopub.status.busy": "2022-10-23T00:46:02.522893Z",
     "iopub.status.idle": "2022-10-23T00:46:02.535023Z",
     "shell.execute_reply": "2022-10-23T00:46:02.533937Z"
    },
    "papermill": {
     "duration": 0.051026,
     "end_time": "2022-10-23T00:46:02.537489",
     "exception": false,
     "start_time": "2022-10-23T00:46:02.486463",
     "status": "completed"
    },
    "tags": []
   },
   "outputs": [
    {
     "data": {
      "text/plain": [
       "count    711.0000\n",
       "mean       0.5218\n",
       "std        1.1002\n",
       "min        0.0000\n",
       "25%        0.0000\n",
       "50%        0.0000\n",
       "75%        1.0000\n",
       "max        8.0000\n",
       "Name: SibSp, dtype: float64"
      ]
     },
     "execution_count": 48,
     "metadata": {},
     "output_type": "execute_result"
    }
   ],
   "source": [
    "train_data.SibSp.describe()"
   ]
  },
  {
   "cell_type": "code",
   "execution_count": 49,
   "id": "93c17858",
   "metadata": {
    "execution": {
     "iopub.execute_input": "2022-10-23T00:46:02.610797Z",
     "iopub.status.busy": "2022-10-23T00:46:02.610402Z",
     "iopub.status.idle": "2022-10-23T00:46:02.617977Z",
     "shell.execute_reply": "2022-10-23T00:46:02.616891Z"
    },
    "papermill": {
     "duration": 0.046806,
     "end_time": "2022-10-23T00:46:02.620169",
     "exception": false,
     "start_time": "2022-10-23T00:46:02.573363",
     "status": "completed"
    },
    "tags": []
   },
   "outputs": [
    {
     "data": {
      "text/plain": [
       "array([0, 1, 2, 5, 4, 3, 8])"
      ]
     },
     "execution_count": 49,
     "metadata": {},
     "output_type": "execute_result"
    }
   ],
   "source": [
    "train_data.SibSp.unique()"
   ]
  },
  {
   "cell_type": "markdown",
   "id": "88f5b230",
   "metadata": {
    "papermill": {
     "duration": 0.036334,
     "end_time": "2022-10-23T00:46:02.693105",
     "exception": false,
     "start_time": "2022-10-23T00:46:02.656771",
     "status": "completed"
    },
    "tags": []
   },
   "source": [
    "This variable gives information about the number of Siblings and Spouse for a particular passenger. This field contains integer values ranging from 0 to 8"
   ]
  },
  {
   "cell_type": "code",
   "execution_count": 50,
   "id": "fa688dfc",
   "metadata": {
    "execution": {
     "iopub.execute_input": "2022-10-23T00:46:02.767478Z",
     "iopub.status.busy": "2022-10-23T00:46:02.766416Z",
     "iopub.status.idle": "2022-10-23T00:46:02.786569Z",
     "shell.execute_reply": "2022-10-23T00:46:02.785130Z"
    },
    "papermill": {
     "duration": 0.061625,
     "end_time": "2022-10-23T00:46:02.790557",
     "exception": false,
     "start_time": "2022-10-23T00:46:02.728932",
     "status": "completed"
    },
    "tags": []
   },
   "outputs": [
    {
     "name": "stdout",
     "output_type": "stream",
     "text": [
      "SibSp       0   1   2   3   4  5  8\n",
      "Survived                           \n",
      "0         316  76  11  10  12  5  5\n",
      "1         171  90   8   4   3  0  0\n"
     ]
    }
   ],
   "source": [
    "#Count of Survivors by SibSp\n",
    "table = pd.crosstab(train_data['Survived'],train_data['SibSp'])\n",
    "print(table)"
   ]
  },
  {
   "cell_type": "code",
   "execution_count": 51,
   "id": "cb76fbce",
   "metadata": {
    "execution": {
     "iopub.execute_input": "2022-10-23T00:46:02.865344Z",
     "iopub.status.busy": "2022-10-23T00:46:02.864566Z",
     "iopub.status.idle": "2022-10-23T00:46:02.872243Z",
     "shell.execute_reply": "2022-10-23T00:46:02.871010Z"
    },
    "papermill": {
     "duration": 0.047765,
     "end_time": "2022-10-23T00:46:02.875107",
     "exception": false,
     "start_time": "2022-10-23T00:46:02.827342",
     "status": "completed"
    },
    "tags": []
   },
   "outputs": [
    {
     "name": "stdout",
     "output_type": "stream",
     "text": [
      "SibSp\n",
      "0    0.351129\n",
      "1    0.542169\n",
      "2    0.421053\n",
      "3    0.285714\n",
      "4    0.200000\n",
      "5    0.000000\n",
      "8    0.000000\n",
      "Name: Survived, dtype: float64\n"
     ]
    }
   ],
   "source": [
    "#Proportion of survivors by SibSp\n",
    "print(train_data.groupby(['SibSp']).Survived.mean())"
   ]
  },
  {
   "cell_type": "code",
   "execution_count": 52,
   "id": "2210caeb",
   "metadata": {
    "execution": {
     "iopub.execute_input": "2022-10-23T00:46:02.950520Z",
     "iopub.status.busy": "2022-10-23T00:46:02.950126Z",
     "iopub.status.idle": "2022-10-23T00:46:03.243840Z",
     "shell.execute_reply": "2022-10-23T00:46:03.242503Z"
    },
    "papermill": {
     "duration": 0.335708,
     "end_time": "2022-10-23T00:46:03.247021",
     "exception": false,
     "start_time": "2022-10-23T00:46:02.911313",
     "status": "completed"
    },
    "tags": []
   },
   "outputs": [
    {
     "data": {
      "image/png": "[encoded data removed]",
      "text/plain": [
       "<Figure size 1080x432 with 1 Axes>"
      ]
     },
     "metadata": {
      "needs_background": "light"
     },
     "output_type": "display_data"
    }
   ],
   "source": [
    "plt.figure(figsize=(15, 6))\n",
    "plt.subplot(1,2,1)\n",
    "sns.histplot(x=train_data.SibSp, color='mediumvioletred')\n",
    "plt.show()"
   ]
  },
  {
   "cell_type": "markdown",
   "id": "4b7577dc",
   "metadata": {
    "papermill": {
     "duration": 0.036915,
     "end_time": "2022-10-23T00:46:03.321833",
     "exception": false,
     "start_time": "2022-10-23T00:46:03.284918",
     "status": "completed"
    },
    "tags": []
   },
   "source": [
    "### 8. The ParCh Variable"
   ]
  },
  {
   "cell_type": "code",
   "execution_count": 53,
   "id": "aedff116",
   "metadata": {
    "execution": {
     "iopub.execute_input": "2022-10-23T00:46:03.398827Z",
     "iopub.status.busy": "2022-10-23T00:46:03.397731Z",
     "iopub.status.idle": "2022-10-23T00:46:03.408418Z",
     "shell.execute_reply": "2022-10-23T00:46:03.407503Z"
    },
    "papermill": {
     "duration": 0.051916,
     "end_time": "2022-10-23T00:46:03.410647",
     "exception": false,
     "start_time": "2022-10-23T00:46:03.358731",
     "status": "completed"
    },
    "tags": []
   },
   "outputs": [
    {
     "data": {
      "text/plain": [
       "count    711.000000\n",
       "mean       0.383966\n",
       "std        0.799804\n",
       "min        0.000000\n",
       "25%        0.000000\n",
       "50%        0.000000\n",
       "75%        0.000000\n",
       "max        6.000000\n",
       "Name: Parch, dtype: float64"
      ]
     },
     "execution_count": 53,
     "metadata": {},
     "output_type": "execute_result"
    }
   ],
   "source": [
    "train_data.Parch.describe()"
   ]
  },
  {
   "cell_type": "code",
   "execution_count": 54,
   "id": "64c71645",
   "metadata": {
    "execution": {
     "iopub.execute_input": "2022-10-23T00:46:03.489228Z",
     "iopub.status.busy": "2022-10-23T00:46:03.488797Z",
     "iopub.status.idle": "2022-10-23T00:46:03.496605Z",
     "shell.execute_reply": "2022-10-23T00:46:03.495594Z"
    },
    "papermill": {
     "duration": 0.048446,
     "end_time": "2022-10-23T00:46:03.498677",
     "exception": false,
     "start_time": "2022-10-23T00:46:03.450231",
     "status": "completed"
    },
    "tags": []
   },
   "outputs": [
    {
     "data": {
      "text/plain": [
       "array([0, 1, 2, 5, 4, 3, 8])"
      ]
     },
     "execution_count": 54,
     "metadata": {},
     "output_type": "execute_result"
    }
   ],
   "source": [
    "train_data.SibSp.unique()"
   ]
  },
  {
   "cell_type": "markdown",
   "id": "a9f2a772",
   "metadata": {
    "papermill": {
     "duration": 0.037305,
     "end_time": "2022-10-23T00:46:03.573447",
     "exception": false,
     "start_time": "2022-10-23T00:46:03.536142",
     "status": "completed"
    },
    "tags": []
   },
   "source": [
    "This variable gives information about the number of Parents and Children for a particular passenger. This field contains integer values ranging from 0 to 8"
   ]
  },
  {
   "cell_type": "code",
   "execution_count": 55,
   "id": "44b41d06",
   "metadata": {
    "execution": {
     "iopub.execute_input": "2022-10-23T00:46:03.651355Z",
     "iopub.status.busy": "2022-10-23T00:46:03.650550Z",
     "iopub.status.idle": "2022-10-23T00:46:03.670878Z",
     "shell.execute_reply": "2022-10-23T00:46:03.669427Z"
    },
    "papermill": {
     "duration": 0.061447,
     "end_time": "2022-10-23T00:46:03.673149",
     "exception": false,
     "start_time": "2022-10-23T00:46:03.611702",
     "status": "completed"
    },
    "tags": []
   },
   "outputs": [
    {
     "name": "stdout",
     "output_type": "stream",
     "text": [
      "Parch       0   1   2  3  4  5  6\n",
      "Survived                         \n",
      "0         354  40  33  2  3  2  1\n",
      "1         186  52  35  2  0  1  0\n"
     ]
    }
   ],
   "source": [
    "#Count of Survivors by Parch\n",
    "table = pd.crosstab(train_data['Survived'],train_data['Parch'])\n",
    "print(table)"
   ]
  },
  {
   "cell_type": "code",
   "execution_count": 56,
   "id": "899a9316",
   "metadata": {
    "execution": {
     "iopub.execute_input": "2022-10-23T00:46:03.749462Z",
     "iopub.status.busy": "2022-10-23T00:46:03.749032Z",
     "iopub.status.idle": "2022-10-23T00:46:03.756569Z",
     "shell.execute_reply": "2022-10-23T00:46:03.755465Z"
    },
    "papermill": {
     "duration": 0.049342,
     "end_time": "2022-10-23T00:46:03.759590",
     "exception": false,
     "start_time": "2022-10-23T00:46:03.710248",
     "status": "completed"
    },
    "tags": []
   },
   "outputs": [
    {
     "name": "stdout",
     "output_type": "stream",
     "text": [
      "Parch\n",
      "0    0.344444\n",
      "1    0.565217\n",
      "2    0.514706\n",
      "3    0.500000\n",
      "4    0.000000\n",
      "5    0.333333\n",
      "6    0.000000\n",
      "Name: Survived, dtype: float64\n"
     ]
    }
   ],
   "source": [
    "#Proportion of survivors by Parch\n",
    "print(train_data.groupby(['Parch']).Survived.mean())"
   ]
  },
  {
   "cell_type": "markdown",
   "id": "36c762fc",
   "metadata": {
    "papermill": {
     "duration": 0.03784,
     "end_time": "2022-10-23T00:46:03.836915",
     "exception": false,
     "start_time": "2022-10-23T00:46:03.799075",
     "status": "completed"
    },
    "tags": []
   },
   "source": [
    "### Adding a Family Size column so as to compare the size of families with the number of survivors."
   ]
  },
  {
   "cell_type": "code",
   "execution_count": 57,
   "id": "67fdf45d",
   "metadata": {
    "execution": {
     "iopub.execute_input": "2022-10-23T00:46:03.915225Z",
     "iopub.status.busy": "2022-10-23T00:46:03.914548Z",
     "iopub.status.idle": "2022-10-23T00:46:03.919723Z",
     "shell.execute_reply": "2022-10-23T00:46:03.918943Z"
    },
    "papermill": {
     "duration": 0.047143,
     "end_time": "2022-10-23T00:46:03.921679",
     "exception": false,
     "start_time": "2022-10-23T00:46:03.874536",
     "status": "completed"
    },
    "tags": []
   },
   "outputs": [],
   "source": [
    "# add new column (FamilySize) to dataframe - sum of SibSp and Parch\n",
    "train_data['FamilySize'] = train_data['SibSp'] + train_data['Parch']"
   ]
  },
  {
   "cell_type": "code",
   "execution_count": 58,
   "id": "85424583",
   "metadata": {
    "execution": {
     "iopub.execute_input": "2022-10-23T00:46:04.000358Z",
     "iopub.status.busy": "2022-10-23T00:46:03.999915Z",
     "iopub.status.idle": "2022-10-23T00:46:04.011184Z",
     "shell.execute_reply": "2022-10-23T00:46:04.010031Z"
    },
    "papermill": {
     "duration": 0.053884,
     "end_time": "2022-10-23T00:46:04.013580",
     "exception": false,
     "start_time": "2022-10-23T00:46:03.959696",
     "status": "completed"
    },
    "scrolled": true,
    "tags": []
   },
   "outputs": [
    {
     "data": {
      "text/plain": [
       "count    711.000000\n",
       "mean       0.905767\n",
       "std        1.613624\n",
       "min        0.000000\n",
       "25%        0.000000\n",
       "50%        0.000000\n",
       "75%        1.000000\n",
       "max       10.000000\n",
       "Name: FamilySize, dtype: float64"
      ]
     },
     "execution_count": 58,
     "metadata": {},
     "output_type": "execute_result"
    }
   ],
   "source": [
    "train_data.FamilySize.describe()"
   ]
  },
  {
   "cell_type": "code",
   "execution_count": 59,
   "id": "7eb94335",
   "metadata": {
    "execution": {
     "iopub.execute_input": "2022-10-23T00:46:04.090188Z",
     "iopub.status.busy": "2022-10-23T00:46:04.089755Z",
     "iopub.status.idle": "2022-10-23T00:46:04.097603Z",
     "shell.execute_reply": "2022-10-23T00:46:04.096267Z"
    },
    "papermill": {
     "duration": 0.048512,
     "end_time": "2022-10-23T00:46:04.099764",
     "exception": false,
     "start_time": "2022-10-23T00:46:04.051252",
     "status": "completed"
    },
    "scrolled": true,
    "tags": []
   },
   "outputs": [
    {
     "data": {
      "text/plain": [
       "array([ 0,  2,  1,  7,  6,  5,  4,  3, 10])"
      ]
     },
     "execution_count": 59,
     "metadata": {},
     "output_type": "execute_result"
    }
   ],
   "source": [
    "train_data.FamilySize.unique()"
   ]
  },
  {
   "cell_type": "code",
   "execution_count": 60,
   "id": "90f4cd9a",
   "metadata": {
    "execution": {
     "iopub.execute_input": "2022-10-23T00:46:04.178447Z",
     "iopub.status.busy": "2022-10-23T00:46:04.178039Z",
     "iopub.status.idle": "2022-10-23T00:46:04.198656Z",
     "shell.execute_reply": "2022-10-23T00:46:04.196725Z"
    },
    "papermill": {
     "duration": 0.063825,
     "end_time": "2022-10-23T00:46:04.201634",
     "exception": false,
     "start_time": "2022-10-23T00:46:04.137809",
     "status": "completed"
    },
    "tags": []
   },
   "outputs": [
    {
     "name": "stdout",
     "output_type": "stream",
     "text": [
      "FamilySize   0   1   2   3   4   5   6   7   10\n",
      "Survived                                       \n",
      "0           299  56  31   8   9  15   6   6   5\n",
      "1           129  76  45  17   3   2   4   0   0\n"
     ]
    }
   ],
   "source": [
    "#Count of Survivors by FamilySize\n",
    "table = pd.crosstab(train_data['Survived'],train_data['FamilySize'])\n",
    "print(table)"
   ]
  },
  {
   "cell_type": "code",
   "execution_count": 61,
   "id": "2599eddf",
   "metadata": {
    "execution": {
     "iopub.execute_input": "2022-10-23T00:46:04.282149Z",
     "iopub.status.busy": "2022-10-23T00:46:04.281044Z",
     "iopub.status.idle": "2022-10-23T00:46:04.288914Z",
     "shell.execute_reply": "2022-10-23T00:46:04.287421Z"
    },
    "papermill": {
     "duration": 0.050848,
     "end_time": "2022-10-23T00:46:04.291138",
     "exception": false,
     "start_time": "2022-10-23T00:46:04.240290",
     "status": "completed"
    },
    "tags": []
   },
   "outputs": [
    {
     "name": "stdout",
     "output_type": "stream",
     "text": [
      "FamilySize\n",
      "0     0.301402\n",
      "1     0.575758\n",
      "2     0.592105\n",
      "3     0.680000\n",
      "4     0.250000\n",
      "5     0.117647\n",
      "6     0.400000\n",
      "7     0.000000\n",
      "10    0.000000\n",
      "Name: Survived, dtype: float64\n"
     ]
    }
   ],
   "source": [
    "#Proportion of survivors by FamilySize\n",
    "print(train_data.groupby(['FamilySize']).Survived.mean())"
   ]
  },
  {
   "cell_type": "markdown",
   "id": "9843338e",
   "metadata": {
    "papermill": {
     "duration": 0.036606,
     "end_time": "2022-10-23T00:46:04.365669",
     "exception": false,
     "start_time": "2022-10-23T00:46:04.329063",
     "status": "completed"
    },
    "tags": []
   },
   "source": [
    "#### Dropping the SibSp and Parch Variables from the dataset and including only FamilySize Variable "
   ]
  },
  {
   "cell_type": "code",
   "execution_count": 62,
   "id": "680430bc",
   "metadata": {
    "execution": {
     "iopub.execute_input": "2022-10-23T00:46:04.443327Z",
     "iopub.status.busy": "2022-10-23T00:46:04.442110Z",
     "iopub.status.idle": "2022-10-23T00:46:04.461087Z",
     "shell.execute_reply": "2022-10-23T00:46:04.459993Z"
    },
    "papermill": {
     "duration": 0.060463,
     "end_time": "2022-10-23T00:46:04.463366",
     "exception": false,
     "start_time": "2022-10-23T00:46:04.402903",
     "status": "completed"
    },
    "scrolled": true,
    "tags": []
   },
   "outputs": [
    {
     "data": {
      "text/html": [
       "<div>\n",
       "<style scoped>\n",
       "    .dataframe tbody tr th:only-of-type {\n",
       "        vertical-align: middle;\n",
       "    }\n",
       "\n",
       "    .dataframe tbody tr th {\n",
       "        vertical-align: top;\n",
       "    }\n",
       "\n",
       "    .dataframe thead th {\n",
       "        text-align: right;\n",
       "    }\n",
       "</style>\n",
       "<table border=\"1\" class=\"dataframe\">\n",
       "  <thead>\n",
       "    <tr style=\"text-align: right;\">\n",
       "      <th></th>\n",
       "      <th>Survived</th>\n",
       "      <th>Pclass</th>\n",
       "      <th>Sex</th>\n",
       "      <th>Age</th>\n",
       "      <th>Fare</th>\n",
       "      <th>Embarked</th>\n",
       "      <th>FamilySize</th>\n",
       "    </tr>\n",
       "  </thead>\n",
       "  <tbody>\n",
       "    <tr>\n",
       "      <th>777</th>\n",
       "      <td>1</td>\n",
       "      <td>3</td>\n",
       "      <td>female</td>\n",
       "      <td>5.0</td>\n",
       "      <td>12.475</td>\n",
       "      <td>Southampton</td>\n",
       "      <td>0</td>\n",
       "    </tr>\n",
       "    <tr>\n",
       "      <th>782</th>\n",
       "      <td>0</td>\n",
       "      <td>1</td>\n",
       "      <td>male</td>\n",
       "      <td>29.0</td>\n",
       "      <td>30.000</td>\n",
       "      <td>Southampton</td>\n",
       "      <td>0</td>\n",
       "    </tr>\n",
       "    <tr>\n",
       "      <th>708</th>\n",
       "      <td>1</td>\n",
       "      <td>1</td>\n",
       "      <td>female</td>\n",
       "      <td>22.0</td>\n",
       "      <td>151.550</td>\n",
       "      <td>Southampton</td>\n",
       "      <td>0</td>\n",
       "    </tr>\n",
       "    <tr>\n",
       "      <th>153</th>\n",
       "      <td>0</td>\n",
       "      <td>3</td>\n",
       "      <td>male</td>\n",
       "      <td>40.5</td>\n",
       "      <td>14.500</td>\n",
       "      <td>Southampton</td>\n",
       "      <td>2</td>\n",
       "    </tr>\n",
       "    <tr>\n",
       "      <th>563</th>\n",
       "      <td>0</td>\n",
       "      <td>3</td>\n",
       "      <td>male</td>\n",
       "      <td>29.0</td>\n",
       "      <td>8.050</td>\n",
       "      <td>Southampton</td>\n",
       "      <td>0</td>\n",
       "    </tr>\n",
       "  </tbody>\n",
       "</table>\n",
       "</div>"
      ],
      "text/plain": [
       "     Survived  Pclass     Sex   Age     Fare     Embarked  FamilySize\n",
       "777         1       3  female   5.0   12.475  Southampton           0\n",
       "782         0       1    male  29.0   30.000  Southampton           0\n",
       "708         1       1  female  22.0  151.550  Southampton           0\n",
       "153         0       3    male  40.5   14.500  Southampton           2\n",
       "563         0       3    male  29.0    8.050  Southampton           0"
      ]
     },
     "execution_count": 62,
     "metadata": {},
     "output_type": "execute_result"
    }
   ],
   "source": [
    "train_data.drop(['SibSp'], axis=1,inplace=True)\n",
    "train_data.drop(['Parch'], axis=1,inplace=True)\n",
    "#test_data.drop(['SibSp'], axis=1,inplace=True)\n",
    "#test_data.drop(['Parch'], axis=1,inplace=True)\n",
    "\n",
    "#Droppping the Age Group Variable as it is no longer needed\n",
    "train_data.drop(['age_group'], axis=1,inplace=True)\n",
    "train_data.head()"
   ]
  },
  {
   "cell_type": "markdown",
   "id": "47fc872f",
   "metadata": {
    "papermill": {
     "duration": 0.038025,
     "end_time": "2022-10-23T00:46:04.539635",
     "exception": false,
     "start_time": "2022-10-23T00:46:04.501610",
     "status": "completed"
    },
    "tags": []
   },
   "source": [
    "### Label Encoding the Sex Variable"
   ]
  },
  {
   "cell_type": "code",
   "execution_count": 63,
   "id": "c8c0a654",
   "metadata": {
    "execution": {
     "iopub.execute_input": "2022-10-23T00:46:04.621180Z",
     "iopub.status.busy": "2022-10-23T00:46:04.619879Z",
     "iopub.status.idle": "2022-10-23T00:46:04.637227Z",
     "shell.execute_reply": "2022-10-23T00:46:04.635774Z"
    },
    "papermill": {
     "duration": 0.059625,
     "end_time": "2022-10-23T00:46:04.639839",
     "exception": false,
     "start_time": "2022-10-23T00:46:04.580214",
     "status": "completed"
    },
    "tags": []
   },
   "outputs": [
    {
     "data": {
      "text/html": [
       "<div>\n",
       "<style scoped>\n",
       "    .dataframe tbody tr th:only-of-type {\n",
       "        vertical-align: middle;\n",
       "    }\n",
       "\n",
       "    .dataframe tbody tr th {\n",
       "        vertical-align: top;\n",
       "    }\n",
       "\n",
       "    .dataframe thead th {\n",
       "        text-align: right;\n",
       "    }\n",
       "</style>\n",
       "<table border=\"1\" class=\"dataframe\">\n",
       "  <thead>\n",
       "    <tr style=\"text-align: right;\">\n",
       "      <th></th>\n",
       "      <th>Survived</th>\n",
       "      <th>Pclass</th>\n",
       "      <th>Sex</th>\n",
       "      <th>Age</th>\n",
       "      <th>Fare</th>\n",
       "      <th>Embarked</th>\n",
       "      <th>FamilySize</th>\n",
       "      <th>Sex Encoded</th>\n",
       "    </tr>\n",
       "  </thead>\n",
       "  <tbody>\n",
       "    <tr>\n",
       "      <th>777</th>\n",
       "      <td>1</td>\n",
       "      <td>3</td>\n",
       "      <td>female</td>\n",
       "      <td>5.0</td>\n",
       "      <td>12.475</td>\n",
       "      <td>Southampton</td>\n",
       "      <td>0</td>\n",
       "      <td>0</td>\n",
       "    </tr>\n",
       "    <tr>\n",
       "      <th>782</th>\n",
       "      <td>0</td>\n",
       "      <td>1</td>\n",
       "      <td>male</td>\n",
       "      <td>29.0</td>\n",
       "      <td>30.000</td>\n",
       "      <td>Southampton</td>\n",
       "      <td>0</td>\n",
       "      <td>1</td>\n",
       "    </tr>\n",
       "    <tr>\n",
       "      <th>708</th>\n",
       "      <td>1</td>\n",
       "      <td>1</td>\n",
       "      <td>female</td>\n",
       "      <td>22.0</td>\n",
       "      <td>151.550</td>\n",
       "      <td>Southampton</td>\n",
       "      <td>0</td>\n",
       "      <td>0</td>\n",
       "    </tr>\n",
       "    <tr>\n",
       "      <th>153</th>\n",
       "      <td>0</td>\n",
       "      <td>3</td>\n",
       "      <td>male</td>\n",
       "      <td>40.5</td>\n",
       "      <td>14.500</td>\n",
       "      <td>Southampton</td>\n",
       "      <td>2</td>\n",
       "      <td>1</td>\n",
       "    </tr>\n",
       "    <tr>\n",
       "      <th>563</th>\n",
       "      <td>0</td>\n",
       "      <td>3</td>\n",
       "      <td>male</td>\n",
       "      <td>29.0</td>\n",
       "      <td>8.050</td>\n",
       "      <td>Southampton</td>\n",
       "      <td>0</td>\n",
       "      <td>1</td>\n",
       "    </tr>\n",
       "  </tbody>\n",
       "</table>\n",
       "</div>"
      ],
      "text/plain": [
       "     Survived  Pclass     Sex   Age     Fare     Embarked  FamilySize  \\\n",
       "777         1       3  female   5.0   12.475  Southampton           0   \n",
       "782         0       1    male  29.0   30.000  Southampton           0   \n",
       "708         1       1  female  22.0  151.550  Southampton           0   \n",
       "153         0       3    male  40.5   14.500  Southampton           2   \n",
       "563         0       3    male  29.0    8.050  Southampton           0   \n",
       "\n",
       "     Sex Encoded  \n",
       "777            0  \n",
       "782            1  \n",
       "708            0  \n",
       "153            1  \n",
       "563            1  "
      ]
     },
     "execution_count": 63,
     "metadata": {},
     "output_type": "execute_result"
    }
   ],
   "source": [
    "#For the Sex Column, using Label Encoder\n",
    "from sklearn import preprocessing\n",
    "le= preprocessing.LabelEncoder()\n",
    "train_data['Sex Encoded'] = le.fit_transform(train_data.Sex)\n",
    "train_data.head()"
   ]
  },
  {
   "cell_type": "markdown",
   "id": "709f426e",
   "metadata": {
    "papermill": {
     "duration": 0.038127,
     "end_time": "2022-10-23T00:46:04.716713",
     "exception": false,
     "start_time": "2022-10-23T00:46:04.678586",
     "status": "completed"
    },
    "tags": []
   },
   "source": [
    "#### Male is Encoded as 1 and female as 0\n",
    "\n",
    "### One Hot Encoding of the Embarked Column"
   ]
  },
  {
   "cell_type": "code",
   "execution_count": 64,
   "id": "6188326e",
   "metadata": {
    "execution": {
     "iopub.execute_input": "2022-10-23T00:46:04.797686Z",
     "iopub.status.busy": "2022-10-23T00:46:04.797249Z",
     "iopub.status.idle": "2022-10-23T00:46:04.815783Z",
     "shell.execute_reply": "2022-10-23T00:46:04.814892Z"
    },
    "papermill": {
     "duration": 0.062752,
     "end_time": "2022-10-23T00:46:04.817830",
     "exception": false,
     "start_time": "2022-10-23T00:46:04.755078",
     "status": "completed"
    },
    "tags": []
   },
   "outputs": [
    {
     "data": {
      "text/html": [
       "<div>\n",
       "<style scoped>\n",
       "    .dataframe tbody tr th:only-of-type {\n",
       "        vertical-align: middle;\n",
       "    }\n",
       "\n",
       "    .dataframe tbody tr th {\n",
       "        vertical-align: top;\n",
       "    }\n",
       "\n",
       "    .dataframe thead th {\n",
       "        text-align: right;\n",
       "    }\n",
       "</style>\n",
       "<table border=\"1\" class=\"dataframe\">\n",
       "  <thead>\n",
       "    <tr style=\"text-align: right;\">\n",
       "      <th></th>\n",
       "      <th>Survived</th>\n",
       "      <th>Pclass</th>\n",
       "      <th>Sex</th>\n",
       "      <th>Age</th>\n",
       "      <th>Fare</th>\n",
       "      <th>Embarked</th>\n",
       "      <th>FamilySize</th>\n",
       "      <th>Sex Encoded</th>\n",
       "      <th>Cherbourg</th>\n",
       "      <th>Queenstown</th>\n",
       "      <th>Southampton</th>\n",
       "    </tr>\n",
       "  </thead>\n",
       "  <tbody>\n",
       "    <tr>\n",
       "      <th>777</th>\n",
       "      <td>1</td>\n",
       "      <td>3</td>\n",
       "      <td>female</td>\n",
       "      <td>5.0</td>\n",
       "      <td>12.475</td>\n",
       "      <td>Southampton</td>\n",
       "      <td>0</td>\n",
       "      <td>0</td>\n",
       "      <td>0</td>\n",
       "      <td>0</td>\n",
       "      <td>1</td>\n",
       "    </tr>\n",
       "    <tr>\n",
       "      <th>782</th>\n",
       "      <td>0</td>\n",
       "      <td>1</td>\n",
       "      <td>male</td>\n",
       "      <td>29.0</td>\n",
       "      <td>30.000</td>\n",
       "      <td>Southampton</td>\n",
       "      <td>0</td>\n",
       "      <td>1</td>\n",
       "      <td>0</td>\n",
       "      <td>0</td>\n",
       "      <td>1</td>\n",
       "    </tr>\n",
       "    <tr>\n",
       "      <th>708</th>\n",
       "      <td>1</td>\n",
       "      <td>1</td>\n",
       "      <td>female</td>\n",
       "      <td>22.0</td>\n",
       "      <td>151.550</td>\n",
       "      <td>Southampton</td>\n",
       "      <td>0</td>\n",
       "      <td>0</td>\n",
       "      <td>0</td>\n",
       "      <td>0</td>\n",
       "      <td>1</td>\n",
       "    </tr>\n",
       "    <tr>\n",
       "      <th>153</th>\n",
       "      <td>0</td>\n",
       "      <td>3</td>\n",
       "      <td>male</td>\n",
       "      <td>40.5</td>\n",
       "      <td>14.500</td>\n",
       "      <td>Southampton</td>\n",
       "      <td>2</td>\n",
       "      <td>1</td>\n",
       "      <td>0</td>\n",
       "      <td>0</td>\n",
       "      <td>1</td>\n",
       "    </tr>\n",
       "    <tr>\n",
       "      <th>563</th>\n",
       "      <td>0</td>\n",
       "      <td>3</td>\n",
       "      <td>male</td>\n",
       "      <td>29.0</td>\n",
       "      <td>8.050</td>\n",
       "      <td>Southampton</td>\n",
       "      <td>0</td>\n",
       "      <td>1</td>\n",
       "      <td>0</td>\n",
       "      <td>0</td>\n",
       "      <td>1</td>\n",
       "    </tr>\n",
       "  </tbody>\n",
       "</table>\n",
       "</div>"
      ],
      "text/plain": [
       "     Survived  Pclass     Sex   Age     Fare     Embarked  FamilySize  \\\n",
       "777         1       3  female   5.0   12.475  Southampton           0   \n",
       "782         0       1    male  29.0   30.000  Southampton           0   \n",
       "708         1       1  female  22.0  151.550  Southampton           0   \n",
       "153         0       3    male  40.5   14.500  Southampton           2   \n",
       "563         0       3    male  29.0    8.050  Southampton           0   \n",
       "\n",
       "     Sex Encoded  Cherbourg  Queenstown  Southampton  \n",
       "777            0          0           0            1  \n",
       "782            1          0           0            1  \n",
       "708            0          0           0            1  \n",
       "153            1          0           0            1  \n",
       "563            1          0           0            1  "
      ]
     },
     "execution_count": 64,
     "metadata": {},
     "output_type": "execute_result"
    }
   ],
   "source": [
    "#Using pd.get_dummies to create dummy variables for one hot encoding\n",
    "temp = pd.get_dummies(train_data['Embarked'])\n",
    "train_data = pd.concat([train_data, temp], axis = 1)\n",
    "train_data.head()"
   ]
  },
  {
   "cell_type": "code",
   "execution_count": 65,
   "id": "008d5f08",
   "metadata": {
    "execution": {
     "iopub.execute_input": "2022-10-23T00:46:04.896657Z",
     "iopub.status.busy": "2022-10-23T00:46:04.895914Z",
     "iopub.status.idle": "2022-10-23T00:46:04.902029Z",
     "shell.execute_reply": "2022-10-23T00:46:04.901332Z"
    },
    "papermill": {
     "duration": 0.04748,
     "end_time": "2022-10-23T00:46:04.903973",
     "exception": false,
     "start_time": "2022-10-23T00:46:04.856493",
     "status": "completed"
    },
    "tags": []
   },
   "outputs": [],
   "source": [
    "#To remove multicollinearity, removing one of the newly created column Cherbourg\n",
    "train_data.drop(['Cherbourg'], axis=1,inplace=True)"
   ]
  },
  {
   "cell_type": "markdown",
   "id": "2ac893c7",
   "metadata": {
    "papermill": {
     "duration": 0.036931,
     "end_time": "2022-10-23T00:46:04.977584",
     "exception": false,
     "start_time": "2022-10-23T00:46:04.940653",
     "status": "completed"
    },
    "tags": []
   },
   "source": [
    "### One Hot Encoding of the PClass Column"
   ]
  },
  {
   "cell_type": "code",
   "execution_count": 66,
   "id": "3c84243b",
   "metadata": {
    "execution": {
     "iopub.execute_input": "2022-10-23T00:46:05.054081Z",
     "iopub.status.busy": "2022-10-23T00:46:05.053647Z",
     "iopub.status.idle": "2022-10-23T00:46:05.071949Z",
     "shell.execute_reply": "2022-10-23T00:46:05.071227Z"
    },
    "papermill": {
     "duration": 0.059196,
     "end_time": "2022-10-23T00:46:05.073909",
     "exception": false,
     "start_time": "2022-10-23T00:46:05.014713",
     "status": "completed"
    },
    "tags": []
   },
   "outputs": [
    {
     "data": {
      "text/html": [
       "<div>\n",
       "<style scoped>\n",
       "    .dataframe tbody tr th:only-of-type {\n",
       "        vertical-align: middle;\n",
       "    }\n",
       "\n",
       "    .dataframe tbody tr th {\n",
       "        vertical-align: top;\n",
       "    }\n",
       "\n",
       "    .dataframe thead th {\n",
       "        text-align: right;\n",
       "    }\n",
       "</style>\n",
       "<table border=\"1\" class=\"dataframe\">\n",
       "  <thead>\n",
       "    <tr style=\"text-align: right;\">\n",
       "      <th></th>\n",
       "      <th>Survived</th>\n",
       "      <th>Pclass</th>\n",
       "      <th>Sex</th>\n",
       "      <th>Age</th>\n",
       "      <th>Fare</th>\n",
       "      <th>Embarked</th>\n",
       "      <th>FamilySize</th>\n",
       "      <th>Sex Encoded</th>\n",
       "      <th>Queenstown</th>\n",
       "      <th>Southampton</th>\n",
       "      <th>1</th>\n",
       "      <th>2</th>\n",
       "      <th>3</th>\n",
       "    </tr>\n",
       "  </thead>\n",
       "  <tbody>\n",
       "    <tr>\n",
       "      <th>777</th>\n",
       "      <td>1</td>\n",
       "      <td>3</td>\n",
       "      <td>female</td>\n",
       "      <td>5.0</td>\n",
       "      <td>12.475</td>\n",
       "      <td>Southampton</td>\n",
       "      <td>0</td>\n",
       "      <td>0</td>\n",
       "      <td>0</td>\n",
       "      <td>1</td>\n",
       "      <td>0</td>\n",
       "      <td>0</td>\n",
       "      <td>1</td>\n",
       "    </tr>\n",
       "    <tr>\n",
       "      <th>782</th>\n",
       "      <td>0</td>\n",
       "      <td>1</td>\n",
       "      <td>male</td>\n",
       "      <td>29.0</td>\n",
       "      <td>30.000</td>\n",
       "      <td>Southampton</td>\n",
       "      <td>0</td>\n",
       "      <td>1</td>\n",
       "      <td>0</td>\n",
       "      <td>1</td>\n",
       "      <td>1</td>\n",
       "      <td>0</td>\n",
       "      <td>0</td>\n",
       "    </tr>\n",
       "    <tr>\n",
       "      <th>708</th>\n",
       "      <td>1</td>\n",
       "      <td>1</td>\n",
       "      <td>female</td>\n",
       "      <td>22.0</td>\n",
       "      <td>151.550</td>\n",
       "      <td>Southampton</td>\n",
       "      <td>0</td>\n",
       "      <td>0</td>\n",
       "      <td>0</td>\n",
       "      <td>1</td>\n",
       "      <td>1</td>\n",
       "      <td>0</td>\n",
       "      <td>0</td>\n",
       "    </tr>\n",
       "    <tr>\n",
       "      <th>153</th>\n",
       "      <td>0</td>\n",
       "      <td>3</td>\n",
       "      <td>male</td>\n",
       "      <td>40.5</td>\n",
       "      <td>14.500</td>\n",
       "      <td>Southampton</td>\n",
       "      <td>2</td>\n",
       "      <td>1</td>\n",
       "      <td>0</td>\n",
       "      <td>1</td>\n",
       "      <td>0</td>\n",
       "      <td>0</td>\n",
       "      <td>1</td>\n",
       "    </tr>\n",
       "    <tr>\n",
       "      <th>563</th>\n",
       "      <td>0</td>\n",
       "      <td>3</td>\n",
       "      <td>male</td>\n",
       "      <td>29.0</td>\n",
       "      <td>8.050</td>\n",
       "      <td>Southampton</td>\n",
       "      <td>0</td>\n",
       "      <td>1</td>\n",
       "      <td>0</td>\n",
       "      <td>1</td>\n",
       "      <td>0</td>\n",
       "      <td>0</td>\n",
       "      <td>1</td>\n",
       "    </tr>\n",
       "  </tbody>\n",
       "</table>\n",
       "</div>"
      ],
      "text/plain": [
       "     Survived  Pclass     Sex   Age     Fare     Embarked  FamilySize  \\\n",
       "777         1       3  female   5.0   12.475  Southampton           0   \n",
       "782         0       1    male  29.0   30.000  Southampton           0   \n",
       "708         1       1  female  22.0  151.550  Southampton           0   \n",
       "153         0       3    male  40.5   14.500  Southampton           2   \n",
       "563         0       3    male  29.0    8.050  Southampton           0   \n",
       "\n",
       "     Sex Encoded  Queenstown  Southampton  1  2  3  \n",
       "777            0           0            1  0  0  1  \n",
       "782            1           0            1  1  0  0  \n",
       "708            0           0            1  1  0  0  \n",
       "153            1           0            1  0  0  1  \n",
       "563            1           0            1  0  0  1  "
      ]
     },
     "execution_count": 66,
     "metadata": {},
     "output_type": "execute_result"
    }
   ],
   "source": [
    "#Using pd.get_dummies to create dummy variables for one hot encoding\n",
    "temp = pd.get_dummies(train_data['Pclass'])\n",
    "train_data = pd.concat([train_data, temp], axis = 1)\n",
    "train_data.head()"
   ]
  },
  {
   "cell_type": "code",
   "execution_count": 67,
   "id": "fb596110",
   "metadata": {
    "execution": {
     "iopub.execute_input": "2022-10-23T00:46:05.152698Z",
     "iopub.status.busy": "2022-10-23T00:46:05.151460Z",
     "iopub.status.idle": "2022-10-23T00:46:05.170637Z",
     "shell.execute_reply": "2022-10-23T00:46:05.169433Z"
    },
    "papermill": {
     "duration": 0.061176,
     "end_time": "2022-10-23T00:46:05.173101",
     "exception": false,
     "start_time": "2022-10-23T00:46:05.111925",
     "status": "completed"
    },
    "tags": []
   },
   "outputs": [
    {
     "data": {
      "text/html": [
       "<div>\n",
       "<style scoped>\n",
       "    .dataframe tbody tr th:only-of-type {\n",
       "        vertical-align: middle;\n",
       "    }\n",
       "\n",
       "    .dataframe tbody tr th {\n",
       "        vertical-align: top;\n",
       "    }\n",
       "\n",
       "    .dataframe thead th {\n",
       "        text-align: right;\n",
       "    }\n",
       "</style>\n",
       "<table border=\"1\" class=\"dataframe\">\n",
       "  <thead>\n",
       "    <tr style=\"text-align: right;\">\n",
       "      <th></th>\n",
       "      <th>Survived</th>\n",
       "      <th>Pclass</th>\n",
       "      <th>Sex</th>\n",
       "      <th>Age</th>\n",
       "      <th>Fare</th>\n",
       "      <th>Embarked</th>\n",
       "      <th>FamilySize</th>\n",
       "      <th>Sex Encoded</th>\n",
       "      <th>Queenstown</th>\n",
       "      <th>Southampton</th>\n",
       "      <th>Upper Class</th>\n",
       "      <th>Middle Class</th>\n",
       "      <th>Lower Class</th>\n",
       "    </tr>\n",
       "  </thead>\n",
       "  <tbody>\n",
       "    <tr>\n",
       "      <th>777</th>\n",
       "      <td>1</td>\n",
       "      <td>3</td>\n",
       "      <td>female</td>\n",
       "      <td>5.0</td>\n",
       "      <td>12.475</td>\n",
       "      <td>Southampton</td>\n",
       "      <td>0</td>\n",
       "      <td>0</td>\n",
       "      <td>0</td>\n",
       "      <td>1</td>\n",
       "      <td>0</td>\n",
       "      <td>0</td>\n",
       "      <td>1</td>\n",
       "    </tr>\n",
       "    <tr>\n",
       "      <th>782</th>\n",
       "      <td>0</td>\n",
       "      <td>1</td>\n",
       "      <td>male</td>\n",
       "      <td>29.0</td>\n",
       "      <td>30.000</td>\n",
       "      <td>Southampton</td>\n",
       "      <td>0</td>\n",
       "      <td>1</td>\n",
       "      <td>0</td>\n",
       "      <td>1</td>\n",
       "      <td>1</td>\n",
       "      <td>0</td>\n",
       "      <td>0</td>\n",
       "    </tr>\n",
       "    <tr>\n",
       "      <th>708</th>\n",
       "      <td>1</td>\n",
       "      <td>1</td>\n",
       "      <td>female</td>\n",
       "      <td>22.0</td>\n",
       "      <td>151.550</td>\n",
       "      <td>Southampton</td>\n",
       "      <td>0</td>\n",
       "      <td>0</td>\n",
       "      <td>0</td>\n",
       "      <td>1</td>\n",
       "      <td>1</td>\n",
       "      <td>0</td>\n",
       "      <td>0</td>\n",
       "    </tr>\n",
       "    <tr>\n",
       "      <th>153</th>\n",
       "      <td>0</td>\n",
       "      <td>3</td>\n",
       "      <td>male</td>\n",
       "      <td>40.5</td>\n",
       "      <td>14.500</td>\n",
       "      <td>Southampton</td>\n",
       "      <td>2</td>\n",
       "      <td>1</td>\n",
       "      <td>0</td>\n",
       "      <td>1</td>\n",
       "      <td>0</td>\n",
       "      <td>0</td>\n",
       "      <td>1</td>\n",
       "    </tr>\n",
       "    <tr>\n",
       "      <th>563</th>\n",
       "      <td>0</td>\n",
       "      <td>3</td>\n",
       "      <td>male</td>\n",
       "      <td>29.0</td>\n",
       "      <td>8.050</td>\n",
       "      <td>Southampton</td>\n",
       "      <td>0</td>\n",
       "      <td>1</td>\n",
       "      <td>0</td>\n",
       "      <td>1</td>\n",
       "      <td>0</td>\n",
       "      <td>0</td>\n",
       "      <td>1</td>\n",
       "    </tr>\n",
       "  </tbody>\n",
       "</table>\n",
       "</div>"
      ],
      "text/plain": [
       "     Survived  Pclass     Sex   Age     Fare     Embarked  FamilySize  \\\n",
       "777         1       3  female   5.0   12.475  Southampton           0   \n",
       "782         0       1    male  29.0   30.000  Southampton           0   \n",
       "708         1       1  female  22.0  151.550  Southampton           0   \n",
       "153         0       3    male  40.5   14.500  Southampton           2   \n",
       "563         0       3    male  29.0    8.050  Southampton           0   \n",
       "\n",
       "     Sex Encoded  Queenstown  Southampton  Upper Class  Middle Class  \\\n",
       "777            0           0            1            0             0   \n",
       "782            1           0            1            1             0   \n",
       "708            0           0            1            1             0   \n",
       "153            1           0            1            0             0   \n",
       "563            1           0            1            0             0   \n",
       "\n",
       "     Lower Class  \n",
       "777            1  \n",
       "782            0  \n",
       "708            0  \n",
       "153            1  \n",
       "563            1  "
      ]
     },
     "execution_count": 67,
     "metadata": {},
     "output_type": "execute_result"
    }
   ],
   "source": [
    "#Renaming the Column Names\n",
    "train_data  = train_data.rename(columns={1: 'Upper Class', 2: 'Middle Class', 3: 'Lower Class'})\n",
    "train_data.head()"
   ]
  },
  {
   "cell_type": "code",
   "execution_count": 68,
   "id": "33684f81",
   "metadata": {
    "execution": {
     "iopub.execute_input": "2022-10-23T00:46:05.253087Z",
     "iopub.status.busy": "2022-10-23T00:46:05.252015Z",
     "iopub.status.idle": "2022-10-23T00:46:05.257823Z",
     "shell.execute_reply": "2022-10-23T00:46:05.257075Z"
    },
    "papermill": {
     "duration": 0.04725,
     "end_time": "2022-10-23T00:46:05.259862",
     "exception": false,
     "start_time": "2022-10-23T00:46:05.212612",
     "status": "completed"
    },
    "tags": []
   },
   "outputs": [],
   "source": [
    "#To remove multicollinearity, removing one of the newly created column Middle Class\n",
    "train_data.drop(['Middle Class'], axis=1,inplace=True)"
   ]
  },
  {
   "cell_type": "code",
   "execution_count": 69,
   "id": "5de8c43d",
   "metadata": {
    "execution": {
     "iopub.execute_input": "2022-10-23T00:46:05.340923Z",
     "iopub.status.busy": "2022-10-23T00:46:05.340168Z",
     "iopub.status.idle": "2022-10-23T00:46:05.355263Z",
     "shell.execute_reply": "2022-10-23T00:46:05.354331Z"
    },
    "papermill": {
     "duration": 0.058296,
     "end_time": "2022-10-23T00:46:05.357376",
     "exception": false,
     "start_time": "2022-10-23T00:46:05.299080",
     "status": "completed"
    },
    "tags": []
   },
   "outputs": [
    {
     "data": {
      "text/html": [
       "<div>\n",
       "<style scoped>\n",
       "    .dataframe tbody tr th:only-of-type {\n",
       "        vertical-align: middle;\n",
       "    }\n",
       "\n",
       "    .dataframe tbody tr th {\n",
       "        vertical-align: top;\n",
       "    }\n",
       "\n",
       "    .dataframe thead th {\n",
       "        text-align: right;\n",
       "    }\n",
       "</style>\n",
       "<table border=\"1\" class=\"dataframe\">\n",
       "  <thead>\n",
       "    <tr style=\"text-align: right;\">\n",
       "      <th></th>\n",
       "      <th>Survived</th>\n",
       "      <th>Pclass</th>\n",
       "      <th>Sex</th>\n",
       "      <th>Age</th>\n",
       "      <th>Fare</th>\n",
       "      <th>Embarked</th>\n",
       "      <th>FamilySize</th>\n",
       "      <th>Sex Encoded</th>\n",
       "      <th>Queenstown</th>\n",
       "      <th>Southampton</th>\n",
       "      <th>Upper Class</th>\n",
       "      <th>Lower Class</th>\n",
       "    </tr>\n",
       "  </thead>\n",
       "  <tbody>\n",
       "    <tr>\n",
       "      <th>777</th>\n",
       "      <td>1</td>\n",
       "      <td>3</td>\n",
       "      <td>female</td>\n",
       "      <td>5.0</td>\n",
       "      <td>12.475</td>\n",
       "      <td>Southampton</td>\n",
       "      <td>0</td>\n",
       "      <td>0</td>\n",
       "      <td>0</td>\n",
       "      <td>1</td>\n",
       "      <td>0</td>\n",
       "      <td>1</td>\n",
       "    </tr>\n",
       "    <tr>\n",
       "      <th>782</th>\n",
       "      <td>0</td>\n",
       "      <td>1</td>\n",
       "      <td>male</td>\n",
       "      <td>29.0</td>\n",
       "      <td>30.000</td>\n",
       "      <td>Southampton</td>\n",
       "      <td>0</td>\n",
       "      <td>1</td>\n",
       "      <td>0</td>\n",
       "      <td>1</td>\n",
       "      <td>1</td>\n",
       "      <td>0</td>\n",
       "    </tr>\n",
       "    <tr>\n",
       "      <th>708</th>\n",
       "      <td>1</td>\n",
       "      <td>1</td>\n",
       "      <td>female</td>\n",
       "      <td>22.0</td>\n",
       "      <td>151.550</td>\n",
       "      <td>Southampton</td>\n",
       "      <td>0</td>\n",
       "      <td>0</td>\n",
       "      <td>0</td>\n",
       "      <td>1</td>\n",
       "      <td>1</td>\n",
       "      <td>0</td>\n",
       "    </tr>\n",
       "    <tr>\n",
       "      <th>153</th>\n",
       "      <td>0</td>\n",
       "      <td>3</td>\n",
       "      <td>male</td>\n",
       "      <td>40.5</td>\n",
       "      <td>14.500</td>\n",
       "      <td>Southampton</td>\n",
       "      <td>2</td>\n",
       "      <td>1</td>\n",
       "      <td>0</td>\n",
       "      <td>1</td>\n",
       "      <td>0</td>\n",
       "      <td>1</td>\n",
       "    </tr>\n",
       "    <tr>\n",
       "      <th>563</th>\n",
       "      <td>0</td>\n",
       "      <td>3</td>\n",
       "      <td>male</td>\n",
       "      <td>29.0</td>\n",
       "      <td>8.050</td>\n",
       "      <td>Southampton</td>\n",
       "      <td>0</td>\n",
       "      <td>1</td>\n",
       "      <td>0</td>\n",
       "      <td>1</td>\n",
       "      <td>0</td>\n",
       "      <td>1</td>\n",
       "    </tr>\n",
       "  </tbody>\n",
       "</table>\n",
       "</div>"
      ],
      "text/plain": [
       "     Survived  Pclass     Sex   Age     Fare     Embarked  FamilySize  \\\n",
       "777         1       3  female   5.0   12.475  Southampton           0   \n",
       "782         0       1    male  29.0   30.000  Southampton           0   \n",
       "708         1       1  female  22.0  151.550  Southampton           0   \n",
       "153         0       3    male  40.5   14.500  Southampton           2   \n",
       "563         0       3    male  29.0    8.050  Southampton           0   \n",
       "\n",
       "     Sex Encoded  Queenstown  Southampton  Upper Class  Lower Class  \n",
       "777            0           0            1            0            1  \n",
       "782            1           0            1            1            0  \n",
       "708            0           0            1            1            0  \n",
       "153            1           0            1            0            1  \n",
       "563            1           0            1            0            1  "
      ]
     },
     "execution_count": 69,
     "metadata": {},
     "output_type": "execute_result"
    }
   ],
   "source": [
    "train_data.head()"
   ]
  },
  {
   "cell_type": "code",
   "execution_count": 70,
   "id": "e81376b0",
   "metadata": {
    "execution": {
     "iopub.execute_input": "2022-10-23T00:46:05.438704Z",
     "iopub.status.busy": "2022-10-23T00:46:05.437843Z",
     "iopub.status.idle": "2022-10-23T00:46:05.446653Z",
     "shell.execute_reply": "2022-10-23T00:46:05.445311Z"
    },
    "papermill": {
     "duration": 0.052328,
     "end_time": "2022-10-23T00:46:05.449127",
     "exception": false,
     "start_time": "2022-10-23T00:46:05.396799",
     "status": "completed"
    },
    "tags": []
   },
   "outputs": [],
   "source": [
    "#Removing the extra columns for final model building\n",
    "train_data.drop(['Pclass'], axis=1,inplace=True)\n",
    "train_data.drop(['Sex'], axis=1,inplace=True)\n",
    "train_data.drop(['Embarked'], axis=1,inplace=True)"
   ]
  },
  {
   "cell_type": "markdown",
   "id": "5f3fb708",
   "metadata": {
    "papermill": {
     "duration": 0.038067,
     "end_time": "2022-10-23T00:46:05.525943",
     "exception": false,
     "start_time": "2022-10-23T00:46:05.487876",
     "status": "completed"
    },
    "tags": []
   },
   "source": [
    "### Pairplots to check Interdependence among the Variables"
   ]
  },
  {
   "cell_type": "code",
   "execution_count": 71,
   "id": "434d779c",
   "metadata": {
    "execution": {
     "iopub.execute_input": "2022-10-23T00:46:05.605822Z",
     "iopub.status.busy": "2022-10-23T00:46:05.605172Z",
     "iopub.status.idle": "2022-10-23T00:46:22.157225Z",
     "shell.execute_reply": "2022-10-23T00:46:22.156343Z"
    },
    "papermill": {
     "duration": 16.597643,
     "end_time": "2022-10-23T00:46:22.162588",
     "exception": false,
     "start_time": "2022-10-23T00:46:05.564945",
     "status": "completed"
    },
    "scrolled": true,
    "tags": []
   },
   "outputs": [
    {
     "data": {
      "image/png": "[encoded data removed]",
      "text/plain": [
       "<Figure size 1491.88x1440 with 72 Axes>"
      ]
     },
     "metadata": {
      "needs_background": "light"
     },
     "output_type": "display_data"
    }
   ],
   "source": [
    "sns.pairplot(train_data, hue = 'Survived')\n",
    "plt.show()"
   ]
  },
  {
   "cell_type": "markdown",
   "id": "6c2055b1",
   "metadata": {
    "papermill": {
     "duration": 0.042772,
     "end_time": "2022-10-23T00:46:22.248998",
     "exception": false,
     "start_time": "2022-10-23T00:46:22.206226",
     "status": "completed"
    },
    "tags": []
   },
   "source": [
    "### Correlation Heatmaps"
   ]
  },
  {
   "cell_type": "code",
   "execution_count": 72,
   "id": "0519fe89",
   "metadata": {
    "execution": {
     "iopub.execute_input": "2022-10-23T00:46:22.338036Z",
     "iopub.status.busy": "2022-10-23T00:46:22.337432Z",
     "iopub.status.idle": "2022-10-23T00:46:22.729416Z",
     "shell.execute_reply": "2022-10-23T00:46:22.728344Z"
    },
    "papermill": {
     "duration": 0.439437,
     "end_time": "2022-10-23T00:46:22.731705",
     "exception": false,
     "start_time": "2022-10-23T00:46:22.292268",
     "status": "completed"
    },
    "tags": []
   },
   "outputs": [
    {
     "data": {
      "image/png": "[encoded data removed]",
      "text/plain": [
       "<Figure size 792x648 with 2 Axes>"
      ]
     },
     "metadata": {},
     "output_type": "display_data"
    }
   ],
   "source": [
    "sns.set(style=\"whitegrid\")\n",
    "# Create a covariance matrix\n",
    "corr = train_data.corr()\n",
    "# Creating a mask the size of our covariance matrix\n",
    "mask = np.zeros_like(corr, dtype=bool)\n",
    "mask[np.triu_indices_from(mask)] = True\n",
    "# Set up the matplotlib figure\n",
    "f, ax = plt.subplots(figsize=(11,9))\n",
    "# Generate a custom diverging colormap\n",
    "cmap = sns.diverging_palette(220,10,as_cmap=True)\n",
    "# Draw the heatmap with the mask and correct aspect ratio\n",
    "sns.heatmap(corr,mask=mask,cmap=cmap,vmax=1,center=0,square=True, \n",
    "            linewidth=.5, cbar_kws={'shrink': .5})\n",
    "ax.set_title('Multi-Collinearity of Features')\n",
    "plt.show()"
   ]
  },
  {
   "cell_type": "markdown",
   "id": "ff105eda",
   "metadata": {
    "papermill": {
     "duration": 0.043261,
     "end_time": "2022-10-23T00:46:22.819575",
     "exception": false,
     "start_time": "2022-10-23T00:46:22.776314",
     "status": "completed"
    },
    "tags": []
   },
   "source": [
    "#### Separating Input Variables and Output Variables of the Training Data"
   ]
  },
  {
   "cell_type": "code",
   "execution_count": 73,
   "id": "68d03052",
   "metadata": {
    "execution": {
     "iopub.execute_input": "2022-10-23T00:46:22.909348Z",
     "iopub.status.busy": "2022-10-23T00:46:22.908758Z",
     "iopub.status.idle": "2022-10-23T00:46:22.917089Z",
     "shell.execute_reply": "2022-10-23T00:46:22.916355Z"
    },
    "papermill": {
     "duration": 0.055666,
     "end_time": "2022-10-23T00:46:22.919053",
     "exception": false,
     "start_time": "2022-10-23T00:46:22.863387",
     "status": "completed"
    },
    "tags": []
   },
   "outputs": [
    {
     "data": {
      "text/html": [
       "<div>\n",
       "<style scoped>\n",
       "    .dataframe tbody tr th:only-of-type {\n",
       "        vertical-align: middle;\n",
       "    }\n",
       "\n",
       "    .dataframe tbody tr th {\n",
       "        vertical-align: top;\n",
       "    }\n",
       "\n",
       "    .dataframe thead th {\n",
       "        text-align: right;\n",
       "    }\n",
       "</style>\n",
       "<table border=\"1\" class=\"dataframe\">\n",
       "  <thead>\n",
       "    <tr style=\"text-align: right;\">\n",
       "      <th></th>\n",
       "      <th>Survived</th>\n",
       "    </tr>\n",
       "  </thead>\n",
       "  <tbody>\n",
       "    <tr>\n",
       "      <th>777</th>\n",
       "      <td>1</td>\n",
       "    </tr>\n",
       "    <tr>\n",
       "      <th>782</th>\n",
       "      <td>0</td>\n",
       "    </tr>\n",
       "    <tr>\n",
       "      <th>708</th>\n",
       "      <td>1</td>\n",
       "    </tr>\n",
       "    <tr>\n",
       "      <th>153</th>\n",
       "      <td>0</td>\n",
       "    </tr>\n",
       "    <tr>\n",
       "      <th>563</th>\n",
       "      <td>0</td>\n",
       "    </tr>\n",
       "  </tbody>\n",
       "</table>\n",
       "</div>"
      ],
      "text/plain": [
       "     Survived\n",
       "777         1\n",
       "782         0\n",
       "708         1\n",
       "153         0\n",
       "563         0"
      ]
     },
     "execution_count": 73,
     "metadata": {},
     "output_type": "execute_result"
    }
   ],
   "source": [
    "train_y = pd.DataFrame(train_data.Survived)\n",
    "train_y.head()"
   ]
  },
  {
   "cell_type": "code",
   "execution_count": 74,
   "id": "62631a0e",
   "metadata": {
    "execution": {
     "iopub.execute_input": "2022-10-23T00:46:23.007460Z",
     "iopub.status.busy": "2022-10-23T00:46:23.006870Z",
     "iopub.status.idle": "2022-10-23T00:46:23.020296Z",
     "shell.execute_reply": "2022-10-23T00:46:23.019234Z"
    },
    "papermill": {
     "duration": 0.06088,
     "end_time": "2022-10-23T00:46:23.022499",
     "exception": false,
     "start_time": "2022-10-23T00:46:22.961619",
     "status": "completed"
    },
    "tags": []
   },
   "outputs": [
    {
     "data": {
      "text/html": [
       "<div>\n",
       "<style scoped>\n",
       "    .dataframe tbody tr th:only-of-type {\n",
       "        vertical-align: middle;\n",
       "    }\n",
       "\n",
       "    .dataframe tbody tr th {\n",
       "        vertical-align: top;\n",
       "    }\n",
       "\n",
       "    .dataframe thead th {\n",
       "        text-align: right;\n",
       "    }\n",
       "</style>\n",
       "<table border=\"1\" class=\"dataframe\">\n",
       "  <thead>\n",
       "    <tr style=\"text-align: right;\">\n",
       "      <th></th>\n",
       "      <th>Age</th>\n",
       "      <th>Fare</th>\n",
       "      <th>FamilySize</th>\n",
       "      <th>Sex Encoded</th>\n",
       "      <th>Queenstown</th>\n",
       "      <th>Southampton</th>\n",
       "      <th>Upper Class</th>\n",
       "      <th>Lower Class</th>\n",
       "    </tr>\n",
       "  </thead>\n",
       "  <tbody>\n",
       "    <tr>\n",
       "      <th>777</th>\n",
       "      <td>5.0</td>\n",
       "      <td>12.475</td>\n",
       "      <td>0</td>\n",
       "      <td>0</td>\n",
       "      <td>0</td>\n",
       "      <td>1</td>\n",
       "      <td>0</td>\n",
       "      <td>1</td>\n",
       "    </tr>\n",
       "    <tr>\n",
       "      <th>782</th>\n",
       "      <td>29.0</td>\n",
       "      <td>30.000</td>\n",
       "      <td>0</td>\n",
       "      <td>1</td>\n",
       "      <td>0</td>\n",
       "      <td>1</td>\n",
       "      <td>1</td>\n",
       "      <td>0</td>\n",
       "    </tr>\n",
       "    <tr>\n",
       "      <th>708</th>\n",
       "      <td>22.0</td>\n",
       "      <td>151.550</td>\n",
       "      <td>0</td>\n",
       "      <td>0</td>\n",
       "      <td>0</td>\n",
       "      <td>1</td>\n",
       "      <td>1</td>\n",
       "      <td>0</td>\n",
       "    </tr>\n",
       "    <tr>\n",
       "      <th>153</th>\n",
       "      <td>40.5</td>\n",
       "      <td>14.500</td>\n",
       "      <td>2</td>\n",
       "      <td>1</td>\n",
       "      <td>0</td>\n",
       "      <td>1</td>\n",
       "      <td>0</td>\n",
       "      <td>1</td>\n",
       "    </tr>\n",
       "    <tr>\n",
       "      <th>563</th>\n",
       "      <td>29.0</td>\n",
       "      <td>8.050</td>\n",
       "      <td>0</td>\n",
       "      <td>1</td>\n",
       "      <td>0</td>\n",
       "      <td>1</td>\n",
       "      <td>0</td>\n",
       "      <td>1</td>\n",
       "    </tr>\n",
       "  </tbody>\n",
       "</table>\n",
       "</div>"
      ],
      "text/plain": [
       "      Age     Fare  FamilySize  Sex Encoded  Queenstown  Southampton  \\\n",
       "777   5.0   12.475           0            0           0            1   \n",
       "782  29.0   30.000           0            1           0            1   \n",
       "708  22.0  151.550           0            0           0            1   \n",
       "153  40.5   14.500           2            1           0            1   \n",
       "563  29.0    8.050           0            1           0            1   \n",
       "\n",
       "     Upper Class  Lower Class  \n",
       "777            0            1  \n",
       "782            1            0  \n",
       "708            1            0  \n",
       "153            0            1  \n",
       "563            0            1  "
      ]
     },
     "execution_count": 74,
     "metadata": {},
     "output_type": "execute_result"
    }
   ],
   "source": [
    "train_x = train_data.drop(['Survived'], axis=1)\n",
    "train_x.head()"
   ]
  },
  {
   "cell_type": "markdown",
   "id": "286300bb",
   "metadata": {
    "papermill": {
     "duration": 0.043742,
     "end_time": "2022-10-23T00:46:23.109984",
     "exception": false,
     "start_time": "2022-10-23T00:46:23.066242",
     "status": "completed"
    },
    "tags": []
   },
   "source": [
    "### Training Decision Tree Algorithm for Classification"
   ]
  },
  {
   "cell_type": "code",
   "execution_count": 75,
   "id": "2e69b8fe",
   "metadata": {
    "execution": {
     "iopub.execute_input": "2022-10-23T00:46:23.198116Z",
     "iopub.status.busy": "2022-10-23T00:46:23.197314Z",
     "iopub.status.idle": "2022-10-23T00:46:23.348841Z",
     "shell.execute_reply": "2022-10-23T00:46:23.347698Z"
    },
    "papermill": {
     "duration": 0.197942,
     "end_time": "2022-10-23T00:46:23.351255",
     "exception": false,
     "start_time": "2022-10-23T00:46:23.153313",
     "status": "completed"
    },
    "tags": []
   },
   "outputs": [
    {
     "data": {
      "text/plain": [
       "DecisionTreeClassifier(max_depth=3, min_samples_leaf=5, random_state=100)"
      ]
     },
     "execution_count": 75,
     "metadata": {},
     "output_type": "execute_result"
    }
   ],
   "source": [
    "#Importing Libraries\n",
    "from sklearn.tree import DecisionTreeClassifier\n",
    "from sklearn.metrics import accuracy_score\n",
    "from sklearn.metrics import classification_report\n",
    "from sklearn.metrics import confusion_matrix\n",
    "\n",
    "# Creating the classifier object using Gini Impurity as criterion\n",
    "clf_gini = DecisionTreeClassifier(criterion = \"gini\",\n",
    "            random_state = 100,max_depth=3, min_samples_leaf=5)\n",
    "\n",
    "# Performing training\n",
    "clf_gini.fit(train_x, train_y)"
   ]
  },
  {
   "cell_type": "code",
   "execution_count": 76,
   "id": "8daaee7b",
   "metadata": {
    "execution": {
     "iopub.execute_input": "2022-10-23T00:46:23.441430Z",
     "iopub.status.busy": "2022-10-23T00:46:23.440452Z",
     "iopub.status.idle": "2022-10-23T00:46:23.452321Z",
     "shell.execute_reply": "2022-10-23T00:46:23.451506Z"
    },
    "papermill": {
     "duration": 0.058939,
     "end_time": "2022-10-23T00:46:23.454362",
     "exception": false,
     "start_time": "2022-10-23T00:46:23.395423",
     "status": "completed"
    },
    "tags": []
   },
   "outputs": [
    {
     "data": {
      "text/plain": [
       "DecisionTreeClassifier(criterion='entropy', max_depth=3, min_samples_leaf=5,\n",
       "                       random_state=100)"
      ]
     },
     "execution_count": 76,
     "metadata": {},
     "output_type": "execute_result"
    }
   ],
   "source": [
    "# Creating the classifier object using Entropy as criterion\n",
    "clf_ent = DecisionTreeClassifier(criterion = \"entropy\",\n",
    "            random_state = 100,max_depth=3, min_samples_leaf=5)\n",
    "\n",
    "# Performing training\n",
    "\n",
    "clf_ent.fit(train_x, train_y)"
   ]
  },
  {
   "cell_type": "markdown",
   "id": "8b86c93c",
   "metadata": {
    "papermill": {
     "duration": 0.044367,
     "end_time": "2022-10-23T00:46:23.543393",
     "exception": false,
     "start_time": "2022-10-23T00:46:23.499026",
     "status": "completed"
    },
    "tags": []
   },
   "source": [
    "### Training Random Forest Algorithm for Classification"
   ]
  },
  {
   "cell_type": "code",
   "execution_count": 77,
   "id": "ff2997dc",
   "metadata": {
    "execution": {
     "iopub.execute_input": "2022-10-23T00:46:23.635159Z",
     "iopub.status.busy": "2022-10-23T00:46:23.634727Z",
     "iopub.status.idle": "2022-10-23T00:46:24.108994Z",
     "shell.execute_reply": "2022-10-23T00:46:24.107689Z"
    },
    "papermill": {
     "duration": 0.523689,
     "end_time": "2022-10-23T00:46:24.111331",
     "exception": false,
     "start_time": "2022-10-23T00:46:23.587642",
     "status": "completed"
    },
    "tags": []
   },
   "outputs": [
    {
     "data": {
      "text/plain": [
       "RandomForestClassifier(n_estimators=200)"
      ]
     },
     "execution_count": 77,
     "metadata": {},
     "output_type": "execute_result"
    }
   ],
   "source": [
    "from sklearn.ensemble import RandomForestClassifier\n",
    "clf_rfc = RandomForestClassifier(n_estimators=200)\n",
    "clf_rfc.fit(train_x, train_y)"
   ]
  },
  {
   "cell_type": "markdown",
   "id": "7caa23b8",
   "metadata": {
    "papermill": {
     "duration": 0.044204,
     "end_time": "2022-10-23T00:46:24.200141",
     "exception": false,
     "start_time": "2022-10-23T00:46:24.155937",
     "status": "completed"
    },
    "tags": []
   },
   "source": [
    "### Preparing the test dataset for making prediction after Model has been built"
   ]
  },
  {
   "cell_type": "code",
   "execution_count": 78,
   "id": "aaf9acfb",
   "metadata": {
    "execution": {
     "iopub.execute_input": "2022-10-23T00:46:24.290637Z",
     "iopub.status.busy": "2022-10-23T00:46:24.289824Z",
     "iopub.status.idle": "2022-10-23T00:46:24.311800Z",
     "shell.execute_reply": "2022-10-23T00:46:24.310633Z"
    },
    "papermill": {
     "duration": 0.070043,
     "end_time": "2022-10-23T00:46:24.314089",
     "exception": false,
     "start_time": "2022-10-23T00:46:24.244046",
     "status": "completed"
    },
    "scrolled": true,
    "tags": []
   },
   "outputs": [
    {
     "data": {
      "text/html": [
       "<div>\n",
       "<style scoped>\n",
       "    .dataframe tbody tr th:only-of-type {\n",
       "        vertical-align: middle;\n",
       "    }\n",
       "\n",
       "    .dataframe tbody tr th {\n",
       "        vertical-align: top;\n",
       "    }\n",
       "\n",
       "    .dataframe thead th {\n",
       "        text-align: right;\n",
       "    }\n",
       "</style>\n",
       "<table border=\"1\" class=\"dataframe\">\n",
       "  <thead>\n",
       "    <tr style=\"text-align: right;\">\n",
       "      <th></th>\n",
       "      <th>PassengerId</th>\n",
       "      <th>Survived</th>\n",
       "      <th>Pclass</th>\n",
       "      <th>Name</th>\n",
       "      <th>Sex</th>\n",
       "      <th>Age</th>\n",
       "      <th>SibSp</th>\n",
       "      <th>Parch</th>\n",
       "      <th>Ticket</th>\n",
       "      <th>Fare</th>\n",
       "      <th>Embarked</th>\n",
       "    </tr>\n",
       "  </thead>\n",
       "  <tbody>\n",
       "    <tr>\n",
       "      <th>639</th>\n",
       "      <td>640</td>\n",
       "      <td>0</td>\n",
       "      <td>3</td>\n",
       "      <td>Thorneycroft, Mr. Percival</td>\n",
       "      <td>male</td>\n",
       "      <td>29.0</td>\n",
       "      <td>1</td>\n",
       "      <td>0</td>\n",
       "      <td>376564</td>\n",
       "      <td>16.1000</td>\n",
       "      <td>S</td>\n",
       "    </tr>\n",
       "    <tr>\n",
       "      <th>147</th>\n",
       "      <td>148</td>\n",
       "      <td>0</td>\n",
       "      <td>3</td>\n",
       "      <td>Ford, Miss. Robina Maggie \"Ruby\"</td>\n",
       "      <td>female</td>\n",
       "      <td>9.0</td>\n",
       "      <td>2</td>\n",
       "      <td>2</td>\n",
       "      <td>W./C. 6608</td>\n",
       "      <td>34.3750</td>\n",
       "      <td>S</td>\n",
       "    </tr>\n",
       "    <tr>\n",
       "      <th>278</th>\n",
       "      <td>279</td>\n",
       "      <td>0</td>\n",
       "      <td>3</td>\n",
       "      <td>Rice, Master. Eric</td>\n",
       "      <td>male</td>\n",
       "      <td>7.0</td>\n",
       "      <td>4</td>\n",
       "      <td>1</td>\n",
       "      <td>382652</td>\n",
       "      <td>29.1250</td>\n",
       "      <td>Q</td>\n",
       "    </tr>\n",
       "    <tr>\n",
       "      <th>484</th>\n",
       "      <td>485</td>\n",
       "      <td>1</td>\n",
       "      <td>1</td>\n",
       "      <td>Bishop, Mr. Dickinson H</td>\n",
       "      <td>male</td>\n",
       "      <td>25.0</td>\n",
       "      <td>1</td>\n",
       "      <td>0</td>\n",
       "      <td>11967</td>\n",
       "      <td>91.0792</td>\n",
       "      <td>C</td>\n",
       "    </tr>\n",
       "    <tr>\n",
       "      <th>770</th>\n",
       "      <td>771</td>\n",
       "      <td>0</td>\n",
       "      <td>3</td>\n",
       "      <td>Lievens, Mr. Rene Aime</td>\n",
       "      <td>male</td>\n",
       "      <td>24.0</td>\n",
       "      <td>0</td>\n",
       "      <td>0</td>\n",
       "      <td>345781</td>\n",
       "      <td>9.5000</td>\n",
       "      <td>S</td>\n",
       "    </tr>\n",
       "    <tr>\n",
       "      <th>...</th>\n",
       "      <td>...</td>\n",
       "      <td>...</td>\n",
       "      <td>...</td>\n",
       "      <td>...</td>\n",
       "      <td>...</td>\n",
       "      <td>...</td>\n",
       "      <td>...</td>\n",
       "      <td>...</td>\n",
       "      <td>...</td>\n",
       "      <td>...</td>\n",
       "      <td>...</td>\n",
       "    </tr>\n",
       "    <tr>\n",
       "      <th>222</th>\n",
       "      <td>223</td>\n",
       "      <td>0</td>\n",
       "      <td>3</td>\n",
       "      <td>Green, Mr. George Henry</td>\n",
       "      <td>male</td>\n",
       "      <td>51.0</td>\n",
       "      <td>0</td>\n",
       "      <td>0</td>\n",
       "      <td>21440</td>\n",
       "      <td>8.0500</td>\n",
       "      <td>S</td>\n",
       "    </tr>\n",
       "    <tr>\n",
       "      <th>491</th>\n",
       "      <td>492</td>\n",
       "      <td>0</td>\n",
       "      <td>3</td>\n",
       "      <td>Windelov, Mr. Einar</td>\n",
       "      <td>male</td>\n",
       "      <td>21.0</td>\n",
       "      <td>0</td>\n",
       "      <td>0</td>\n",
       "      <td>SOTON/OQ 3101317</td>\n",
       "      <td>7.2500</td>\n",
       "      <td>S</td>\n",
       "    </tr>\n",
       "    <tr>\n",
       "      <th>266</th>\n",
       "      <td>267</td>\n",
       "      <td>0</td>\n",
       "      <td>3</td>\n",
       "      <td>Panula, Mr. Ernesti Arvid</td>\n",
       "      <td>male</td>\n",
       "      <td>16.0</td>\n",
       "      <td>4</td>\n",
       "      <td>1</td>\n",
       "      <td>3101295</td>\n",
       "      <td>39.6875</td>\n",
       "      <td>S</td>\n",
       "    </tr>\n",
       "    <tr>\n",
       "      <th>709</th>\n",
       "      <td>710</td>\n",
       "      <td>1</td>\n",
       "      <td>3</td>\n",
       "      <td>Moubarek, Master. Halim Gonios (\"William George\")</td>\n",
       "      <td>male</td>\n",
       "      <td>29.0</td>\n",
       "      <td>1</td>\n",
       "      <td>1</td>\n",
       "      <td>2661</td>\n",
       "      <td>15.2458</td>\n",
       "      <td>C</td>\n",
       "    </tr>\n",
       "    <tr>\n",
       "      <th>872</th>\n",
       "      <td>873</td>\n",
       "      <td>0</td>\n",
       "      <td>1</td>\n",
       "      <td>Carlsson, Mr. Frans Olof</td>\n",
       "      <td>male</td>\n",
       "      <td>33.0</td>\n",
       "      <td>0</td>\n",
       "      <td>0</td>\n",
       "      <td>695</td>\n",
       "      <td>5.0000</td>\n",
       "      <td>S</td>\n",
       "    </tr>\n",
       "  </tbody>\n",
       "</table>\n",
       "<p>178 rows × 11 columns</p>\n",
       "</div>"
      ],
      "text/plain": [
       "     PassengerId  Survived  Pclass  \\\n",
       "639          640         0       3   \n",
       "147          148         0       3   \n",
       "278          279         0       3   \n",
       "484          485         1       1   \n",
       "770          771         0       3   \n",
       "..           ...       ...     ...   \n",
       "222          223         0       3   \n",
       "491          492         0       3   \n",
       "266          267         0       3   \n",
       "709          710         1       3   \n",
       "872          873         0       1   \n",
       "\n",
       "                                                  Name     Sex   Age  SibSp  \\\n",
       "639                         Thorneycroft, Mr. Percival    male  29.0      1   \n",
       "147                   Ford, Miss. Robina Maggie \"Ruby\"  female   9.0      2   \n",
       "278                                 Rice, Master. Eric    male   7.0      4   \n",
       "484                            Bishop, Mr. Dickinson H    male  25.0      1   \n",
       "770                             Lievens, Mr. Rene Aime    male  24.0      0   \n",
       "..                                                 ...     ...   ...    ...   \n",
       "222                            Green, Mr. George Henry    male  51.0      0   \n",
       "491                                Windelov, Mr. Einar    male  21.0      0   \n",
       "266                          Panula, Mr. Ernesti Arvid    male  16.0      4   \n",
       "709  Moubarek, Master. Halim Gonios (\"William George\")    male  29.0      1   \n",
       "872                           Carlsson, Mr. Frans Olof    male  33.0      0   \n",
       "\n",
       "     Parch            Ticket     Fare Embarked  \n",
       "639      0            376564  16.1000        S  \n",
       "147      2        W./C. 6608  34.3750        S  \n",
       "278      1            382652  29.1250        Q  \n",
       "484      0             11967  91.0792        C  \n",
       "770      0            345781   9.5000        S  \n",
       "..     ...               ...      ...      ...  \n",
       "222      0             21440   8.0500        S  \n",
       "491      0  SOTON/OQ 3101317   7.2500        S  \n",
       "266      1           3101295  39.6875        S  \n",
       "709      1              2661  15.2458        C  \n",
       "872      0               695   5.0000        S  \n",
       "\n",
       "[178 rows x 11 columns]"
      ]
     },
     "execution_count": 78,
     "metadata": {},
     "output_type": "execute_result"
    }
   ],
   "source": [
    "test_data"
   ]
  },
  {
   "cell_type": "code",
   "execution_count": 79,
   "id": "11960725",
   "metadata": {
    "execution": {
     "iopub.execute_input": "2022-10-23T00:46:24.408113Z",
     "iopub.status.busy": "2022-10-23T00:46:24.407658Z",
     "iopub.status.idle": "2022-10-23T00:46:24.415909Z",
     "shell.execute_reply": "2022-10-23T00:46:24.414678Z"
    },
    "papermill": {
     "duration": 0.058247,
     "end_time": "2022-10-23T00:46:24.418252",
     "exception": false,
     "start_time": "2022-10-23T00:46:24.360005",
     "status": "completed"
    },
    "tags": []
   },
   "outputs": [],
   "source": [
    "#Dropping the ID, Name and Ticket column\n",
    "test_data.drop('PassengerId', axis = 1, inplace=True)\n",
    "test_data.drop('Name', axis = 1, inplace=True)\n",
    "test_data.drop('Ticket', axis = 1, inplace=True)"
   ]
  },
  {
   "cell_type": "code",
   "execution_count": 80,
   "id": "713eb50b",
   "metadata": {
    "execution": {
     "iopub.execute_input": "2022-10-23T00:46:24.514025Z",
     "iopub.status.busy": "2022-10-23T00:46:24.513606Z",
     "iopub.status.idle": "2022-10-23T00:46:24.531580Z",
     "shell.execute_reply": "2022-10-23T00:46:24.530491Z"
    },
    "papermill": {
     "duration": 0.070016,
     "end_time": "2022-10-23T00:46:24.534081",
     "exception": false,
     "start_time": "2022-10-23T00:46:24.464065",
     "status": "completed"
    },
    "scrolled": true,
    "tags": []
   },
   "outputs": [
    {
     "data": {
      "text/html": [
       "<div>\n",
       "<style scoped>\n",
       "    .dataframe tbody tr th:only-of-type {\n",
       "        vertical-align: middle;\n",
       "    }\n",
       "\n",
       "    .dataframe tbody tr th {\n",
       "        vertical-align: top;\n",
       "    }\n",
       "\n",
       "    .dataframe thead th {\n",
       "        text-align: right;\n",
       "    }\n",
       "</style>\n",
       "<table border=\"1\" class=\"dataframe\">\n",
       "  <thead>\n",
       "    <tr style=\"text-align: right;\">\n",
       "      <th></th>\n",
       "      <th>Survived</th>\n",
       "      <th>Pclass</th>\n",
       "      <th>Sex</th>\n",
       "      <th>Age</th>\n",
       "      <th>Fare</th>\n",
       "      <th>Embarked</th>\n",
       "      <th>FamilySize</th>\n",
       "    </tr>\n",
       "  </thead>\n",
       "  <tbody>\n",
       "    <tr>\n",
       "      <th>639</th>\n",
       "      <td>0</td>\n",
       "      <td>3</td>\n",
       "      <td>male</td>\n",
       "      <td>29.0</td>\n",
       "      <td>16.1000</td>\n",
       "      <td>S</td>\n",
       "      <td>1</td>\n",
       "    </tr>\n",
       "    <tr>\n",
       "      <th>147</th>\n",
       "      <td>0</td>\n",
       "      <td>3</td>\n",
       "      <td>female</td>\n",
       "      <td>9.0</td>\n",
       "      <td>34.3750</td>\n",
       "      <td>S</td>\n",
       "      <td>4</td>\n",
       "    </tr>\n",
       "    <tr>\n",
       "      <th>278</th>\n",
       "      <td>0</td>\n",
       "      <td>3</td>\n",
       "      <td>male</td>\n",
       "      <td>7.0</td>\n",
       "      <td>29.1250</td>\n",
       "      <td>Q</td>\n",
       "      <td>5</td>\n",
       "    </tr>\n",
       "    <tr>\n",
       "      <th>484</th>\n",
       "      <td>1</td>\n",
       "      <td>1</td>\n",
       "      <td>male</td>\n",
       "      <td>25.0</td>\n",
       "      <td>91.0792</td>\n",
       "      <td>C</td>\n",
       "      <td>1</td>\n",
       "    </tr>\n",
       "    <tr>\n",
       "      <th>770</th>\n",
       "      <td>0</td>\n",
       "      <td>3</td>\n",
       "      <td>male</td>\n",
       "      <td>24.0</td>\n",
       "      <td>9.5000</td>\n",
       "      <td>S</td>\n",
       "      <td>0</td>\n",
       "    </tr>\n",
       "  </tbody>\n",
       "</table>\n",
       "</div>"
      ],
      "text/plain": [
       "     Survived  Pclass     Sex   Age     Fare Embarked  FamilySize\n",
       "639         0       3    male  29.0  16.1000        S           1\n",
       "147         0       3  female   9.0  34.3750        S           4\n",
       "278         0       3    male   7.0  29.1250        Q           5\n",
       "484         1       1    male  25.0  91.0792        C           1\n",
       "770         0       3    male  24.0   9.5000        S           0"
      ]
     },
     "execution_count": 80,
     "metadata": {},
     "output_type": "execute_result"
    }
   ],
   "source": [
    "# add new column (FamilySize) to dataframe - sum of SibSp and Parch\n",
    "test_data['FamilySize'] = test_data['SibSp'] + test_data['Parch']\n",
    "#Removing SibSP and Parch\n",
    "test_data.drop('SibSp', axis = 1, inplace=True)\n",
    "test_data.drop('Parch', axis = 1, inplace=True)\n",
    "test_data.head()"
   ]
  },
  {
   "cell_type": "code",
   "execution_count": 81,
   "id": "cf793bfb",
   "metadata": {
    "execution": {
     "iopub.execute_input": "2022-10-23T00:46:24.628785Z",
     "iopub.status.busy": "2022-10-23T00:46:24.628065Z",
     "iopub.status.idle": "2022-10-23T00:46:24.643998Z",
     "shell.execute_reply": "2022-10-23T00:46:24.642920Z"
    },
    "papermill": {
     "duration": 0.066246,
     "end_time": "2022-10-23T00:46:24.646230",
     "exception": false,
     "start_time": "2022-10-23T00:46:24.579984",
     "status": "completed"
    },
    "scrolled": true,
    "tags": []
   },
   "outputs": [
    {
     "data": {
      "text/html": [
       "<div>\n",
       "<style scoped>\n",
       "    .dataframe tbody tr th:only-of-type {\n",
       "        vertical-align: middle;\n",
       "    }\n",
       "\n",
       "    .dataframe tbody tr th {\n",
       "        vertical-align: top;\n",
       "    }\n",
       "\n",
       "    .dataframe thead th {\n",
       "        text-align: right;\n",
       "    }\n",
       "</style>\n",
       "<table border=\"1\" class=\"dataframe\">\n",
       "  <thead>\n",
       "    <tr style=\"text-align: right;\">\n",
       "      <th></th>\n",
       "      <th>Survived</th>\n",
       "      <th>Pclass</th>\n",
       "      <th>Age</th>\n",
       "      <th>Fare</th>\n",
       "      <th>Embarked</th>\n",
       "      <th>FamilySize</th>\n",
       "      <th>Sex Encoded</th>\n",
       "    </tr>\n",
       "  </thead>\n",
       "  <tbody>\n",
       "    <tr>\n",
       "      <th>639</th>\n",
       "      <td>0</td>\n",
       "      <td>3</td>\n",
       "      <td>29.0</td>\n",
       "      <td>16.1000</td>\n",
       "      <td>S</td>\n",
       "      <td>1</td>\n",
       "      <td>1</td>\n",
       "    </tr>\n",
       "    <tr>\n",
       "      <th>147</th>\n",
       "      <td>0</td>\n",
       "      <td>3</td>\n",
       "      <td>9.0</td>\n",
       "      <td>34.3750</td>\n",
       "      <td>S</td>\n",
       "      <td>4</td>\n",
       "      <td>0</td>\n",
       "    </tr>\n",
       "    <tr>\n",
       "      <th>278</th>\n",
       "      <td>0</td>\n",
       "      <td>3</td>\n",
       "      <td>7.0</td>\n",
       "      <td>29.1250</td>\n",
       "      <td>Q</td>\n",
       "      <td>5</td>\n",
       "      <td>1</td>\n",
       "    </tr>\n",
       "    <tr>\n",
       "      <th>484</th>\n",
       "      <td>1</td>\n",
       "      <td>1</td>\n",
       "      <td>25.0</td>\n",
       "      <td>91.0792</td>\n",
       "      <td>C</td>\n",
       "      <td>1</td>\n",
       "      <td>1</td>\n",
       "    </tr>\n",
       "    <tr>\n",
       "      <th>770</th>\n",
       "      <td>0</td>\n",
       "      <td>3</td>\n",
       "      <td>24.0</td>\n",
       "      <td>9.5000</td>\n",
       "      <td>S</td>\n",
       "      <td>0</td>\n",
       "      <td>1</td>\n",
       "    </tr>\n",
       "  </tbody>\n",
       "</table>\n",
       "</div>"
      ],
      "text/plain": [
       "     Survived  Pclass   Age     Fare Embarked  FamilySize  Sex Encoded\n",
       "639         0       3  29.0  16.1000        S           1            1\n",
       "147         0       3   9.0  34.3750        S           4            0\n",
       "278         0       3   7.0  29.1250        Q           5            1\n",
       "484         1       1  25.0  91.0792        C           1            1\n",
       "770         0       3  24.0   9.5000        S           0            1"
      ]
     },
     "execution_count": 81,
     "metadata": {},
     "output_type": "execute_result"
    }
   ],
   "source": [
    "#For the Sex Column, using Label Encoder\n",
    "le_test= preprocessing.LabelEncoder()\n",
    "test_data['Sex Encoded'] = le_test.fit_transform(test_data.Sex)\n",
    "#Dropping the Sex Column after Sex Encoded has been created\n",
    "test_data.drop('Sex', axis = 1, inplace=True)\n",
    "test_data.head()"
   ]
  },
  {
   "cell_type": "code",
   "execution_count": 82,
   "id": "464216e4",
   "metadata": {
    "execution": {
     "iopub.execute_input": "2022-10-23T00:46:24.743072Z",
     "iopub.status.busy": "2022-10-23T00:46:24.742394Z",
     "iopub.status.idle": "2022-10-23T00:46:24.762344Z",
     "shell.execute_reply": "2022-10-23T00:46:24.761305Z"
    },
    "papermill": {
     "duration": 0.071273,
     "end_time": "2022-10-23T00:46:24.764544",
     "exception": false,
     "start_time": "2022-10-23T00:46:24.693271",
     "status": "completed"
    },
    "scrolled": true,
    "tags": []
   },
   "outputs": [
    {
     "data": {
      "text/html": [
       "<div>\n",
       "<style scoped>\n",
       "    .dataframe tbody tr th:only-of-type {\n",
       "        vertical-align: middle;\n",
       "    }\n",
       "\n",
       "    .dataframe tbody tr th {\n",
       "        vertical-align: top;\n",
       "    }\n",
       "\n",
       "    .dataframe thead th {\n",
       "        text-align: right;\n",
       "    }\n",
       "</style>\n",
       "<table border=\"1\" class=\"dataframe\">\n",
       "  <thead>\n",
       "    <tr style=\"text-align: right;\">\n",
       "      <th></th>\n",
       "      <th>Survived</th>\n",
       "      <th>Pclass</th>\n",
       "      <th>Age</th>\n",
       "      <th>Fare</th>\n",
       "      <th>FamilySize</th>\n",
       "      <th>Sex Encoded</th>\n",
       "      <th>Queenstown</th>\n",
       "      <th>Southampton</th>\n",
       "    </tr>\n",
       "  </thead>\n",
       "  <tbody>\n",
       "    <tr>\n",
       "      <th>639</th>\n",
       "      <td>0</td>\n",
       "      <td>3</td>\n",
       "      <td>29.0</td>\n",
       "      <td>16.1000</td>\n",
       "      <td>1</td>\n",
       "      <td>1</td>\n",
       "      <td>0</td>\n",
       "      <td>1</td>\n",
       "    </tr>\n",
       "    <tr>\n",
       "      <th>147</th>\n",
       "      <td>0</td>\n",
       "      <td>3</td>\n",
       "      <td>9.0</td>\n",
       "      <td>34.3750</td>\n",
       "      <td>4</td>\n",
       "      <td>0</td>\n",
       "      <td>0</td>\n",
       "      <td>1</td>\n",
       "    </tr>\n",
       "    <tr>\n",
       "      <th>278</th>\n",
       "      <td>0</td>\n",
       "      <td>3</td>\n",
       "      <td>7.0</td>\n",
       "      <td>29.1250</td>\n",
       "      <td>5</td>\n",
       "      <td>1</td>\n",
       "      <td>1</td>\n",
       "      <td>0</td>\n",
       "    </tr>\n",
       "    <tr>\n",
       "      <th>484</th>\n",
       "      <td>1</td>\n",
       "      <td>1</td>\n",
       "      <td>25.0</td>\n",
       "      <td>91.0792</td>\n",
       "      <td>1</td>\n",
       "      <td>1</td>\n",
       "      <td>0</td>\n",
       "      <td>0</td>\n",
       "    </tr>\n",
       "    <tr>\n",
       "      <th>770</th>\n",
       "      <td>0</td>\n",
       "      <td>3</td>\n",
       "      <td>24.0</td>\n",
       "      <td>9.5000</td>\n",
       "      <td>0</td>\n",
       "      <td>1</td>\n",
       "      <td>0</td>\n",
       "      <td>1</td>\n",
       "    </tr>\n",
       "  </tbody>\n",
       "</table>\n",
       "</div>"
      ],
      "text/plain": [
       "     Survived  Pclass   Age     Fare  FamilySize  Sex Encoded  Queenstown  \\\n",
       "639         0       3  29.0  16.1000           1            1           0   \n",
       "147         0       3   9.0  34.3750           4            0           0   \n",
       "278         0       3   7.0  29.1250           5            1           1   \n",
       "484         1       1  25.0  91.0792           1            1           0   \n",
       "770         0       3  24.0   9.5000           0            1           0   \n",
       "\n",
       "     Southampton  \n",
       "639            1  \n",
       "147            1  \n",
       "278            0  \n",
       "484            0  \n",
       "770            1  "
      ]
     },
     "execution_count": 82,
     "metadata": {},
     "output_type": "execute_result"
    }
   ],
   "source": [
    "#Mapping Port Names for Embarked from previously used map_data function\n",
    "\n",
    "test_data = map_data(test_data)\n",
    "\n",
    "#Using pd.get_dummies to create dummy variables for one hot encoding of Embarked Column\n",
    "temp = pd.get_dummies(test_data['Embarked'])\n",
    "test_data = pd.concat([test_data, temp], axis = 1)\n",
    "#Removing Chebourg\n",
    "test_data.drop(['Cherbourg'], axis=1,inplace=True)\n",
    "#Finally removing Embarked\n",
    "test_data.drop(['Embarked'], axis=1,inplace=True)\n",
    "#Checking\n",
    "test_data.head()"
   ]
  },
  {
   "cell_type": "code",
   "execution_count": 83,
   "id": "8bec03cb",
   "metadata": {
    "execution": {
     "iopub.execute_input": "2022-10-23T00:46:24.866267Z",
     "iopub.status.busy": "2022-10-23T00:46:24.865048Z",
     "iopub.status.idle": "2022-10-23T00:46:24.885449Z",
     "shell.execute_reply": "2022-10-23T00:46:24.884534Z"
    },
    "papermill": {
     "duration": 0.071957,
     "end_time": "2022-10-23T00:46:24.887668",
     "exception": false,
     "start_time": "2022-10-23T00:46:24.815711",
     "status": "completed"
    },
    "tags": []
   },
   "outputs": [
    {
     "data": {
      "text/html": [
       "<div>\n",
       "<style scoped>\n",
       "    .dataframe tbody tr th:only-of-type {\n",
       "        vertical-align: middle;\n",
       "    }\n",
       "\n",
       "    .dataframe tbody tr th {\n",
       "        vertical-align: top;\n",
       "    }\n",
       "\n",
       "    .dataframe thead th {\n",
       "        text-align: right;\n",
       "    }\n",
       "</style>\n",
       "<table border=\"1\" class=\"dataframe\">\n",
       "  <thead>\n",
       "    <tr style=\"text-align: right;\">\n",
       "      <th></th>\n",
       "      <th>Survived</th>\n",
       "      <th>Age</th>\n",
       "      <th>Fare</th>\n",
       "      <th>FamilySize</th>\n",
       "      <th>Sex Encoded</th>\n",
       "      <th>Queenstown</th>\n",
       "      <th>Southampton</th>\n",
       "      <th>Upper Class</th>\n",
       "      <th>Lower Class</th>\n",
       "    </tr>\n",
       "  </thead>\n",
       "  <tbody>\n",
       "    <tr>\n",
       "      <th>639</th>\n",
       "      <td>0</td>\n",
       "      <td>29.0</td>\n",
       "      <td>16.1000</td>\n",
       "      <td>1</td>\n",
       "      <td>1</td>\n",
       "      <td>0</td>\n",
       "      <td>1</td>\n",
       "      <td>0</td>\n",
       "      <td>1</td>\n",
       "    </tr>\n",
       "    <tr>\n",
       "      <th>147</th>\n",
       "      <td>0</td>\n",
       "      <td>9.0</td>\n",
       "      <td>34.3750</td>\n",
       "      <td>4</td>\n",
       "      <td>0</td>\n",
       "      <td>0</td>\n",
       "      <td>1</td>\n",
       "      <td>0</td>\n",
       "      <td>1</td>\n",
       "    </tr>\n",
       "    <tr>\n",
       "      <th>278</th>\n",
       "      <td>0</td>\n",
       "      <td>7.0</td>\n",
       "      <td>29.1250</td>\n",
       "      <td>5</td>\n",
       "      <td>1</td>\n",
       "      <td>1</td>\n",
       "      <td>0</td>\n",
       "      <td>0</td>\n",
       "      <td>1</td>\n",
       "    </tr>\n",
       "    <tr>\n",
       "      <th>484</th>\n",
       "      <td>1</td>\n",
       "      <td>25.0</td>\n",
       "      <td>91.0792</td>\n",
       "      <td>1</td>\n",
       "      <td>1</td>\n",
       "      <td>0</td>\n",
       "      <td>0</td>\n",
       "      <td>1</td>\n",
       "      <td>0</td>\n",
       "    </tr>\n",
       "    <tr>\n",
       "      <th>770</th>\n",
       "      <td>0</td>\n",
       "      <td>24.0</td>\n",
       "      <td>9.5000</td>\n",
       "      <td>0</td>\n",
       "      <td>1</td>\n",
       "      <td>0</td>\n",
       "      <td>1</td>\n",
       "      <td>0</td>\n",
       "      <td>1</td>\n",
       "    </tr>\n",
       "  </tbody>\n",
       "</table>\n",
       "</div>"
      ],
      "text/plain": [
       "     Survived   Age     Fare  FamilySize  Sex Encoded  Queenstown  \\\n",
       "639         0  29.0  16.1000           1            1           0   \n",
       "147         0   9.0  34.3750           4            0           0   \n",
       "278         0   7.0  29.1250           5            1           1   \n",
       "484         1  25.0  91.0792           1            1           0   \n",
       "770         0  24.0   9.5000           0            1           0   \n",
       "\n",
       "     Southampton  Upper Class  Lower Class  \n",
       "639            1            0            1  \n",
       "147            1            0            1  \n",
       "278            0            0            1  \n",
       "484            0            1            0  \n",
       "770            1            0            1  "
      ]
     },
     "execution_count": 83,
     "metadata": {},
     "output_type": "execute_result"
    }
   ],
   "source": [
    "#Using pd.get_dummies to create dummy variables for one hot encoding of Pclass column\n",
    "temp = pd.get_dummies(test_data['Pclass'])\n",
    "test_data = pd.concat([test_data, temp], axis = 1)\n",
    "#Renaming the Column Names\n",
    "test_data  = test_data.rename(columns={1: 'Upper Class', 2: 'Middle Class', 3: 'Lower Class'})\n",
    "#Removing Middle Class\n",
    "test_data.drop(['Middle Class'], axis=1,inplace=True)\n",
    "#Finally removing Pclass\n",
    "test_data.drop(['Pclass'], axis=1,inplace=True)\n",
    "#Checking\n",
    "test_data.head()"
   ]
  },
  {
   "cell_type": "markdown",
   "id": "3666067f",
   "metadata": {
    "papermill": {
     "duration": 0.047701,
     "end_time": "2022-10-23T00:46:24.983870",
     "exception": false,
     "start_time": "2022-10-23T00:46:24.936169",
     "status": "completed"
    },
    "tags": []
   },
   "source": [
    "#### Separating Input Variables and Output Variables of the Test Data"
   ]
  },
  {
   "cell_type": "code",
   "execution_count": 84,
   "id": "14f1169a",
   "metadata": {
    "execution": {
     "iopub.execute_input": "2022-10-23T00:46:25.079603Z",
     "iopub.status.busy": "2022-10-23T00:46:25.078840Z",
     "iopub.status.idle": "2022-10-23T00:46:25.088383Z",
     "shell.execute_reply": "2022-10-23T00:46:25.087227Z"
    },
    "papermill": {
     "duration": 0.059643,
     "end_time": "2022-10-23T00:46:25.090506",
     "exception": false,
     "start_time": "2022-10-23T00:46:25.030863",
     "status": "completed"
    },
    "scrolled": true,
    "tags": []
   },
   "outputs": [
    {
     "data": {
      "text/html": [
       "<div>\n",
       "<style scoped>\n",
       "    .dataframe tbody tr th:only-of-type {\n",
       "        vertical-align: middle;\n",
       "    }\n",
       "\n",
       "    .dataframe tbody tr th {\n",
       "        vertical-align: top;\n",
       "    }\n",
       "\n",
       "    .dataframe thead th {\n",
       "        text-align: right;\n",
       "    }\n",
       "</style>\n",
       "<table border=\"1\" class=\"dataframe\">\n",
       "  <thead>\n",
       "    <tr style=\"text-align: right;\">\n",
       "      <th></th>\n",
       "      <th>Survived</th>\n",
       "    </tr>\n",
       "  </thead>\n",
       "  <tbody>\n",
       "    <tr>\n",
       "      <th>639</th>\n",
       "      <td>0</td>\n",
       "    </tr>\n",
       "    <tr>\n",
       "      <th>147</th>\n",
       "      <td>0</td>\n",
       "    </tr>\n",
       "    <tr>\n",
       "      <th>278</th>\n",
       "      <td>0</td>\n",
       "    </tr>\n",
       "    <tr>\n",
       "      <th>484</th>\n",
       "      <td>1</td>\n",
       "    </tr>\n",
       "    <tr>\n",
       "      <th>770</th>\n",
       "      <td>0</td>\n",
       "    </tr>\n",
       "  </tbody>\n",
       "</table>\n",
       "</div>"
      ],
      "text/plain": [
       "     Survived\n",
       "639         0\n",
       "147         0\n",
       "278         0\n",
       "484         1\n",
       "770         0"
      ]
     },
     "execution_count": 84,
     "metadata": {},
     "output_type": "execute_result"
    }
   ],
   "source": [
    "test_y = pd.DataFrame(test_data.Survived)\n",
    "test_y.head()"
   ]
  },
  {
   "cell_type": "code",
   "execution_count": 85,
   "id": "0d27fbfb",
   "metadata": {
    "execution": {
     "iopub.execute_input": "2022-10-23T00:46:25.215164Z",
     "iopub.status.busy": "2022-10-23T00:46:25.214763Z",
     "iopub.status.idle": "2022-10-23T00:46:25.229026Z",
     "shell.execute_reply": "2022-10-23T00:46:25.228295Z"
    },
    "papermill": {
     "duration": 0.083979,
     "end_time": "2022-10-23T00:46:25.231119",
     "exception": false,
     "start_time": "2022-10-23T00:46:25.147140",
     "status": "completed"
    },
    "tags": []
   },
   "outputs": [
    {
     "data": {
      "text/html": [
       "<div>\n",
       "<style scoped>\n",
       "    .dataframe tbody tr th:only-of-type {\n",
       "        vertical-align: middle;\n",
       "    }\n",
       "\n",
       "    .dataframe tbody tr th {\n",
       "        vertical-align: top;\n",
       "    }\n",
       "\n",
       "    .dataframe thead th {\n",
       "        text-align: right;\n",
       "    }\n",
       "</style>\n",
       "<table border=\"1\" class=\"dataframe\">\n",
       "  <thead>\n",
       "    <tr style=\"text-align: right;\">\n",
       "      <th></th>\n",
       "      <th>Age</th>\n",
       "      <th>Fare</th>\n",
       "      <th>FamilySize</th>\n",
       "      <th>Sex Encoded</th>\n",
       "      <th>Queenstown</th>\n",
       "      <th>Southampton</th>\n",
       "      <th>Upper Class</th>\n",
       "      <th>Lower Class</th>\n",
       "    </tr>\n",
       "  </thead>\n",
       "  <tbody>\n",
       "    <tr>\n",
       "      <th>639</th>\n",
       "      <td>29.0</td>\n",
       "      <td>16.1000</td>\n",
       "      <td>1</td>\n",
       "      <td>1</td>\n",
       "      <td>0</td>\n",
       "      <td>1</td>\n",
       "      <td>0</td>\n",
       "      <td>1</td>\n",
       "    </tr>\n",
       "    <tr>\n",
       "      <th>147</th>\n",
       "      <td>9.0</td>\n",
       "      <td>34.3750</td>\n",
       "      <td>4</td>\n",
       "      <td>0</td>\n",
       "      <td>0</td>\n",
       "      <td>1</td>\n",
       "      <td>0</td>\n",
       "      <td>1</td>\n",
       "    </tr>\n",
       "    <tr>\n",
       "      <th>278</th>\n",
       "      <td>7.0</td>\n",
       "      <td>29.1250</td>\n",
       "      <td>5</td>\n",
       "      <td>1</td>\n",
       "      <td>1</td>\n",
       "      <td>0</td>\n",
       "      <td>0</td>\n",
       "      <td>1</td>\n",
       "    </tr>\n",
       "    <tr>\n",
       "      <th>484</th>\n",
       "      <td>25.0</td>\n",
       "      <td>91.0792</td>\n",
       "      <td>1</td>\n",
       "      <td>1</td>\n",
       "      <td>0</td>\n",
       "      <td>0</td>\n",
       "      <td>1</td>\n",
       "      <td>0</td>\n",
       "    </tr>\n",
       "    <tr>\n",
       "      <th>770</th>\n",
       "      <td>24.0</td>\n",
       "      <td>9.5000</td>\n",
       "      <td>0</td>\n",
       "      <td>1</td>\n",
       "      <td>0</td>\n",
       "      <td>1</td>\n",
       "      <td>0</td>\n",
       "      <td>1</td>\n",
       "    </tr>\n",
       "  </tbody>\n",
       "</table>\n",
       "</div>"
      ],
      "text/plain": [
       "      Age     Fare  FamilySize  Sex Encoded  Queenstown  Southampton  \\\n",
       "639  29.0  16.1000           1            1           0            1   \n",
       "147   9.0  34.3750           4            0           0            1   \n",
       "278   7.0  29.1250           5            1           1            0   \n",
       "484  25.0  91.0792           1            1           0            0   \n",
       "770  24.0   9.5000           0            1           0            1   \n",
       "\n",
       "     Upper Class  Lower Class  \n",
       "639            0            1  \n",
       "147            0            1  \n",
       "278            0            1  \n",
       "484            1            0  \n",
       "770            0            1  "
      ]
     },
     "execution_count": 85,
     "metadata": {},
     "output_type": "execute_result"
    }
   ],
   "source": [
    "test_x = test_data.drop(['Survived'], axis=1)\n",
    "test_x.head()"
   ]
  },
  {
   "cell_type": "markdown",
   "id": "a8974053",
   "metadata": {
    "papermill": {
     "duration": 0.050028,
     "end_time": "2022-10-23T00:46:25.331165",
     "exception": false,
     "start_time": "2022-10-23T00:46:25.281137",
     "status": "completed"
    },
    "tags": []
   },
   "source": [
    "### Test Data Prediction\n",
    "\n",
    "#### 1. Gini Impurity D-Tree"
   ]
  },
  {
   "cell_type": "code",
   "execution_count": 86,
   "id": "df36dc98",
   "metadata": {
    "execution": {
     "iopub.execute_input": "2022-10-23T00:46:25.426528Z",
     "iopub.status.busy": "2022-10-23T00:46:25.425839Z",
     "iopub.status.idle": "2022-10-23T00:46:25.434404Z",
     "shell.execute_reply": "2022-10-23T00:46:25.432860Z"
    },
    "papermill": {
     "duration": 0.059733,
     "end_time": "2022-10-23T00:46:25.436902",
     "exception": false,
     "start_time": "2022-10-23T00:46:25.377169",
     "status": "completed"
    },
    "tags": []
   },
   "outputs": [
    {
     "name": "stdout",
     "output_type": "stream",
     "text": [
      "Predicted Values: [0 0 0 1 0 1 0 0 0 1 1 0 0 1 1 0 0 1 0 0 1 1 0 0 1 1 1 0 0 0 1 1 0 0 0 0 1\n",
      " 1 0 0 1 0 1 0 0 0 0 0 0 0 0 0 0 0 0 1 0 0 1 1 0 0 0 1 1 0 1 0 0 0 1 0 1 0\n",
      " 0 0 0 0 0 1 0 0 0 1 1 0 0 1 0 1 1 0 0 0 0 0 0 1 0 0 0 0 0 0 0 0 0 0 1 0 1\n",
      " 1 0 0 0 0 0 1 0 0 0 0 1 1 0 1 1 0 0 1 1 1 0 0 0 0 0 0 1 0 1 0 1 1 1 0 0 0\n",
      " 1 0 0 0 0 0 0 1 1 1 0 0 1 0 0 1 1 1 1 1 0 1 1 1 0 0 0 0 0 0]\n"
     ]
    }
   ],
   "source": [
    "# Predicton on test with giniIndex\n",
    "y_pred_gini = clf_gini.predict(test_x)\n",
    "\n",
    "print('Predicted Values:',y_pred_gini)"
   ]
  },
  {
   "cell_type": "code",
   "execution_count": 87,
   "id": "4f3bd619",
   "metadata": {
    "execution": {
     "iopub.execute_input": "2022-10-23T00:46:25.536259Z",
     "iopub.status.busy": "2022-10-23T00:46:25.535145Z",
     "iopub.status.idle": "2022-10-23T00:46:25.541890Z",
     "shell.execute_reply": "2022-10-23T00:46:25.540534Z"
    },
    "papermill": {
     "duration": 0.059147,
     "end_time": "2022-10-23T00:46:25.544431",
     "exception": false,
     "start_time": "2022-10-23T00:46:25.485284",
     "status": "completed"
    },
    "tags": []
   },
   "outputs": [
    {
     "name": "stdout",
     "output_type": "stream",
     "text": [
      "Accuracy :  83.14606741573034\n"
     ]
    }
   ],
   "source": [
    "#Accuracy Score with Gini Impurity\n",
    "print(\"Accuracy : \",accuracy_score(test_y,y_pred_gini)*100)"
   ]
  },
  {
   "cell_type": "code",
   "execution_count": 88,
   "id": "f67cdf77",
   "metadata": {
    "execution": {
     "iopub.execute_input": "2022-10-23T00:46:25.643912Z",
     "iopub.status.busy": "2022-10-23T00:46:25.643512Z",
     "iopub.status.idle": "2022-10-23T00:46:25.651087Z",
     "shell.execute_reply": "2022-10-23T00:46:25.649587Z"
    },
    "papermill": {
     "duration": 0.06054,
     "end_time": "2022-10-23T00:46:25.653322",
     "exception": false,
     "start_time": "2022-10-23T00:46:25.592782",
     "status": "completed"
    },
    "scrolled": true,
    "tags": []
   },
   "outputs": [
    {
     "name": "stdout",
     "output_type": "stream",
     "text": [
      "Confusion Matrix:  [[100  14]\n",
      " [ 16  48]]\n"
     ]
    }
   ],
   "source": [
    "#Confusion Matrix with Gini Impurity\n",
    "print(\"Confusion Matrix: \",confusion_matrix(test_y,y_pred_gini))"
   ]
  },
  {
   "cell_type": "code",
   "execution_count": 89,
   "id": "867ffc4e",
   "metadata": {
    "execution": {
     "iopub.execute_input": "2022-10-23T00:46:25.751102Z",
     "iopub.status.busy": "2022-10-23T00:46:25.749898Z",
     "iopub.status.idle": "2022-10-23T00:46:26.275750Z",
     "shell.execute_reply": "2022-10-23T00:46:26.274942Z"
    },
    "papermill": {
     "duration": 0.576806,
     "end_time": "2022-10-23T00:46:26.277801",
     "exception": false,
     "start_time": "2022-10-23T00:46:25.700995",
     "status": "completed"
    },
    "tags": []
   },
   "outputs": [
    {
     "data": {
      "image/png": "[encoded data removed]",
      "text/plain": [
       "<Figure size 432x288 with 2 Axes>"
      ]
     },
     "metadata": {},
     "output_type": "display_data"
    }
   ],
   "source": [
    "#Confusion Matrix in the form of Heatmap\n",
    "from sklearn import metrics\n",
    "cnf_matrix = metrics.confusion_matrix(test_y,y_pred_gini)\n",
    "p = sns.heatmap(pd.DataFrame(cnf_matrix), annot=True, fmt='g')#,cmap=\"crest\" )\n",
    "plt.title('Confusion matrix', y=1.1)\n",
    "plt.ylabel('Actual label')\n",
    "plt.xlabel('Predicted label')\n",
    "plt.show()"
   ]
  },
  {
   "cell_type": "code",
   "execution_count": 90,
   "id": "4d9666d2",
   "metadata": {
    "execution": {
     "iopub.execute_input": "2022-10-23T00:46:26.376302Z",
     "iopub.status.busy": "2022-10-23T00:46:26.375251Z",
     "iopub.status.idle": "2022-10-23T00:46:26.386023Z",
     "shell.execute_reply": "2022-10-23T00:46:26.384760Z"
    },
    "papermill": {
     "duration": 0.063407,
     "end_time": "2022-10-23T00:46:26.389313",
     "exception": false,
     "start_time": "2022-10-23T00:46:26.325906",
     "status": "completed"
    },
    "scrolled": true,
    "tags": []
   },
   "outputs": [
    {
     "name": "stdout",
     "output_type": "stream",
     "text": [
      "Report :                precision    recall  f1-score   support\n",
      "\n",
      "           0       0.86      0.88      0.87       114\n",
      "           1       0.77      0.75      0.76        64\n",
      "\n",
      "    accuracy                           0.83       178\n",
      "   macro avg       0.82      0.81      0.82       178\n",
      "weighted avg       0.83      0.83      0.83       178\n",
      "\n"
     ]
    }
   ],
   "source": [
    "#Classification Report with Gini Impurity\n",
    "print(\"Report : \",classification_report(test_y,y_pred_gini))"
   ]
  },
  {
   "cell_type": "markdown",
   "id": "f6285eeb",
   "metadata": {
    "papermill": {
     "duration": 0.046918,
     "end_time": "2022-10-23T00:46:26.483159",
     "exception": false,
     "start_time": "2022-10-23T00:46:26.436241",
     "status": "completed"
    },
    "tags": []
   },
   "source": [
    "#### 2. Entropy D-Tree"
   ]
  },
  {
   "cell_type": "code",
   "execution_count": 91,
   "id": "7459db7c",
   "metadata": {
    "execution": {
     "iopub.execute_input": "2022-10-23T00:46:26.578366Z",
     "iopub.status.busy": "2022-10-23T00:46:26.577868Z",
     "iopub.status.idle": "2022-10-23T00:46:26.588222Z",
     "shell.execute_reply": "2022-10-23T00:46:26.587041Z"
    },
    "papermill": {
     "duration": 0.060682,
     "end_time": "2022-10-23T00:46:26.590758",
     "exception": false,
     "start_time": "2022-10-23T00:46:26.530076",
     "status": "completed"
    },
    "tags": []
   },
   "outputs": [
    {
     "name": "stdout",
     "output_type": "stream",
     "text": [
      "Predicted Values: [0 0 0 0 0 1 0 0 0 1 1 1 0 1 1 0 0 1 0 0 1 1 0 0 1 1 1 0 0 0 1 1 0 0 0 0 1\n",
      " 1 0 0 1 0 0 0 0 0 0 0 0 0 0 0 0 0 0 1 0 0 1 1 0 0 0 1 1 0 1 0 0 0 0 0 1 0\n",
      " 0 0 0 0 0 1 0 0 0 1 1 0 0 1 0 1 1 0 0 0 0 0 0 0 0 0 0 0 0 0 0 0 0 0 1 0 1\n",
      " 0 0 0 0 0 0 1 0 0 0 0 1 1 0 1 1 0 0 0 1 1 0 0 0 0 0 0 1 0 1 0 1 1 1 0 0 0\n",
      " 1 0 0 0 0 0 0 1 1 1 0 0 1 0 0 1 1 0 1 1 0 1 1 1 0 0 0 0 0 0]\n"
     ]
    }
   ],
   "source": [
    "# Predicton on test with Entropy\n",
    "y_pred_ent = clf_ent.predict(test_x)\n",
    "\n",
    "print('Predicted Values:',y_pred_ent)"
   ]
  },
  {
   "cell_type": "code",
   "execution_count": 92,
   "id": "8fd4b3de",
   "metadata": {
    "execution": {
     "iopub.execute_input": "2022-10-23T00:46:26.687656Z",
     "iopub.status.busy": "2022-10-23T00:46:26.686987Z",
     "iopub.status.idle": "2022-10-23T00:46:26.693650Z",
     "shell.execute_reply": "2022-10-23T00:46:26.692413Z"
    },
    "papermill": {
     "duration": 0.057599,
     "end_time": "2022-10-23T00:46:26.696045",
     "exception": false,
     "start_time": "2022-10-23T00:46:26.638446",
     "status": "completed"
    },
    "tags": []
   },
   "outputs": [
    {
     "name": "stdout",
     "output_type": "stream",
     "text": [
      "Accuracy :  83.14606741573034\n"
     ]
    }
   ],
   "source": [
    "#Accuracy Score with Entropy\n",
    "print(\"Accuracy : \",accuracy_score(test_y,y_pred_ent)*100)"
   ]
  },
  {
   "cell_type": "code",
   "execution_count": 93,
   "id": "a68deb1c",
   "metadata": {
    "execution": {
     "iopub.execute_input": "2022-10-23T00:46:26.792771Z",
     "iopub.status.busy": "2022-10-23T00:46:26.791525Z",
     "iopub.status.idle": "2022-10-23T00:46:26.799707Z",
     "shell.execute_reply": "2022-10-23T00:46:26.797794Z"
    },
    "papermill": {
     "duration": 0.059217,
     "end_time": "2022-10-23T00:46:26.802065",
     "exception": false,
     "start_time": "2022-10-23T00:46:26.742848",
     "status": "completed"
    },
    "tags": []
   },
   "outputs": [
    {
     "name": "stdout",
     "output_type": "stream",
     "text": [
      "Confusion Matrix:  [[103  11]\n",
      " [ 19  45]]\n"
     ]
    }
   ],
   "source": [
    "#Confusion Matrix with Entropy\n",
    "print(\"Confusion Matrix: \",confusion_matrix(test_y,y_pred_ent))"
   ]
  },
  {
   "cell_type": "code",
   "execution_count": 94,
   "id": "5076a5ca",
   "metadata": {
    "execution": {
     "iopub.execute_input": "2022-10-23T00:46:26.899240Z",
     "iopub.status.busy": "2022-10-23T00:46:26.898060Z",
     "iopub.status.idle": "2022-10-23T00:46:27.119704Z",
     "shell.execute_reply": "2022-10-23T00:46:27.118662Z"
    },
    "papermill": {
     "duration": 0.272304,
     "end_time": "2022-10-23T00:46:27.122268",
     "exception": false,
     "start_time": "2022-10-23T00:46:26.849964",
     "status": "completed"
    },
    "tags": []
   },
   "outputs": [
    {
     "data": {
      "image/png": "[encoded data removed]",
      "text/plain": [
       "<Figure size 432x288 with 2 Axes>"
      ]
     },
     "metadata": {},
     "output_type": "display_data"
    }
   ],
   "source": [
    "#Confusion Matrix in the form of Heatmap\n",
    "from sklearn import metrics\n",
    "cnf_matrix = metrics.confusion_matrix(test_y,y_pred_ent)\n",
    "p = sns.heatmap(pd.DataFrame(cnf_matrix), annot=True, fmt='g',cmap=\"crest\" )\n",
    "plt.title('Confusion matrix', y=1.1)\n",
    "plt.ylabel('Actual label')\n",
    "plt.xlabel('Predicted label')\n",
    "plt.show()"
   ]
  },
  {
   "cell_type": "code",
   "execution_count": 95,
   "id": "0e77cdfe",
   "metadata": {
    "execution": {
     "iopub.execute_input": "2022-10-23T00:46:27.220869Z",
     "iopub.status.busy": "2022-10-23T00:46:27.220142Z",
     "iopub.status.idle": "2022-10-23T00:46:27.229737Z",
     "shell.execute_reply": "2022-10-23T00:46:27.228735Z"
    },
    "papermill": {
     "duration": 0.061473,
     "end_time": "2022-10-23T00:46:27.232113",
     "exception": false,
     "start_time": "2022-10-23T00:46:27.170640",
     "status": "completed"
    },
    "scrolled": true,
    "tags": []
   },
   "outputs": [
    {
     "name": "stdout",
     "output_type": "stream",
     "text": [
      "Report :                precision    recall  f1-score   support\n",
      "\n",
      "           0       0.84      0.90      0.87       114\n",
      "           1       0.80      0.70      0.75        64\n",
      "\n",
      "    accuracy                           0.83       178\n",
      "   macro avg       0.82      0.80      0.81       178\n",
      "weighted avg       0.83      0.83      0.83       178\n",
      "\n"
     ]
    }
   ],
   "source": [
    "#Classification Report with Entropy\n",
    "print(\"Report : \",classification_report(test_y,y_pred_ent))"
   ]
  },
  {
   "cell_type": "markdown",
   "id": "4e43cce2",
   "metadata": {
    "papermill": {
     "duration": 0.049399,
     "end_time": "2022-10-23T00:46:27.331582",
     "exception": false,
     "start_time": "2022-10-23T00:46:27.282183",
     "status": "completed"
    },
    "tags": []
   },
   "source": [
    "#### 3. Random Forest"
   ]
  },
  {
   "cell_type": "code",
   "execution_count": 96,
   "id": "0ba3aaa2",
   "metadata": {
    "execution": {
     "iopub.execute_input": "2022-10-23T00:46:27.430534Z",
     "iopub.status.busy": "2022-10-23T00:46:27.429838Z",
     "iopub.status.idle": "2022-10-23T00:46:27.468370Z",
     "shell.execute_reply": "2022-10-23T00:46:27.466808Z"
    },
    "papermill": {
     "duration": 0.091093,
     "end_time": "2022-10-23T00:46:27.470632",
     "exception": false,
     "start_time": "2022-10-23T00:46:27.379539",
     "status": "completed"
    },
    "tags": []
   },
   "outputs": [
    {
     "name": "stdout",
     "output_type": "stream",
     "text": [
      "Predicted Values: [0 0 0 0 0 1 0 0 0 1 1 0 0 0 1 0 0 0 1 0 1 1 0 0 1 1 1 0 0 1 1 0 0 0 0 0 1\n",
      " 0 0 0 0 0 1 0 0 0 0 0 1 0 0 0 0 1 0 1 0 0 1 1 0 0 0 1 1 0 1 0 0 0 1 1 1 1\n",
      " 0 0 0 0 0 1 1 0 0 1 1 0 0 1 0 0 0 0 0 0 0 0 0 1 0 0 0 0 0 0 0 0 0 0 1 0 0\n",
      " 0 0 0 0 0 0 0 0 0 0 0 1 1 0 0 1 0 0 1 1 1 0 0 0 1 0 0 0 0 1 0 1 1 1 0 0 1\n",
      " 1 0 0 0 0 0 0 1 1 1 0 1 1 1 0 1 1 0 1 1 0 1 1 1 1 0 0 0 1 0]\n"
     ]
    }
   ],
   "source": [
    "# Predicton on test with Random Forest\n",
    "y_pred_rfc = clf_rfc.predict(test_x)\n",
    "\n",
    "print('Predicted Values:',y_pred_rfc)"
   ]
  },
  {
   "cell_type": "code",
   "execution_count": 97,
   "id": "9da9d7cb",
   "metadata": {
    "execution": {
     "iopub.execute_input": "2022-10-23T00:46:27.568099Z",
     "iopub.status.busy": "2022-10-23T00:46:27.567433Z",
     "iopub.status.idle": "2022-10-23T00:46:27.573795Z",
     "shell.execute_reply": "2022-10-23T00:46:27.572376Z"
    },
    "papermill": {
     "duration": 0.056755,
     "end_time": "2022-10-23T00:46:27.575963",
     "exception": false,
     "start_time": "2022-10-23T00:46:27.519208",
     "status": "completed"
    },
    "tags": []
   },
   "outputs": [
    {
     "name": "stdout",
     "output_type": "stream",
     "text": [
      "Accuracy :  80.33707865168539\n"
     ]
    }
   ],
   "source": [
    "#Accuracy Score with Random Ferest\n",
    "print(\"Accuracy : \",accuracy_score(test_y,y_pred_rfc)*100)"
   ]
  },
  {
   "cell_type": "code",
   "execution_count": 98,
   "id": "f48620b4",
   "metadata": {
    "execution": {
     "iopub.execute_input": "2022-10-23T00:46:27.672448Z",
     "iopub.status.busy": "2022-10-23T00:46:27.671981Z",
     "iopub.status.idle": "2022-10-23T00:46:27.679380Z",
     "shell.execute_reply": "2022-10-23T00:46:27.678001Z"
    },
    "papermill": {
     "duration": 0.058017,
     "end_time": "2022-10-23T00:46:27.681514",
     "exception": false,
     "start_time": "2022-10-23T00:46:27.623497",
     "status": "completed"
    },
    "scrolled": true,
    "tags": []
   },
   "outputs": [
    {
     "name": "stdout",
     "output_type": "stream",
     "text": [
      "Confusion Matrix:  [[98 16]\n",
      " [19 45]]\n"
     ]
    }
   ],
   "source": [
    "#Confusion Matrix with Random Forest\n",
    "print(\"Confusion Matrix: \",confusion_matrix(test_y,y_pred_rfc))"
   ]
  },
  {
   "cell_type": "code",
   "execution_count": 99,
   "id": "9356ed47",
   "metadata": {
    "execution": {
     "iopub.execute_input": "2022-10-23T00:46:27.777913Z",
     "iopub.status.busy": "2022-10-23T00:46:27.777493Z",
     "iopub.status.idle": "2022-10-23T00:46:28.012699Z",
     "shell.execute_reply": "2022-10-23T00:46:28.011891Z"
    },
    "papermill": {
     "duration": 0.285509,
     "end_time": "2022-10-23T00:46:28.014675",
     "exception": false,
     "start_time": "2022-10-23T00:46:27.729166",
     "status": "completed"
    },
    "tags": []
   },
   "outputs": [
    {
     "data": {
      "image/png": "[encoded data removed]",
      "text/plain": [
       "<Figure size 432x288 with 2 Axes>"
      ]
     },
     "metadata": {},
     "output_type": "display_data"
    }
   ],
   "source": [
    "#Confusion Matrix in the form of Heatmap\n",
    "from sklearn import metrics\n",
    "cnf_matrix = metrics.confusion_matrix(test_y,y_pred_rfc)\n",
    "p = sns.heatmap(pd.DataFrame(cnf_matrix), annot=True, fmt='g',cmap='viridis')\n",
    "plt.title('Confusion matrix', y=1.1)\n",
    "plt.ylabel('Actual label')\n",
    "plt.xlabel('Predicted label')\n",
    "plt.show()"
   ]
  },
  {
   "cell_type": "code",
   "execution_count": 100,
   "id": "e9d80aac",
   "metadata": {
    "execution": {
     "iopub.execute_input": "2022-10-23T00:46:28.113334Z",
     "iopub.status.busy": "2022-10-23T00:46:28.112628Z",
     "iopub.status.idle": "2022-10-23T00:46:28.122573Z",
     "shell.execute_reply": "2022-10-23T00:46:28.120900Z"
    },
    "papermill": {
     "duration": 0.062418,
     "end_time": "2022-10-23T00:46:28.124941",
     "exception": false,
     "start_time": "2022-10-23T00:46:28.062523",
     "status": "completed"
    },
    "tags": []
   },
   "outputs": [
    {
     "name": "stdout",
     "output_type": "stream",
     "text": [
      "Report :                precision    recall  f1-score   support\n",
      "\n",
      "           0       0.84      0.86      0.85       114\n",
      "           1       0.74      0.70      0.72        64\n",
      "\n",
      "    accuracy                           0.80       178\n",
      "   macro avg       0.79      0.78      0.78       178\n",
      "weighted avg       0.80      0.80      0.80       178\n",
      "\n"
     ]
    }
   ],
   "source": [
    "#Classification Report with Random Forest\n",
    "print(\"Report : \",classification_report(test_y,y_pred_rfc))"
   ]
  },
  {
   "cell_type": "markdown",
   "id": "8ca73ab0",
   "metadata": {
    "papermill": {
     "duration": 0.048437,
     "end_time": "2022-10-23T00:46:28.222017",
     "exception": false,
     "start_time": "2022-10-23T00:46:28.173580",
     "status": "completed"
    },
    "tags": []
   },
   "source": [
    "## Improving the Model Accuracy with Random Search"
   ]
  },
  {
   "cell_type": "code",
   "execution_count": 101,
   "id": "994720e5",
   "metadata": {
    "execution": {
     "iopub.execute_input": "2022-10-23T00:46:28.319595Z",
     "iopub.status.busy": "2022-10-23T00:46:28.318842Z",
     "iopub.status.idle": "2022-10-23T00:46:28.328431Z",
     "shell.execute_reply": "2022-10-23T00:46:28.326547Z"
    },
    "papermill": {
     "duration": 0.060617,
     "end_time": "2022-10-23T00:46:28.330915",
     "exception": false,
     "start_time": "2022-10-23T00:46:28.270298",
     "status": "completed"
    },
    "tags": []
   },
   "outputs": [
    {
     "name": "stdout",
     "output_type": "stream",
     "text": [
      "{'n_estimators': [200, 400, 600, 800, 1000, 1200, 1400, 1600, 1800, 2000], 'max_features': ['auto', 'sqrt'], 'max_depth': [10, 20, 30, 40, 50, 60, 70, 80, 90, 100, 110, None], 'min_samples_split': [2, 5, 10], 'min_samples_leaf': [1, 2, 4], 'bootstrap': [True, False]}\n"
     ]
    }
   ],
   "source": [
    "from sklearn.model_selection import RandomizedSearchCV\n",
    "# Number of trees in random forest\n",
    "n_estimators = [int(x) for x in np.linspace(start = 200, stop = 2000, num = 10)]\n",
    "# Number of features to consider at every split\n",
    "max_features = ['auto', 'sqrt']\n",
    "# Maximum number of levels in tree\n",
    "max_depth = [int(x) for x in np.linspace(10, 110, num = 11)]\n",
    "max_depth.append(None)\n",
    "# Minimum number of samples required to split a node\n",
    "min_samples_split = [2, 5, 10]\n",
    "# Minimum number of samples required at each leaf node\n",
    "min_samples_leaf = [1, 2, 4]\n",
    "# Method of selecting samples for training each tree\n",
    "bootstrap = [True, False]\n",
    "# Create the random grid\n",
    "random_grid = {'n_estimators': n_estimators,\n",
    "               'max_features': max_features,\n",
    "               'max_depth': max_depth,\n",
    "               'min_samples_split': min_samples_split,\n",
    "               'min_samples_leaf': min_samples_leaf,\n",
    "               'bootstrap': bootstrap}\n",
    "print(random_grid)"
   ]
  },
  {
   "cell_type": "code",
   "execution_count": 102,
   "id": "00b9b119",
   "metadata": {
    "execution": {
     "iopub.execute_input": "2022-10-23T00:46:28.428513Z",
     "iopub.status.busy": "2022-10-23T00:46:28.427750Z",
     "iopub.status.idle": "2022-10-23T00:50:01.544373Z",
     "shell.execute_reply": "2022-10-23T00:50:01.543125Z"
    },
    "papermill": {
     "duration": 213.216599,
     "end_time": "2022-10-23T00:50:01.595203",
     "exception": false,
     "start_time": "2022-10-23T00:46:28.378604",
     "status": "completed"
    },
    "scrolled": true,
    "tags": []
   },
   "outputs": [
    {
     "name": "stdout",
     "output_type": "stream",
     "text": [
      "Fitting 3 folds for each of 100 candidates, totalling 300 fits\n"
     ]
    },
    {
     "name": "stderr",
     "output_type": "stream",
     "text": [
      "/opt/conda/lib/python3.7/site-packages/sklearn/model_selection/_validation.py:680: DataConversionWarning: A column-vector y was passed when a 1d array was expected. Please change the shape of y to (n_samples,), for example using ravel().\n",
      "  estimator.fit(X_train, y_train, **fit_params)\n",
      "/opt/conda/lib/python3.7/site-packages/sklearn/model_selection/_validation.py:680: DataConversionWarning: A column-vector y was passed when a 1d array was expected. Please change the shape of y to (n_samples,), for example using ravel().\n",
      "  estimator.fit(X_train, y_train, **fit_params)\n",
      "/opt/conda/lib/python3.7/site-packages/sklearn/model_selection/_validation.py:680: DataConversionWarning: A column-vector y was passed when a 1d array was expected. Please change the shape of y to (n_samples,), for example using ravel().\n",
      "  estimator.fit(X_train, y_train, **fit_params)\n",
      "/opt/conda/lib/python3.7/site-packages/sklearn/model_selection/_validation.py:680: DataConversionWarning: A column-vector y was passed when a 1d array was expected. Please change the shape of y to (n_samples,), for example using ravel().\n",
      "  estimator.fit(X_train, y_train, **fit_params)\n",
      "/opt/conda/lib/python3.7/site-packages/sklearn/model_selection/_validation.py:680: DataConversionWarning: A column-vector y was passed when a 1d array was expected. Please change the shape of y to (n_samples,), for example using ravel().\n",
      "  estimator.fit(X_train, y_train, **fit_params)\n",
      "/opt/conda/lib/python3.7/site-packages/sklearn/model_selection/_validation.py:680: DataConversionWarning: A column-vector y was passed when a 1d array was expected. Please change the shape of y to (n_samples,), for example using ravel().\n",
      "  estimator.fit(X_train, y_train, **fit_params)\n",
      "/opt/conda/lib/python3.7/site-packages/sklearn/model_selection/_validation.py:680: DataConversionWarning: A column-vector y was passed when a 1d array was expected. Please change the shape of y to (n_samples,), for example using ravel().\n",
      "  estimator.fit(X_train, y_train, **fit_params)\n",
      "/opt/conda/lib/python3.7/site-packages/sklearn/model_selection/_validation.py:680: DataConversionWarning: A column-vector y was passed when a 1d array was expected. Please change the shape of y to (n_samples,), for example using ravel().\n",
      "  estimator.fit(X_train, y_train, **fit_params)\n",
      "/opt/conda/lib/python3.7/site-packages/sklearn/model_selection/_validation.py:680: DataConversionWarning: A column-vector y was passed when a 1d array was expected. Please change the shape of y to (n_samples,), for example using ravel().\n",
      "  estimator.fit(X_train, y_train, **fit_params)\n",
      "/opt/conda/lib/python3.7/site-packages/sklearn/model_selection/_validation.py:680: DataConversionWarning: A column-vector y was passed when a 1d array was expected. Please change the shape of y to (n_samples,), for example using ravel().\n",
      "  estimator.fit(X_train, y_train, **fit_params)\n",
      "/opt/conda/lib/python3.7/site-packages/sklearn/model_selection/_validation.py:680: DataConversionWarning: A column-vector y was passed when a 1d array was expected. Please change the shape of y to (n_samples,), for example using ravel().\n",
      "  estimator.fit(X_train, y_train, **fit_params)\n",
      "/opt/conda/lib/python3.7/site-packages/sklearn/model_selection/_validation.py:680: DataConversionWarning: A column-vector y was passed when a 1d array was expected. Please change the shape of y to (n_samples,), for example using ravel().\n",
      "  estimator.fit(X_train, y_train, **fit_params)\n",
      "/opt/conda/lib/python3.7/site-packages/sklearn/model_selection/_validation.py:680: DataConversionWarning: A column-vector y was passed when a 1d array was expected. Please change the shape of y to (n_samples,), for example using ravel().\n",
      "  estimator.fit(X_train, y_train, **fit_params)\n",
      "/opt/conda/lib/python3.7/site-packages/sklearn/model_selection/_validation.py:680: DataConversionWarning: A column-vector y was passed when a 1d array was expected. Please change the shape of y to (n_samples,), for example using ravel().\n",
      "  estimator.fit(X_train, y_train, **fit_params)\n",
      "/opt/conda/lib/python3.7/site-packages/sklearn/model_selection/_validation.py:680: DataConversionWarning: A column-vector y was passed when a 1d array was expected. Please change the shape of y to (n_samples,), for example using ravel().\n",
      "  estimator.fit(X_train, y_train, **fit_params)\n",
      "/opt/conda/lib/python3.7/site-packages/sklearn/model_selection/_validation.py:680: DataConversionWarning: A column-vector y was passed when a 1d array was expected. Please change the shape of y to (n_samples,), for example using ravel().\n",
      "  estimator.fit(X_train, y_train, **fit_params)\n",
      "/opt/conda/lib/python3.7/site-packages/sklearn/model_selection/_validation.py:680: DataConversionWarning: A column-vector y was passed when a 1d array was expected. Please change the shape of y to (n_samples,), for example using ravel().\n",
      "  estimator.fit(X_train, y_train, **fit_params)\n",
      "/opt/conda/lib/python3.7/site-packages/sklearn/model_selection/_validation.py:680: DataConversionWarning: A column-vector y was passed when a 1d array was expected. Please change the shape of y to (n_samples,), for example using ravel().\n",
      "  estimator.fit(X_train, y_train, **fit_params)\n",
      "/opt/conda/lib/python3.7/site-packages/sklearn/model_selection/_validation.py:680: DataConversionWarning: A column-vector y was passed when a 1d array was expected. Please change the shape of y to (n_samples,), for example using ravel().\n",
      "  estimator.fit(X_train, y_train, **fit_params)\n",
      "/opt/conda/lib/python3.7/site-packages/sklearn/model_selection/_validation.py:680: DataConversionWarning: A column-vector y was passed when a 1d array was expected. Please change the shape of y to (n_samples,), for example using ravel().\n",
      "  estimator.fit(X_train, y_train, **fit_params)\n",
      "/opt/conda/lib/python3.7/site-packages/sklearn/model_selection/_validation.py:680: DataConversionWarning: A column-vector y was passed when a 1d array was expected. Please change the shape of y to (n_samples,), for example using ravel().\n",
      "  estimator.fit(X_train, y_train, **fit_params)\n",
      "/opt/conda/lib/python3.7/site-packages/sklearn/model_selection/_validation.py:680: DataConversionWarning: A column-vector y was passed when a 1d array was expected. Please change the shape of y to (n_samples,), for example using ravel().\n",
      "  estimator.fit(X_train, y_train, **fit_params)\n",
      "/opt/conda/lib/python3.7/site-packages/sklearn/model_selection/_validation.py:680: DataConversionWarning: A column-vector y was passed when a 1d array was expected. Please change the shape of y to (n_samples,), for example using ravel().\n",
      "  estimator.fit(X_train, y_train, **fit_params)\n",
      "/opt/conda/lib/python3.7/site-packages/sklearn/model_selection/_validation.py:680: DataConversionWarning: A column-vector y was passed when a 1d array was expected. Please change the shape of y to (n_samples,), for example using ravel().\n",
      "  estimator.fit(X_train, y_train, **fit_params)\n",
      "/opt/conda/lib/python3.7/site-packages/sklearn/model_selection/_validation.py:680: DataConversionWarning: A column-vector y was passed when a 1d array was expected. Please change the shape of y to (n_samples,), for example using ravel().\n",
      "  estimator.fit(X_train, y_train, **fit_params)\n",
      "/opt/conda/lib/python3.7/site-packages/sklearn/model_selection/_validation.py:680: DataConversionWarning: A column-vector y was passed when a 1d array was expected. Please change the shape of y to (n_samples,), for example using ravel().\n",
      "  estimator.fit(X_train, y_train, **fit_params)\n",
      "/opt/conda/lib/python3.7/site-packages/sklearn/model_selection/_validation.py:680: DataConversionWarning: A column-vector y was passed when a 1d array was expected. Please change the shape of y to (n_samples,), for example using ravel().\n",
      "  estimator.fit(X_train, y_train, **fit_params)\n",
      "/opt/conda/lib/python3.7/site-packages/sklearn/model_selection/_validation.py:680: DataConversionWarning: A column-vector y was passed when a 1d array was expected. Please change the shape of y to (n_samples,), for example using ravel().\n",
      "  estimator.fit(X_train, y_train, **fit_params)\n",
      "/opt/conda/lib/python3.7/site-packages/sklearn/model_selection/_validation.py:680: DataConversionWarning: A column-vector y was passed when a 1d array was expected. Please change the shape of y to (n_samples,), for example using ravel().\n",
      "  estimator.fit(X_train, y_train, **fit_params)\n",
      "/opt/conda/lib/python3.7/site-packages/sklearn/model_selection/_validation.py:680: DataConversionWarning: A column-vector y was passed when a 1d array was expected. Please change the shape of y to (n_samples,), for example using ravel().\n",
      "  estimator.fit(X_train, y_train, **fit_params)\n",
      "/opt/conda/lib/python3.7/site-packages/sklearn/model_selection/_validation.py:680: DataConversionWarning: A column-vector y was passed when a 1d array was expected. Please change the shape of y to (n_samples,), for example using ravel().\n",
      "  estimator.fit(X_train, y_train, **fit_params)\n",
      "/opt/conda/lib/python3.7/site-packages/sklearn/model_selection/_validation.py:680: DataConversionWarning: A column-vector y was passed when a 1d array was expected. Please change the shape of y to (n_samples,), for example using ravel().\n",
      "  estimator.fit(X_train, y_train, **fit_params)\n",
      "/opt/conda/lib/python3.7/site-packages/sklearn/model_selection/_validation.py:680: DataConversionWarning: A column-vector y was passed when a 1d array was expected. Please change the shape of y to (n_samples,), for example using ravel().\n",
      "  estimator.fit(X_train, y_train, **fit_params)\n",
      "/opt/conda/lib/python3.7/site-packages/sklearn/model_selection/_validation.py:680: DataConversionWarning: A column-vector y was passed when a 1d array was expected. Please change the shape of y to (n_samples,), for example using ravel().\n",
      "  estimator.fit(X_train, y_train, **fit_params)\n",
      "/opt/conda/lib/python3.7/site-packages/sklearn/model_selection/_validation.py:680: DataConversionWarning: A column-vector y was passed when a 1d array was expected. Please change the shape of y to (n_samples,), for example using ravel().\n",
      "  estimator.fit(X_train, y_train, **fit_params)\n",
      "/opt/conda/lib/python3.7/site-packages/sklearn/model_selection/_validation.py:680: DataConversionWarning: A column-vector y was passed when a 1d array was expected. Please change the shape of y to (n_samples,), for example using ravel().\n",
      "  estimator.fit(X_train, y_train, **fit_params)\n",
      "/opt/conda/lib/python3.7/site-packages/sklearn/model_selection/_validation.py:680: DataConversionWarning: A column-vector y was passed when a 1d array was expected. Please change the shape of y to (n_samples,), for example using ravel().\n",
      "  estimator.fit(X_train, y_train, **fit_params)\n",
      "/opt/conda/lib/python3.7/site-packages/sklearn/model_selection/_validation.py:680: DataConversionWarning: A column-vector y was passed when a 1d array was expected. Please change the shape of y to (n_samples,), for example using ravel().\n",
      "  estimator.fit(X_train, y_train, **fit_params)\n",
      "/opt/conda/lib/python3.7/site-packages/sklearn/model_selection/_validation.py:680: DataConversionWarning: A column-vector y was passed when a 1d array was expected. Please change the shape of y to (n_samples,), for example using ravel().\n",
      "  estimator.fit(X_train, y_train, **fit_params)\n",
      "/opt/conda/lib/python3.7/site-packages/sklearn/model_selection/_validation.py:680: DataConversionWarning: A column-vector y was passed when a 1d array was expected. Please change the shape of y to (n_samples,), for example using ravel().\n",
      "  estimator.fit(X_train, y_train, **fit_params)\n",
      "/opt/conda/lib/python3.7/site-packages/sklearn/model_selection/_validation.py:680: DataConversionWarning: A column-vector y was passed when a 1d array was expected. Please change the shape of y to (n_samples,), for example using ravel().\n",
      "  estimator.fit(X_train, y_train, **fit_params)\n",
      "/opt/conda/lib/python3.7/site-packages/sklearn/model_selection/_validation.py:680: DataConversionWarning: A column-vector y was passed when a 1d array was expected. Please change the shape of y to (n_samples,), for example using ravel().\n",
      "  estimator.fit(X_train, y_train, **fit_params)\n",
      "/opt/conda/lib/python3.7/site-packages/sklearn/model_selection/_validation.py:680: DataConversionWarning: A column-vector y was passed when a 1d array was expected. Please change the shape of y to (n_samples,), for example using ravel().\n",
      "  estimator.fit(X_train, y_train, **fit_params)\n",
      "/opt/conda/lib/python3.7/site-packages/sklearn/model_selection/_validation.py:680: DataConversionWarning: A column-vector y was passed when a 1d array was expected. Please change the shape of y to (n_samples,), for example using ravel().\n",
      "  estimator.fit(X_train, y_train, **fit_params)\n",
      "/opt/conda/lib/python3.7/site-packages/sklearn/model_selection/_validation.py:680: DataConversionWarning: A column-vector y was passed when a 1d array was expected. Please change the shape of y to (n_samples,), for example using ravel().\n",
      "  estimator.fit(X_train, y_train, **fit_params)\n",
      "/opt/conda/lib/python3.7/site-packages/sklearn/model_selection/_validation.py:680: DataConversionWarning: A column-vector y was passed when a 1d array was expected. Please change the shape of y to (n_samples,), for example using ravel().\n",
      "  estimator.fit(X_train, y_train, **fit_params)\n",
      "/opt/conda/lib/python3.7/site-packages/sklearn/model_selection/_validation.py:680: DataConversionWarning: A column-vector y was passed when a 1d array was expected. Please change the shape of y to (n_samples,), for example using ravel().\n",
      "  estimator.fit(X_train, y_train, **fit_params)\n",
      "/opt/conda/lib/python3.7/site-packages/sklearn/model_selection/_validation.py:680: DataConversionWarning: A column-vector y was passed when a 1d array was expected. Please change the shape of y to (n_samples,), for example using ravel().\n",
      "  estimator.fit(X_train, y_train, **fit_params)\n",
      "/opt/conda/lib/python3.7/site-packages/sklearn/model_selection/_validation.py:680: DataConversionWarning: A column-vector y was passed when a 1d array was expected. Please change the shape of y to (n_samples,), for example using ravel().\n",
      "  estimator.fit(X_train, y_train, **fit_params)\n",
      "/opt/conda/lib/python3.7/site-packages/sklearn/model_selection/_validation.py:680: DataConversionWarning: A column-vector y was passed when a 1d array was expected. Please change the shape of y to (n_samples,), for example using ravel().\n",
      "  estimator.fit(X_train, y_train, **fit_params)\n",
      "/opt/conda/lib/python3.7/site-packages/sklearn/model_selection/_validation.py:680: DataConversionWarning: A column-vector y was passed when a 1d array was expected. Please change the shape of y to (n_samples,), for example using ravel().\n",
      "  estimator.fit(X_train, y_train, **fit_params)\n",
      "/opt/conda/lib/python3.7/site-packages/sklearn/model_selection/_validation.py:680: DataConversionWarning: A column-vector y was passed when a 1d array was expected. Please change the shape of y to (n_samples,), for example using ravel().\n",
      "  estimator.fit(X_train, y_train, **fit_params)\n",
      "/opt/conda/lib/python3.7/site-packages/sklearn/model_selection/_validation.py:680: DataConversionWarning: A column-vector y was passed when a 1d array was expected. Please change the shape of y to (n_samples,), for example using ravel().\n",
      "  estimator.fit(X_train, y_train, **fit_params)\n",
      "/opt/conda/lib/python3.7/site-packages/sklearn/model_selection/_validation.py:680: DataConversionWarning: A column-vector y was passed when a 1d array was expected. Please change the shape of y to (n_samples,), for example using ravel().\n",
      "  estimator.fit(X_train, y_train, **fit_params)\n",
      "/opt/conda/lib/python3.7/site-packages/sklearn/model_selection/_validation.py:680: DataConversionWarning: A column-vector y was passed when a 1d array was expected. Please change the shape of y to (n_samples,), for example using ravel().\n",
      "  estimator.fit(X_train, y_train, **fit_params)\n",
      "/opt/conda/lib/python3.7/site-packages/sklearn/model_selection/_validation.py:680: DataConversionWarning: A column-vector y was passed when a 1d array was expected. Please change the shape of y to (n_samples,), for example using ravel().\n",
      "  estimator.fit(X_train, y_train, **fit_params)\n",
      "/opt/conda/lib/python3.7/site-packages/sklearn/model_selection/_validation.py:680: DataConversionWarning: A column-vector y was passed when a 1d array was expected. Please change the shape of y to (n_samples,), for example using ravel().\n",
      "  estimator.fit(X_train, y_train, **fit_params)\n",
      "/opt/conda/lib/python3.7/site-packages/sklearn/model_selection/_validation.py:680: DataConversionWarning: A column-vector y was passed when a 1d array was expected. Please change the shape of y to (n_samples,), for example using ravel().\n",
      "  estimator.fit(X_train, y_train, **fit_params)\n",
      "/opt/conda/lib/python3.7/site-packages/sklearn/model_selection/_validation.py:680: DataConversionWarning: A column-vector y was passed when a 1d array was expected. Please change the shape of y to (n_samples,), for example using ravel().\n",
      "  estimator.fit(X_train, y_train, **fit_params)\n",
      "/opt/conda/lib/python3.7/site-packages/sklearn/model_selection/_validation.py:680: DataConversionWarning: A column-vector y was passed when a 1d array was expected. Please change the shape of y to (n_samples,), for example using ravel().\n",
      "  estimator.fit(X_train, y_train, **fit_params)\n",
      "/opt/conda/lib/python3.7/site-packages/sklearn/model_selection/_validation.py:680: DataConversionWarning: A column-vector y was passed when a 1d array was expected. Please change the shape of y to (n_samples,), for example using ravel().\n",
      "  estimator.fit(X_train, y_train, **fit_params)\n",
      "/opt/conda/lib/python3.7/site-packages/sklearn/model_selection/_validation.py:680: DataConversionWarning: A column-vector y was passed when a 1d array was expected. Please change the shape of y to (n_samples,), for example using ravel().\n",
      "  estimator.fit(X_train, y_train, **fit_params)\n",
      "/opt/conda/lib/python3.7/site-packages/sklearn/model_selection/_validation.py:680: DataConversionWarning: A column-vector y was passed when a 1d array was expected. Please change the shape of y to (n_samples,), for example using ravel().\n",
      "  estimator.fit(X_train, y_train, **fit_params)\n",
      "/opt/conda/lib/python3.7/site-packages/sklearn/model_selection/_validation.py:680: DataConversionWarning: A column-vector y was passed when a 1d array was expected. Please change the shape of y to (n_samples,), for example using ravel().\n",
      "  estimator.fit(X_train, y_train, **fit_params)\n",
      "/opt/conda/lib/python3.7/site-packages/sklearn/model_selection/_validation.py:680: DataConversionWarning: A column-vector y was passed when a 1d array was expected. Please change the shape of y to (n_samples,), for example using ravel().\n",
      "  estimator.fit(X_train, y_train, **fit_params)\n",
      "/opt/conda/lib/python3.7/site-packages/sklearn/model_selection/_validation.py:680: DataConversionWarning: A column-vector y was passed when a 1d array was expected. Please change the shape of y to (n_samples,), for example using ravel().\n",
      "  estimator.fit(X_train, y_train, **fit_params)\n",
      "/opt/conda/lib/python3.7/site-packages/sklearn/model_selection/_validation.py:680: DataConversionWarning: A column-vector y was passed when a 1d array was expected. Please change the shape of y to (n_samples,), for example using ravel().\n",
      "  estimator.fit(X_train, y_train, **fit_params)\n",
      "/opt/conda/lib/python3.7/site-packages/sklearn/model_selection/_validation.py:680: DataConversionWarning: A column-vector y was passed when a 1d array was expected. Please change the shape of y to (n_samples,), for example using ravel().\n",
      "  estimator.fit(X_train, y_train, **fit_params)\n",
      "/opt/conda/lib/python3.7/site-packages/sklearn/model_selection/_validation.py:680: DataConversionWarning: A column-vector y was passed when a 1d array was expected. Please change the shape of y to (n_samples,), for example using ravel().\n",
      "  estimator.fit(X_train, y_train, **fit_params)\n",
      "/opt/conda/lib/python3.7/site-packages/sklearn/model_selection/_validation.py:680: DataConversionWarning: A column-vector y was passed when a 1d array was expected. Please change the shape of y to (n_samples,), for example using ravel().\n",
      "  estimator.fit(X_train, y_train, **fit_params)\n",
      "/opt/conda/lib/python3.7/site-packages/sklearn/model_selection/_validation.py:680: DataConversionWarning: A column-vector y was passed when a 1d array was expected. Please change the shape of y to (n_samples,), for example using ravel().\n",
      "  estimator.fit(X_train, y_train, **fit_params)\n",
      "/opt/conda/lib/python3.7/site-packages/sklearn/model_selection/_validation.py:680: DataConversionWarning: A column-vector y was passed when a 1d array was expected. Please change the shape of y to (n_samples,), for example using ravel().\n",
      "  estimator.fit(X_train, y_train, **fit_params)\n",
      "/opt/conda/lib/python3.7/site-packages/sklearn/model_selection/_validation.py:680: DataConversionWarning: A column-vector y was passed when a 1d array was expected. Please change the shape of y to (n_samples,), for example using ravel().\n",
      "  estimator.fit(X_train, y_train, **fit_params)\n",
      "/opt/conda/lib/python3.7/site-packages/sklearn/model_selection/_validation.py:680: DataConversionWarning: A column-vector y was passed when a 1d array was expected. Please change the shape of y to (n_samples,), for example using ravel().\n",
      "  estimator.fit(X_train, y_train, **fit_params)\n",
      "/opt/conda/lib/python3.7/site-packages/sklearn/model_selection/_validation.py:680: DataConversionWarning: A column-vector y was passed when a 1d array was expected. Please change the shape of y to (n_samples,), for example using ravel().\n",
      "  estimator.fit(X_train, y_train, **fit_params)\n",
      "/opt/conda/lib/python3.7/site-packages/sklearn/model_selection/_validation.py:680: DataConversionWarning: A column-vector y was passed when a 1d array was expected. Please change the shape of y to (n_samples,), for example using ravel().\n",
      "  estimator.fit(X_train, y_train, **fit_params)\n",
      "/opt/conda/lib/python3.7/site-packages/sklearn/model_selection/_validation.py:680: DataConversionWarning: A column-vector y was passed when a 1d array was expected. Please change the shape of y to (n_samples,), for example using ravel().\n",
      "  estimator.fit(X_train, y_train, **fit_params)\n",
      "/opt/conda/lib/python3.7/site-packages/sklearn/model_selection/_validation.py:680: DataConversionWarning: A column-vector y was passed when a 1d array was expected. Please change the shape of y to (n_samples,), for example using ravel().\n",
      "  estimator.fit(X_train, y_train, **fit_params)\n",
      "/opt/conda/lib/python3.7/site-packages/sklearn/model_selection/_validation.py:680: DataConversionWarning: A column-vector y was passed when a 1d array was expected. Please change the shape of y to (n_samples,), for example using ravel().\n",
      "  estimator.fit(X_train, y_train, **fit_params)\n",
      "/opt/conda/lib/python3.7/site-packages/sklearn/model_selection/_validation.py:680: DataConversionWarning: A column-vector y was passed when a 1d array was expected. Please change the shape of y to (n_samples,), for example using ravel().\n",
      "  estimator.fit(X_train, y_train, **fit_params)\n",
      "/opt/conda/lib/python3.7/site-packages/sklearn/model_selection/_validation.py:680: DataConversionWarning: A column-vector y was passed when a 1d array was expected. Please change the shape of y to (n_samples,), for example using ravel().\n",
      "  estimator.fit(X_train, y_train, **fit_params)\n",
      "/opt/conda/lib/python3.7/site-packages/sklearn/model_selection/_validation.py:680: DataConversionWarning: A column-vector y was passed when a 1d array was expected. Please change the shape of y to (n_samples,), for example using ravel().\n",
      "  estimator.fit(X_train, y_train, **fit_params)\n",
      "/opt/conda/lib/python3.7/site-packages/sklearn/model_selection/_validation.py:680: DataConversionWarning: A column-vector y was passed when a 1d array was expected. Please change the shape of y to (n_samples,), for example using ravel().\n",
      "  estimator.fit(X_train, y_train, **fit_params)\n",
      "/opt/conda/lib/python3.7/site-packages/sklearn/model_selection/_validation.py:680: DataConversionWarning: A column-vector y was passed when a 1d array was expected. Please change the shape of y to (n_samples,), for example using ravel().\n",
      "  estimator.fit(X_train, y_train, **fit_params)\n",
      "/opt/conda/lib/python3.7/site-packages/sklearn/model_selection/_validation.py:680: DataConversionWarning: A column-vector y was passed when a 1d array was expected. Please change the shape of y to (n_samples,), for example using ravel().\n",
      "  estimator.fit(X_train, y_train, **fit_params)\n",
      "/opt/conda/lib/python3.7/site-packages/sklearn/model_selection/_validation.py:680: DataConversionWarning: A column-vector y was passed when a 1d array was expected. Please change the shape of y to (n_samples,), for example using ravel().\n",
      "  estimator.fit(X_train, y_train, **fit_params)\n",
      "/opt/conda/lib/python3.7/site-packages/sklearn/model_selection/_validation.py:680: DataConversionWarning: A column-vector y was passed when a 1d array was expected. Please change the shape of y to (n_samples,), for example using ravel().\n",
      "  estimator.fit(X_train, y_train, **fit_params)\n",
      "/opt/conda/lib/python3.7/site-packages/sklearn/model_selection/_validation.py:680: DataConversionWarning: A column-vector y was passed when a 1d array was expected. Please change the shape of y to (n_samples,), for example using ravel().\n",
      "  estimator.fit(X_train, y_train, **fit_params)\n",
      "/opt/conda/lib/python3.7/site-packages/sklearn/model_selection/_validation.py:680: DataConversionWarning: A column-vector y was passed when a 1d array was expected. Please change the shape of y to (n_samples,), for example using ravel().\n",
      "  estimator.fit(X_train, y_train, **fit_params)\n",
      "/opt/conda/lib/python3.7/site-packages/sklearn/model_selection/_validation.py:680: DataConversionWarning: A column-vector y was passed when a 1d array was expected. Please change the shape of y to (n_samples,), for example using ravel().\n",
      "  estimator.fit(X_train, y_train, **fit_params)\n",
      "/opt/conda/lib/python3.7/site-packages/sklearn/model_selection/_validation.py:680: DataConversionWarning: A column-vector y was passed when a 1d array was expected. Please change the shape of y to (n_samples,), for example using ravel().\n",
      "  estimator.fit(X_train, y_train, **fit_params)\n",
      "/opt/conda/lib/python3.7/site-packages/sklearn/model_selection/_validation.py:680: DataConversionWarning: A column-vector y was passed when a 1d array was expected. Please change the shape of y to (n_samples,), for example using ravel().\n",
      "  estimator.fit(X_train, y_train, **fit_params)\n",
      "/opt/conda/lib/python3.7/site-packages/sklearn/model_selection/_validation.py:680: DataConversionWarning: A column-vector y was passed when a 1d array was expected. Please change the shape of y to (n_samples,), for example using ravel().\n",
      "  estimator.fit(X_train, y_train, **fit_params)\n",
      "/opt/conda/lib/python3.7/site-packages/sklearn/model_selection/_validation.py:680: DataConversionWarning: A column-vector y was passed when a 1d array was expected. Please change the shape of y to (n_samples,), for example using ravel().\n",
      "  estimator.fit(X_train, y_train, **fit_params)\n",
      "/opt/conda/lib/python3.7/site-packages/sklearn/model_selection/_validation.py:680: DataConversionWarning: A column-vector y was passed when a 1d array was expected. Please change the shape of y to (n_samples,), for example using ravel().\n",
      "  estimator.fit(X_train, y_train, **fit_params)\n",
      "/opt/conda/lib/python3.7/site-packages/sklearn/model_selection/_validation.py:680: DataConversionWarning: A column-vector y was passed when a 1d array was expected. Please change the shape of y to (n_samples,), for example using ravel().\n",
      "  estimator.fit(X_train, y_train, **fit_params)\n",
      "/opt/conda/lib/python3.7/site-packages/sklearn/model_selection/_validation.py:680: DataConversionWarning: A column-vector y was passed when a 1d array was expected. Please change the shape of y to (n_samples,), for example using ravel().\n",
      "  estimator.fit(X_train, y_train, **fit_params)\n",
      "/opt/conda/lib/python3.7/site-packages/sklearn/model_selection/_validation.py:680: DataConversionWarning: A column-vector y was passed when a 1d array was expected. Please change the shape of y to (n_samples,), for example using ravel().\n",
      "  estimator.fit(X_train, y_train, **fit_params)\n",
      "/opt/conda/lib/python3.7/site-packages/sklearn/model_selection/_validation.py:680: DataConversionWarning: A column-vector y was passed when a 1d array was expected. Please change the shape of y to (n_samples,), for example using ravel().\n",
      "  estimator.fit(X_train, y_train, **fit_params)\n",
      "/opt/conda/lib/python3.7/site-packages/sklearn/model_selection/_validation.py:680: DataConversionWarning: A column-vector y was passed when a 1d array was expected. Please change the shape of y to (n_samples,), for example using ravel().\n",
      "  estimator.fit(X_train, y_train, **fit_params)\n",
      "/opt/conda/lib/python3.7/site-packages/sklearn/model_selection/_validation.py:680: DataConversionWarning: A column-vector y was passed when a 1d array was expected. Please change the shape of y to (n_samples,), for example using ravel().\n",
      "  estimator.fit(X_train, y_train, **fit_params)\n",
      "/opt/conda/lib/python3.7/site-packages/sklearn/model_selection/_validation.py:680: DataConversionWarning: A column-vector y was passed when a 1d array was expected. Please change the shape of y to (n_samples,), for example using ravel().\n",
      "  estimator.fit(X_train, y_train, **fit_params)\n",
      "/opt/conda/lib/python3.7/site-packages/sklearn/model_selection/_validation.py:680: DataConversionWarning: A column-vector y was passed when a 1d array was expected. Please change the shape of y to (n_samples,), for example using ravel().\n",
      "  estimator.fit(X_train, y_train, **fit_params)\n",
      "/opt/conda/lib/python3.7/site-packages/sklearn/model_selection/_validation.py:680: DataConversionWarning: A column-vector y was passed when a 1d array was expected. Please change the shape of y to (n_samples,), for example using ravel().\n",
      "  estimator.fit(X_train, y_train, **fit_params)\n",
      "/opt/conda/lib/python3.7/site-packages/sklearn/model_selection/_validation.py:680: DataConversionWarning: A column-vector y was passed when a 1d array was expected. Please change the shape of y to (n_samples,), for example using ravel().\n",
      "  estimator.fit(X_train, y_train, **fit_params)\n",
      "/opt/conda/lib/python3.7/site-packages/sklearn/model_selection/_validation.py:680: DataConversionWarning: A column-vector y was passed when a 1d array was expected. Please change the shape of y to (n_samples,), for example using ravel().\n",
      "  estimator.fit(X_train, y_train, **fit_params)\n",
      "/opt/conda/lib/python3.7/site-packages/sklearn/model_selection/_validation.py:680: DataConversionWarning: A column-vector y was passed when a 1d array was expected. Please change the shape of y to (n_samples,), for example using ravel().\n",
      "  estimator.fit(X_train, y_train, **fit_params)\n",
      "/opt/conda/lib/python3.7/site-packages/sklearn/model_selection/_validation.py:680: DataConversionWarning: A column-vector y was passed when a 1d array was expected. Please change the shape of y to (n_samples,), for example using ravel().\n",
      "  estimator.fit(X_train, y_train, **fit_params)\n",
      "/opt/conda/lib/python3.7/site-packages/sklearn/model_selection/_validation.py:680: DataConversionWarning: A column-vector y was passed when a 1d array was expected. Please change the shape of y to (n_samples,), for example using ravel().\n",
      "  estimator.fit(X_train, y_train, **fit_params)\n",
      "/opt/conda/lib/python3.7/site-packages/sklearn/model_selection/_validation.py:680: DataConversionWarning: A column-vector y was passed when a 1d array was expected. Please change the shape of y to (n_samples,), for example using ravel().\n",
      "  estimator.fit(X_train, y_train, **fit_params)\n",
      "/opt/conda/lib/python3.7/site-packages/sklearn/model_selection/_validation.py:680: DataConversionWarning: A column-vector y was passed when a 1d array was expected. Please change the shape of y to (n_samples,), for example using ravel().\n",
      "  estimator.fit(X_train, y_train, **fit_params)\n",
      "/opt/conda/lib/python3.7/site-packages/sklearn/model_selection/_validation.py:680: DataConversionWarning: A column-vector y was passed when a 1d array was expected. Please change the shape of y to (n_samples,), for example using ravel().\n",
      "  estimator.fit(X_train, y_train, **fit_params)\n",
      "/opt/conda/lib/python3.7/site-packages/sklearn/model_selection/_validation.py:680: DataConversionWarning: A column-vector y was passed when a 1d array was expected. Please change the shape of y to (n_samples,), for example using ravel().\n",
      "  estimator.fit(X_train, y_train, **fit_params)\n",
      "/opt/conda/lib/python3.7/site-packages/sklearn/model_selection/_validation.py:680: DataConversionWarning: A column-vector y was passed when a 1d array was expected. Please change the shape of y to (n_samples,), for example using ravel().\n",
      "  estimator.fit(X_train, y_train, **fit_params)\n",
      "/opt/conda/lib/python3.7/site-packages/sklearn/model_selection/_validation.py:680: DataConversionWarning: A column-vector y was passed when a 1d array was expected. Please change the shape of y to (n_samples,), for example using ravel().\n",
      "  estimator.fit(X_train, y_train, **fit_params)\n",
      "/opt/conda/lib/python3.7/site-packages/sklearn/model_selection/_validation.py:680: DataConversionWarning: A column-vector y was passed when a 1d array was expected. Please change the shape of y to (n_samples,), for example using ravel().\n",
      "  estimator.fit(X_train, y_train, **fit_params)\n",
      "/opt/conda/lib/python3.7/site-packages/sklearn/model_selection/_validation.py:680: DataConversionWarning: A column-vector y was passed when a 1d array was expected. Please change the shape of y to (n_samples,), for example using ravel().\n",
      "  estimator.fit(X_train, y_train, **fit_params)\n",
      "/opt/conda/lib/python3.7/site-packages/sklearn/model_selection/_validation.py:680: DataConversionWarning: A column-vector y was passed when a 1d array was expected. Please change the shape of y to (n_samples,), for example using ravel().\n",
      "  estimator.fit(X_train, y_train, **fit_params)\n",
      "/opt/conda/lib/python3.7/site-packages/sklearn/model_selection/_validation.py:680: DataConversionWarning: A column-vector y was passed when a 1d array was expected. Please change the shape of y to (n_samples,), for example using ravel().\n",
      "  estimator.fit(X_train, y_train, **fit_params)\n",
      "/opt/conda/lib/python3.7/site-packages/sklearn/model_selection/_validation.py:680: DataConversionWarning: A column-vector y was passed when a 1d array was expected. Please change the shape of y to (n_samples,), for example using ravel().\n",
      "  estimator.fit(X_train, y_train, **fit_params)\n",
      "/opt/conda/lib/python3.7/site-packages/sklearn/model_selection/_validation.py:680: DataConversionWarning: A column-vector y was passed when a 1d array was expected. Please change the shape of y to (n_samples,), for example using ravel().\n",
      "  estimator.fit(X_train, y_train, **fit_params)\n",
      "/opt/conda/lib/python3.7/site-packages/sklearn/model_selection/_validation.py:680: DataConversionWarning: A column-vector y was passed when a 1d array was expected. Please change the shape of y to (n_samples,), for example using ravel().\n",
      "  estimator.fit(X_train, y_train, **fit_params)\n",
      "/opt/conda/lib/python3.7/site-packages/sklearn/model_selection/_validation.py:680: DataConversionWarning: A column-vector y was passed when a 1d array was expected. Please change the shape of y to (n_samples,), for example using ravel().\n",
      "  estimator.fit(X_train, y_train, **fit_params)\n",
      "/opt/conda/lib/python3.7/site-packages/sklearn/model_selection/_validation.py:680: DataConversionWarning: A column-vector y was passed when a 1d array was expected. Please change the shape of y to (n_samples,), for example using ravel().\n",
      "  estimator.fit(X_train, y_train, **fit_params)\n",
      "/opt/conda/lib/python3.7/site-packages/sklearn/model_selection/_validation.py:680: DataConversionWarning: A column-vector y was passed when a 1d array was expected. Please change the shape of y to (n_samples,), for example using ravel().\n",
      "  estimator.fit(X_train, y_train, **fit_params)\n",
      "/opt/conda/lib/python3.7/site-packages/sklearn/model_selection/_validation.py:680: DataConversionWarning: A column-vector y was passed when a 1d array was expected. Please change the shape of y to (n_samples,), for example using ravel().\n",
      "  estimator.fit(X_train, y_train, **fit_params)\n",
      "/opt/conda/lib/python3.7/site-packages/sklearn/model_selection/_validation.py:680: DataConversionWarning: A column-vector y was passed when a 1d array was expected. Please change the shape of y to (n_samples,), for example using ravel().\n",
      "  estimator.fit(X_train, y_train, **fit_params)\n",
      "/opt/conda/lib/python3.7/site-packages/sklearn/model_selection/_validation.py:680: DataConversionWarning: A column-vector y was passed when a 1d array was expected. Please change the shape of y to (n_samples,), for example using ravel().\n",
      "  estimator.fit(X_train, y_train, **fit_params)\n",
      "/opt/conda/lib/python3.7/site-packages/sklearn/model_selection/_validation.py:680: DataConversionWarning: A column-vector y was passed when a 1d array was expected. Please change the shape of y to (n_samples,), for example using ravel().\n",
      "  estimator.fit(X_train, y_train, **fit_params)\n",
      "/opt/conda/lib/python3.7/site-packages/sklearn/model_selection/_validation.py:680: DataConversionWarning: A column-vector y was passed when a 1d array was expected. Please change the shape of y to (n_samples,), for example using ravel().\n",
      "  estimator.fit(X_train, y_train, **fit_params)\n",
      "/opt/conda/lib/python3.7/site-packages/sklearn/model_selection/_validation.py:680: DataConversionWarning: A column-vector y was passed when a 1d array was expected. Please change the shape of y to (n_samples,), for example using ravel().\n",
      "  estimator.fit(X_train, y_train, **fit_params)\n",
      "/opt/conda/lib/python3.7/site-packages/sklearn/model_selection/_validation.py:680: DataConversionWarning: A column-vector y was passed when a 1d array was expected. Please change the shape of y to (n_samples,), for example using ravel().\n",
      "  estimator.fit(X_train, y_train, **fit_params)\n",
      "/opt/conda/lib/python3.7/site-packages/sklearn/model_selection/_validation.py:680: DataConversionWarning: A column-vector y was passed when a 1d array was expected. Please change the shape of y to (n_samples,), for example using ravel().\n",
      "  estimator.fit(X_train, y_train, **fit_params)\n",
      "/opt/conda/lib/python3.7/site-packages/sklearn/model_selection/_validation.py:680: DataConversionWarning: A column-vector y was passed when a 1d array was expected. Please change the shape of y to (n_samples,), for example using ravel().\n",
      "  estimator.fit(X_train, y_train, **fit_params)\n",
      "/opt/conda/lib/python3.7/site-packages/sklearn/model_selection/_validation.py:680: DataConversionWarning: A column-vector y was passed when a 1d array was expected. Please change the shape of y to (n_samples,), for example using ravel().\n",
      "  estimator.fit(X_train, y_train, **fit_params)\n",
      "/opt/conda/lib/python3.7/site-packages/sklearn/model_selection/_validation.py:680: DataConversionWarning: A column-vector y was passed when a 1d array was expected. Please change the shape of y to (n_samples,), for example using ravel().\n",
      "  estimator.fit(X_train, y_train, **fit_params)\n",
      "/opt/conda/lib/python3.7/site-packages/sklearn/model_selection/_validation.py:680: DataConversionWarning: A column-vector y was passed when a 1d array was expected. Please change the shape of y to (n_samples,), for example using ravel().\n",
      "  estimator.fit(X_train, y_train, **fit_params)\n",
      "/opt/conda/lib/python3.7/site-packages/sklearn/model_selection/_validation.py:680: DataConversionWarning: A column-vector y was passed when a 1d array was expected. Please change the shape of y to (n_samples,), for example using ravel().\n",
      "  estimator.fit(X_train, y_train, **fit_params)\n",
      "/opt/conda/lib/python3.7/site-packages/sklearn/model_selection/_validation.py:680: DataConversionWarning: A column-vector y was passed when a 1d array was expected. Please change the shape of y to (n_samples,), for example using ravel().\n",
      "  estimator.fit(X_train, y_train, **fit_params)\n",
      "/opt/conda/lib/python3.7/site-packages/sklearn/model_selection/_validation.py:680: DataConversionWarning: A column-vector y was passed when a 1d array was expected. Please change the shape of y to (n_samples,), for example using ravel().\n",
      "  estimator.fit(X_train, y_train, **fit_params)\n",
      "/opt/conda/lib/python3.7/site-packages/sklearn/model_selection/_validation.py:680: DataConversionWarning: A column-vector y was passed when a 1d array was expected. Please change the shape of y to (n_samples,), for example using ravel().\n",
      "  estimator.fit(X_train, y_train, **fit_params)\n",
      "/opt/conda/lib/python3.7/site-packages/sklearn/model_selection/_validation.py:680: DataConversionWarning: A column-vector y was passed when a 1d array was expected. Please change the shape of y to (n_samples,), for example using ravel().\n",
      "  estimator.fit(X_train, y_train, **fit_params)\n",
      "/opt/conda/lib/python3.7/site-packages/sklearn/model_selection/_validation.py:680: DataConversionWarning: A column-vector y was passed when a 1d array was expected. Please change the shape of y to (n_samples,), for example using ravel().\n",
      "  estimator.fit(X_train, y_train, **fit_params)\n",
      "/opt/conda/lib/python3.7/site-packages/sklearn/model_selection/_validation.py:680: DataConversionWarning: A column-vector y was passed when a 1d array was expected. Please change the shape of y to (n_samples,), for example using ravel().\n",
      "  estimator.fit(X_train, y_train, **fit_params)\n",
      "/opt/conda/lib/python3.7/site-packages/sklearn/model_selection/_validation.py:680: DataConversionWarning: A column-vector y was passed when a 1d array was expected. Please change the shape of y to (n_samples,), for example using ravel().\n",
      "  estimator.fit(X_train, y_train, **fit_params)\n"
     ]
    },
    {
     "name": "stdout",
     "output_type": "stream",
     "text": [
      "[CV] END bootstrap=True, max_depth=10, max_features=sqrt, min_samples_leaf=1, min_samples_split=5, n_estimators=2000; total time=   5.7s\n",
      "[CV] END bootstrap=False, max_depth=10, max_features=sqrt, min_samples_leaf=2, min_samples_split=5, n_estimators=1200; total time=   2.9s\n",
      "[CV] END bootstrap=True, max_depth=10, max_features=sqrt, min_samples_leaf=4, min_samples_split=2, n_estimators=1600; total time=   4.2s\n",
      "[CV] END bootstrap=False, max_depth=30, max_features=sqrt, min_samples_leaf=4, min_samples_split=5, n_estimators=800; total time=   1.7s\n",
      "[CV] END bootstrap=False, max_depth=100, max_features=sqrt, min_samples_leaf=2, min_samples_split=5, n_estimators=1000; total time=   2.2s\n",
      "[CV] END bootstrap=False, max_depth=60, max_features=sqrt, min_samples_leaf=1, min_samples_split=5, n_estimators=600; total time=   1.4s\n",
      "[CV] END bootstrap=False, max_depth=50, max_features=auto, min_samples_leaf=1, min_samples_split=2, n_estimators=1000; total time=   2.4s\n",
      "[CV] END bootstrap=True, max_depth=70, max_features=auto, min_samples_leaf=4, min_samples_split=10, n_estimators=400; total time=   1.0s\n",
      "[CV] END bootstrap=True, max_depth=70, max_features=auto, min_samples_leaf=4, min_samples_split=10, n_estimators=400; total time=   1.0s\n",
      "[CV] END bootstrap=False, max_depth=90, max_features=sqrt, min_samples_leaf=1, min_samples_split=5, n_estimators=800; total time=   1.8s\n",
      "[CV] END bootstrap=False, max_depth=10, max_features=sqrt, min_samples_leaf=1, min_samples_split=10, n_estimators=2000; total time=   4.8s\n",
      "[CV] END bootstrap=False, max_depth=30, max_features=sqrt, min_samples_leaf=2, min_samples_split=10, n_estimators=800; total time=   1.9s\n",
      "[CV] END bootstrap=False, max_depth=30, max_features=sqrt, min_samples_leaf=2, min_samples_split=10, n_estimators=800; total time=   1.9s\n",
      "[CV] END bootstrap=False, max_depth=70, max_features=auto, min_samples_leaf=2, min_samples_split=5, n_estimators=600; total time=   1.4s\n",
      "[CV] END bootstrap=False, max_depth=70, max_features=auto, min_samples_leaf=2, min_samples_split=5, n_estimators=600; total time=   1.4s\n",
      "[CV] END bootstrap=False, max_depth=70, max_features=auto, min_samples_leaf=2, min_samples_split=5, n_estimators=600; total time=   1.4s\n",
      "[CV] END bootstrap=False, max_depth=110, max_features=auto, min_samples_leaf=2, min_samples_split=10, n_estimators=1800; total time=   4.0s\n",
      "[CV] END bootstrap=True, max_depth=80, max_features=auto, min_samples_leaf=1, min_samples_split=5, n_estimators=600; total time=   1.6s\n",
      "[CV] END bootstrap=False, max_depth=30, max_features=sqrt, min_samples_leaf=1, min_samples_split=10, n_estimators=1800; total time=   4.0s\n",
      "[CV] END bootstrap=True, max_depth=80, max_features=sqrt, min_samples_leaf=4, min_samples_split=5, n_estimators=1400; total time=   3.6s\n",
      "[CV] END bootstrap=True, max_depth=None, max_features=auto, min_samples_leaf=2, min_samples_split=2, n_estimators=1800; total time=   4.8s\n",
      "[CV] END bootstrap=False, max_depth=80, max_features=sqrt, min_samples_leaf=1, min_samples_split=5, n_estimators=1400; total time=   3.7s\n",
      "[CV] END bootstrap=True, max_depth=20, max_features=sqrt, min_samples_leaf=2, min_samples_split=5, n_estimators=1000; total time=   2.8s\n",
      "[CV] END bootstrap=False, max_depth=100, max_features=auto, min_samples_leaf=4, min_samples_split=10, n_estimators=2000; total time=   4.3s\n",
      "[CV] END bootstrap=True, max_depth=20, max_features=sqrt, min_samples_leaf=2, min_samples_split=2, n_estimators=1200; total time=   3.1s\n",
      "[CV] END bootstrap=False, max_depth=20, max_features=sqrt, min_samples_leaf=4, min_samples_split=10, n_estimators=1200; total time=   2.6s\n",
      "[CV] END bootstrap=False, max_depth=100, max_features=sqrt, min_samples_leaf=1, min_samples_split=5, n_estimators=800; total time=   1.9s\n",
      "[CV] END bootstrap=True, max_depth=50, max_features=sqrt, min_samples_leaf=4, min_samples_split=10, n_estimators=800; total time=   2.1s\n",
      "[CV] END bootstrap=False, max_depth=20, max_features=sqrt, min_samples_leaf=2, min_samples_split=10, n_estimators=800; total time=   1.7s\n",
      "[CV] END bootstrap=False, max_depth=20, max_features=sqrt, min_samples_leaf=2, min_samples_split=10, n_estimators=800; total time=   1.8s\n",
      "[CV] END bootstrap=True, max_depth=20, max_features=sqrt, min_samples_leaf=2, min_samples_split=5, n_estimators=1200; total time=   3.2s\n",
      "[CV] END bootstrap=True, max_depth=100, max_features=auto, min_samples_leaf=1, min_samples_split=2, n_estimators=800; total time=   2.3s\n",
      "[CV] END bootstrap=True, max_depth=60, max_features=sqrt, min_samples_leaf=2, min_samples_split=2, n_estimators=1000; total time=   2.6s\n",
      "[CV] END bootstrap=True, max_depth=60, max_features=sqrt, min_samples_leaf=2, min_samples_split=10, n_estimators=600; total time=   1.8s\n",
      "[CV] END bootstrap=True, max_depth=90, max_features=sqrt, min_samples_leaf=4, min_samples_split=2, n_estimators=800; total time=   2.2s\n",
      "[CV] END bootstrap=False, max_depth=90, max_features=auto, min_samples_leaf=2, min_samples_split=5, n_estimators=200; total time=   0.5s\n",
      "[CV] END bootstrap=False, max_depth=90, max_features=auto, min_samples_leaf=2, min_samples_split=5, n_estimators=200; total time=   0.4s\n",
      "[CV] END bootstrap=True, max_depth=110, max_features=sqrt, min_samples_leaf=1, min_samples_split=2, n_estimators=1000; total time=   2.8s\n",
      "[CV] END bootstrap=False, max_depth=80, max_features=sqrt, min_samples_leaf=4, min_samples_split=10, n_estimators=400; total time=   0.9s\n",
      "[CV] END bootstrap=False, max_depth=80, max_features=sqrt, min_samples_leaf=4, min_samples_split=10, n_estimators=400; total time=   0.9s\n",
      "[CV] END bootstrap=False, max_depth=80, max_features=sqrt, min_samples_leaf=4, min_samples_split=10, n_estimators=400; total time=   0.9s\n",
      "[CV] END bootstrap=False, max_depth=70, max_features=sqrt, min_samples_leaf=4, min_samples_split=2, n_estimators=1200; total time=   2.6s\n",
      "[CV] END bootstrap=False, max_depth=110, max_features=sqrt, min_samples_leaf=2, min_samples_split=2, n_estimators=600; total time=   1.3s\n",
      "[CV] END bootstrap=False, max_depth=20, max_features=auto, min_samples_leaf=1, min_samples_split=2, n_estimators=1800; total time=   4.3s\n",
      "[CV] END bootstrap=False, max_depth=50, max_features=auto, min_samples_leaf=4, min_samples_split=10, n_estimators=1000; total time=   2.2s\n",
      "[CV] END bootstrap=False, max_depth=50, max_features=auto, min_samples_leaf=4, min_samples_split=10, n_estimators=1000; total time=   2.1s\n",
      "[CV] END bootstrap=False, max_depth=None, max_features=sqrt, min_samples_leaf=2, min_samples_split=5, n_estimators=1400; total time=   3.1s\n",
      "[CV] END bootstrap=False, max_depth=60, max_features=sqrt, min_samples_leaf=4, min_samples_split=2, n_estimators=600; total time=   1.3s\n",
      "[CV] END bootstrap=True, max_depth=10, max_features=auto, min_samples_leaf=1, min_samples_split=5, n_estimators=1600; total time=   4.3s\n",
      "[CV] END bootstrap=True, max_depth=80, max_features=auto, min_samples_leaf=2, min_samples_split=2, n_estimators=1800; total time=   5.2s\n",
      "[CV] END bootstrap=True, max_depth=80, max_features=sqrt, min_samples_leaf=2, min_samples_split=10, n_estimators=1400; total time=   3.8s\n",
      "[CV] END bootstrap=True, max_depth=50, max_features=sqrt, min_samples_leaf=1, min_samples_split=2, n_estimators=200; total time=   0.6s\n",
      "[CV] END bootstrap=True, max_depth=10, max_features=sqrt, min_samples_leaf=4, min_samples_split=2, n_estimators=400; total time=   1.1s\n",
      "[CV] END bootstrap=False, max_depth=None, max_features=auto, min_samples_leaf=2, min_samples_split=10, n_estimators=1200; total time=   2.7s\n",
      "[CV] END bootstrap=True, max_depth=20, max_features=sqrt, min_samples_leaf=1, min_samples_split=10, n_estimators=1600; total time=   4.2s\n",
      "[CV] END bootstrap=True, max_depth=None, max_features=auto, min_samples_leaf=2, min_samples_split=10, n_estimators=1600; total time=   4.3s\n",
      "[CV] END bootstrap=True, max_depth=70, max_features=auto, min_samples_leaf=2, min_samples_split=2, n_estimators=1400; total time=   3.7s\n",
      "[CV] END bootstrap=False, max_depth=80, max_features=sqrt, min_samples_leaf=1, min_samples_split=10, n_estimators=1000; total time=   2.2s\n",
      "[CV] END bootstrap=False, max_depth=60, max_features=auto, min_samples_leaf=2, min_samples_split=10, n_estimators=2000; total time=   4.4s\n",
      "[CV] END bootstrap=False, max_depth=20, max_features=sqrt, min_samples_leaf=4, min_samples_split=2, n_estimators=800; total time=   2.0s"
     ]
    },
    {
     "name": "stderr",
     "output_type": "stream",
     "text": [
      "/opt/conda/lib/python3.7/site-packages/sklearn/model_selection/_validation.py:680: DataConversionWarning: A column-vector y was passed when a 1d array was expected. Please change the shape of y to (n_samples,), for example using ravel().\n",
      "  estimator.fit(X_train, y_train, **fit_params)\n",
      "/opt/conda/lib/python3.7/site-packages/sklearn/model_selection/_validation.py:680: DataConversionWarning: A column-vector y was passed when a 1d array was expected. Please change the shape of y to (n_samples,), for example using ravel().\n",
      "  estimator.fit(X_train, y_train, **fit_params)\n",
      "/opt/conda/lib/python3.7/site-packages/sklearn/model_selection/_validation.py:680: DataConversionWarning: A column-vector y was passed when a 1d array was expected. Please change the shape of y to (n_samples,), for example using ravel().\n",
      "  estimator.fit(X_train, y_train, **fit_params)\n",
      "/opt/conda/lib/python3.7/site-packages/sklearn/model_selection/_validation.py:680: DataConversionWarning: A column-vector y was passed when a 1d array was expected. Please change the shape of y to (n_samples,), for example using ravel().\n",
      "  estimator.fit(X_train, y_train, **fit_params)\n",
      "/opt/conda/lib/python3.7/site-packages/sklearn/model_selection/_validation.py:680: DataConversionWarning: A column-vector y was passed when a 1d array was expected. Please change the shape of y to (n_samples,), for example using ravel().\n",
      "  estimator.fit(X_train, y_train, **fit_params)\n",
      "/opt/conda/lib/python3.7/site-packages/sklearn/model_selection/_validation.py:680: DataConversionWarning: A column-vector y was passed when a 1d array was expected. Please change the shape of y to (n_samples,), for example using ravel().\n",
      "  estimator.fit(X_train, y_train, **fit_params)\n",
      "/opt/conda/lib/python3.7/site-packages/sklearn/model_selection/_validation.py:680: DataConversionWarning: A column-vector y was passed when a 1d array was expected. Please change the shape of y to (n_samples,), for example using ravel().\n",
      "  estimator.fit(X_train, y_train, **fit_params)\n",
      "/opt/conda/lib/python3.7/site-packages/sklearn/model_selection/_validation.py:680: DataConversionWarning: A column-vector y was passed when a 1d array was expected. Please change the shape of y to (n_samples,), for example using ravel().\n",
      "  estimator.fit(X_train, y_train, **fit_params)\n",
      "/opt/conda/lib/python3.7/site-packages/sklearn/model_selection/_validation.py:680: DataConversionWarning: A column-vector y was passed when a 1d array was expected. Please change the shape of y to (n_samples,), for example using ravel().\n",
      "  estimator.fit(X_train, y_train, **fit_params)\n",
      "/opt/conda/lib/python3.7/site-packages/sklearn/model_selection/_validation.py:680: DataConversionWarning: A column-vector y was passed when a 1d array was expected. Please change the shape of y to (n_samples,), for example using ravel().\n",
      "  estimator.fit(X_train, y_train, **fit_params)\n",
      "/opt/conda/lib/python3.7/site-packages/sklearn/model_selection/_validation.py:680: DataConversionWarning: A column-vector y was passed when a 1d array was expected. Please change the shape of y to (n_samples,), for example using ravel().\n",
      "  estimator.fit(X_train, y_train, **fit_params)\n",
      "/opt/conda/lib/python3.7/site-packages/sklearn/model_selection/_validation.py:680: DataConversionWarning: A column-vector y was passed when a 1d array was expected. Please change the shape of y to (n_samples,), for example using ravel().\n",
      "  estimator.fit(X_train, y_train, **fit_params)\n",
      "/opt/conda/lib/python3.7/site-packages/sklearn/model_selection/_validation.py:680: DataConversionWarning: A column-vector y was passed when a 1d array was expected. Please change the shape of y to (n_samples,), for example using ravel().\n",
      "  estimator.fit(X_train, y_train, **fit_params)\n",
      "/opt/conda/lib/python3.7/site-packages/sklearn/model_selection/_validation.py:680: DataConversionWarning: A column-vector y was passed when a 1d array was expected. Please change the shape of y to (n_samples,), for example using ravel().\n",
      "  estimator.fit(X_train, y_train, **fit_params)\n",
      "/opt/conda/lib/python3.7/site-packages/sklearn/model_selection/_validation.py:680: DataConversionWarning: A column-vector y was passed when a 1d array was expected. Please change the shape of y to (n_samples,), for example using ravel().\n",
      "  estimator.fit(X_train, y_train, **fit_params)\n",
      "/opt/conda/lib/python3.7/site-packages/sklearn/model_selection/_validation.py:680: DataConversionWarning: A column-vector y was passed when a 1d array was expected. Please change the shape of y to (n_samples,), for example using ravel().\n",
      "  estimator.fit(X_train, y_train, **fit_params)\n",
      "/opt/conda/lib/python3.7/site-packages/sklearn/model_selection/_validation.py:680: DataConversionWarning: A column-vector y was passed when a 1d array was expected. Please change the shape of y to (n_samples,), for example using ravel().\n",
      "  estimator.fit(X_train, y_train, **fit_params)\n",
      "/opt/conda/lib/python3.7/site-packages/sklearn/model_selection/_validation.py:680: DataConversionWarning: A column-vector y was passed when a 1d array was expected. Please change the shape of y to (n_samples,), for example using ravel().\n",
      "  estimator.fit(X_train, y_train, **fit_params)\n",
      "/opt/conda/lib/python3.7/site-packages/sklearn/model_selection/_validation.py:680: DataConversionWarning: A column-vector y was passed when a 1d array was expected. Please change the shape of y to (n_samples,), for example using ravel().\n",
      "  estimator.fit(X_train, y_train, **fit_params)\n",
      "/opt/conda/lib/python3.7/site-packages/sklearn/model_selection/_validation.py:680: DataConversionWarning: A column-vector y was passed when a 1d array was expected. Please change the shape of y to (n_samples,), for example using ravel().\n",
      "  estimator.fit(X_train, y_train, **fit_params)\n",
      "/opt/conda/lib/python3.7/site-packages/sklearn/model_selection/_validation.py:680: DataConversionWarning: A column-vector y was passed when a 1d array was expected. Please change the shape of y to (n_samples,), for example using ravel().\n",
      "  estimator.fit(X_train, y_train, **fit_params)\n",
      "/opt/conda/lib/python3.7/site-packages/sklearn/model_selection/_validation.py:680: DataConversionWarning: A column-vector y was passed when a 1d array was expected. Please change the shape of y to (n_samples,), for example using ravel().\n",
      "  estimator.fit(X_train, y_train, **fit_params)\n",
      "/opt/conda/lib/python3.7/site-packages/sklearn/model_selection/_validation.py:680: DataConversionWarning: A column-vector y was passed when a 1d array was expected. Please change the shape of y to (n_samples,), for example using ravel().\n",
      "  estimator.fit(X_train, y_train, **fit_params)\n",
      "/opt/conda/lib/python3.7/site-packages/sklearn/model_selection/_validation.py:680: DataConversionWarning: A column-vector y was passed when a 1d array was expected. Please change the shape of y to (n_samples,), for example using ravel().\n",
      "  estimator.fit(X_train, y_train, **fit_params)\n",
      "/opt/conda/lib/python3.7/site-packages/sklearn/model_selection/_validation.py:680: DataConversionWarning: A column-vector y was passed when a 1d array was expected. Please change the shape of y to (n_samples,), for example using ravel().\n",
      "  estimator.fit(X_train, y_train, **fit_params)\n",
      "/opt/conda/lib/python3.7/site-packages/sklearn/model_selection/_validation.py:680: DataConversionWarning: A column-vector y was passed when a 1d array was expected. Please change the shape of y to (n_samples,), for example using ravel().\n",
      "  estimator.fit(X_train, y_train, **fit_params)\n",
      "/opt/conda/lib/python3.7/site-packages/sklearn/model_selection/_validation.py:680: DataConversionWarning: A column-vector y was passed when a 1d array was expected. Please change the shape of y to (n_samples,), for example using ravel().\n",
      "  estimator.fit(X_train, y_train, **fit_params)\n",
      "/opt/conda/lib/python3.7/site-packages/sklearn/model_selection/_validation.py:680: DataConversionWarning: A column-vector y was passed when a 1d array was expected. Please change the shape of y to (n_samples,), for example using ravel().\n",
      "  estimator.fit(X_train, y_train, **fit_params)\n",
      "/opt/conda/lib/python3.7/site-packages/sklearn/model_selection/_validation.py:680: DataConversionWarning: A column-vector y was passed when a 1d array was expected. Please change the shape of y to (n_samples,), for example using ravel().\n",
      "  estimator.fit(X_train, y_train, **fit_params)\n"
     ]
    },
    {
     "name": "stdout",
     "output_type": "stream",
     "text": [
      "[CV] END bootstrap=True, max_depth=30, max_features=sqrt, min_samples_leaf=1, min_samples_split=5, n_estimators=400; total time=   1.2s\n",
      "[CV] END bootstrap=False, max_depth=10, max_features=sqrt, min_samples_leaf=2, min_samples_split=5, n_estimators=1200; total time=   2.8s\n",
      "[CV] END bootstrap=False, max_depth=10, max_features=sqrt, min_samples_leaf=2, min_samples_split=5, n_estimators=1200; total time=   2.9s\n",
      "[CV] END bootstrap=False, max_depth=30, max_features=auto, min_samples_leaf=4, min_samples_split=2, n_estimators=2000; total time=   4.6s\n",
      "[CV] END bootstrap=False, max_depth=30, max_features=sqrt, min_samples_leaf=4, min_samples_split=5, n_estimators=800; total time=   1.8s\n",
      "[CV] END bootstrap=False, max_depth=30, max_features=sqrt, min_samples_leaf=4, min_samples_split=5, n_estimators=800; total time=   1.7s\n",
      "[CV] END bootstrap=False, max_depth=100, max_features=sqrt, min_samples_leaf=2, min_samples_split=5, n_estimators=1000; total time=   2.2s\n",
      "[CV] END bootstrap=False, max_depth=50, max_features=auto, min_samples_leaf=1, min_samples_split=2, n_estimators=1000; total time=   2.3s\n",
      "[CV] END bootstrap=False, max_depth=10, max_features=auto, min_samples_leaf=4, min_samples_split=5, n_estimators=1800; total time=   3.8s\n",
      "[CV] END bootstrap=False, max_depth=90, max_features=sqrt, min_samples_leaf=1, min_samples_split=5, n_estimators=800; total time=   1.9s\n",
      "[CV] END bootstrap=False, max_depth=10, max_features=sqrt, min_samples_leaf=2, min_samples_split=5, n_estimators=1600; total time=   3.5s\n",
      "[CV] END bootstrap=False, max_depth=10, max_features=sqrt, min_samples_leaf=2, min_samples_split=5, n_estimators=1600; total time=   3.6s\n",
      "[CV] END bootstrap=False, max_depth=50, max_features=auto, min_samples_leaf=4, min_samples_split=2, n_estimators=1800; total time=   3.9s\n",
      "[CV] END bootstrap=True, max_depth=20, max_features=sqrt, min_samples_leaf=1, min_samples_split=2, n_estimators=1000; total time=   2.8s\n",
      "[CV] END bootstrap=True, max_depth=80, max_features=auto, min_samples_leaf=1, min_samples_split=5, n_estimators=600; total time=   1.6s\n",
      "[CV] END bootstrap=True, max_depth=80, max_features=auto, min_samples_leaf=1, min_samples_split=5, n_estimators=600; total time=   1.6s\n",
      "[CV] END bootstrap=False, max_depth=30, max_features=sqrt, min_samples_leaf=1, min_samples_split=10, n_estimators=1800; total time=   4.0s\n",
      "[CV] END bootstrap=False, max_depth=70, max_features=sqrt, min_samples_leaf=1, min_samples_split=5, n_estimators=1600; total time=   3.7s\n",
      "[CV] END bootstrap=True, max_depth=80, max_features=sqrt, min_samples_leaf=4, min_samples_split=5, n_estimators=1400; total time=   3.7s\n",
      "[CV] END bootstrap=False, max_depth=80, max_features=sqrt, min_samples_leaf=1, min_samples_split=5, n_estimators=1400; total time=   3.4s\n",
      "[CV] END bootstrap=False, max_depth=None, max_features=sqrt, min_samples_leaf=1, min_samples_split=2, n_estimators=400; total time=   1.2s\n",
      "[CV] END bootstrap=False, max_depth=40, max_features=auto, min_samples_leaf=1, min_samples_split=2, n_estimators=1400; total time=   3.4s\n",
      "[CV] END bootstrap=True, max_depth=20, max_features=sqrt, min_samples_leaf=2, min_samples_split=5, n_estimators=1000; total time=   2.6s\n",
      "[CV] END bootstrap=True, max_depth=20, max_features=sqrt, min_samples_leaf=2, min_samples_split=2, n_estimators=1200; total time=   3.2s\n",
      "[CV] END bootstrap=False, max_depth=20, max_features=sqrt, min_samples_leaf=4, min_samples_split=10, n_estimators=1200; total time=   2.6s\n",
      "[CV] END bootstrap=False, max_depth=50, max_features=sqrt, min_samples_leaf=2, min_samples_split=2, n_estimators=800; total time=   1.8s\n",
      "[CV] END bootstrap=False, max_depth=100, max_features=sqrt, min_samples_leaf=1, min_samples_split=5, n_estimators=800; total time=   1.9s\n",
      "[CV] END bootstrap=True, max_depth=90, max_features=sqrt, min_samples_leaf=4, min_samples_split=2, n_estimators=1800; total time=   4.7s\n",
      "[CV] END bootstrap=False, max_depth=20, max_features=sqrt, min_samples_leaf=2, min_samples_split=10, n_estimators=800; total time=   1.8s\n",
      "[CV] END bootstrap=True, max_depth=20, max_features=sqrt, min_samples_leaf=2, min_samples_split=5, n_estimators=1200; total time=   3.2s\n",
      "[CV] END bootstrap=True, max_depth=None, max_features=auto, min_samples_leaf=2, min_samples_split=5, n_estimators=800; total time=   2.1s\n",
      "[CV] END bootstrap=True, max_depth=60, max_features=sqrt, min_samples_leaf=2, min_samples_split=2, n_estimators=1000; total time=   2.8s\n",
      "[CV] END bootstrap=True, max_depth=90, max_features=sqrt, min_samples_leaf=4, min_samples_split=2, n_estimators=800; total time=   2.5s\n",
      "[CV] END bootstrap=True, max_depth=90, max_features=sqrt, min_samples_leaf=4, min_samples_split=10, n_estimators=400; total time=   1.1s\n",
      "[CV] END bootstrap=False, max_depth=90, max_features=auto, min_samples_leaf=2, min_samples_split=5, n_estimators=200; total time=   0.5s\n",
      "[CV] END bootstrap=True, max_depth=90, max_features=auto, min_samples_leaf=2, min_samples_split=2, n_estimators=2000; total time=   5.3s\n",
      "[CV] END bootstrap=False, max_depth=70, max_features=sqrt, min_samples_leaf=4, min_samples_split=2, n_estimators=1200; total time=   2.6s\n",
      "[CV] END bootstrap=False, max_depth=110, max_features=sqrt, min_samples_leaf=2, min_samples_split=2, n_estimators=600; total time=   1.4s\n",
      "[CV] END bootstrap=False, max_depth=20, max_features=auto, min_samples_leaf=1, min_samples_split=2, n_estimators=1800; total time=   4.3s\n",
      "[CV] END bootstrap=False, max_depth=50, max_features=auto, min_samples_leaf=2, min_samples_split=10, n_estimators=2000; total time=   4.4s\n",
      "[CV] END bootstrap=False, max_depth=30, max_features=auto, min_samples_leaf=4, min_samples_split=5, n_estimators=1000; total time=   2.2s\n",
      "[CV] END bootstrap=False, max_depth=60, max_features=sqrt, min_samples_leaf=4, min_samples_split=2, n_estimators=600; total time=   1.3s\n",
      "[CV] END bootstrap=False, max_depth=60, max_features=sqrt, min_samples_leaf=4, min_samples_split=2, n_estimators=600; total time=   1.3s\n",
      "[CV] END bootstrap=True, max_depth=10, max_features=auto, min_samples_leaf=1, min_samples_split=5, n_estimators=1600; total time=   4.4s\n",
      "[CV] END bootstrap=True, max_depth=100, max_features=auto, min_samples_leaf=1, min_samples_split=2, n_estimators=1400; total time=   4.0s\n",
      "[CV] END bootstrap=True, max_depth=100, max_features=auto, min_samples_leaf=1, min_samples_split=2, n_estimators=1400; total time=   3.9s\n",
      "[CV] END bootstrap=True, max_depth=50, max_features=sqrt, min_samples_leaf=1, min_samples_split=2, n_estimators=200; total time=   0.6s\n",
      "[CV] END bootstrap=True, max_depth=50, max_features=sqrt, min_samples_leaf=1, min_samples_split=2, n_estimators=200; total time=   0.6s\n",
      "[CV] END bootstrap=True, max_depth=10, max_features=sqrt, min_samples_leaf=4, min_samples_split=2, n_estimators=400; total time=   1.1s\n",
      "[CV] END bootstrap=False, max_depth=80, max_features=auto, min_samples_leaf=4, min_samples_split=10, n_estimators=1000; total time=   2.2s\n",
      "[CV] END bootstrap=True, max_depth=20, max_features=sqrt, min_samples_leaf=1, min_samples_split=10, n_estimators=1600; total time=   4.2s\n",
      "[CV] END bootstrap=True, max_depth=None, max_features=auto, min_samples_leaf=2, min_samples_split=10, n_estimators=1600; total time=   4.4s\n",
      "[CV] END bootstrap=False, max_depth=10, max_features=auto, min_samples_leaf=4, min_samples_split=2, n_estimators=1800; total time=   3.8s\n",
      "[CV] END bootstrap=False, max_depth=80, max_features=sqrt, min_samples_leaf=1, min_samples_split=10, n_estimators=1000; total time=   2.2s\n",
      "[CV] END bootstrap=False, max_depth=60, max_features=auto, min_samples_leaf=2, min_samples_split=10, n_estimators=2000; total time=   4.5s\n",
      "[CV] END bootstrap=False, max_depth=80, max_features=sqrt, min_samples_leaf=4, min_samples_split=2, n_estimators=1400; total time=   3.1s\n",
      "[CV] END bootstrap=True, max_depth=60, max_features=sqrt, min_samples_leaf=2, min_samples_split=5, n_estimators=1800; total time=   4.8s\n",
      "[CV] END bootstrap=False, max_depth=90, max_features=sqrt, min_samples_leaf=2, min_samples_split=10, n_estimators=400; total time=   0.9s\n",
      "[CV] END bootstrap=False, max_depth=90, max_features=sqrt, min_samples_leaf=2, min_samples_split=10, n_estimators=400; total time=   0.9s\n",
      "[CV] END bootstrap=False, max_depth=90, max_features=sqrt, min_samples_leaf=2, min_samples_split=10, n_estimators=400; total time=   0.9s"
     ]
    },
    {
     "name": "stderr",
     "output_type": "stream",
     "text": [
      "/opt/conda/lib/python3.7/site-packages/sklearn/model_selection/_validation.py:680: DataConversionWarning: A column-vector y was passed when a 1d array was expected. Please change the shape of y to (n_samples,), for example using ravel().\n",
      "  estimator.fit(X_train, y_train, **fit_params)\n",
      "/opt/conda/lib/python3.7/site-packages/sklearn/model_selection/_validation.py:680: DataConversionWarning: A column-vector y was passed when a 1d array was expected. Please change the shape of y to (n_samples,), for example using ravel().\n",
      "  estimator.fit(X_train, y_train, **fit_params)\n",
      "/opt/conda/lib/python3.7/site-packages/sklearn/model_selection/_validation.py:680: DataConversionWarning: A column-vector y was passed when a 1d array was expected. Please change the shape of y to (n_samples,), for example using ravel().\n",
      "  estimator.fit(X_train, y_train, **fit_params)\n",
      "/opt/conda/lib/python3.7/site-packages/sklearn/model_selection/_validation.py:680: DataConversionWarning: A column-vector y was passed when a 1d array was expected. Please change the shape of y to (n_samples,), for example using ravel().\n",
      "  estimator.fit(X_train, y_train, **fit_params)\n",
      "/opt/conda/lib/python3.7/site-packages/sklearn/model_selection/_validation.py:680: DataConversionWarning: A column-vector y was passed when a 1d array was expected. Please change the shape of y to (n_samples,), for example using ravel().\n",
      "  estimator.fit(X_train, y_train, **fit_params)\n",
      "/opt/conda/lib/python3.7/site-packages/sklearn/model_selection/_validation.py:680: DataConversionWarning: A column-vector y was passed when a 1d array was expected. Please change the shape of y to (n_samples,), for example using ravel().\n",
      "  estimator.fit(X_train, y_train, **fit_params)\n",
      "/opt/conda/lib/python3.7/site-packages/sklearn/model_selection/_validation.py:680: DataConversionWarning: A column-vector y was passed when a 1d array was expected. Please change the shape of y to (n_samples,), for example using ravel().\n",
      "  estimator.fit(X_train, y_train, **fit_params)\n",
      "/opt/conda/lib/python3.7/site-packages/sklearn/model_selection/_validation.py:680: DataConversionWarning: A column-vector y was passed when a 1d array was expected. Please change the shape of y to (n_samples,), for example using ravel().\n",
      "  estimator.fit(X_train, y_train, **fit_params)\n",
      "/opt/conda/lib/python3.7/site-packages/sklearn/model_selection/_validation.py:680: DataConversionWarning: A column-vector y was passed when a 1d array was expected. Please change the shape of y to (n_samples,), for example using ravel().\n",
      "  estimator.fit(X_train, y_train, **fit_params)\n",
      "/opt/conda/lib/python3.7/site-packages/sklearn/model_selection/_validation.py:680: DataConversionWarning: A column-vector y was passed when a 1d array was expected. Please change the shape of y to (n_samples,), for example using ravel().\n",
      "  estimator.fit(X_train, y_train, **fit_params)\n",
      "/opt/conda/lib/python3.7/site-packages/sklearn/model_selection/_validation.py:680: DataConversionWarning: A column-vector y was passed when a 1d array was expected. Please change the shape of y to (n_samples,), for example using ravel().\n",
      "  estimator.fit(X_train, y_train, **fit_params)\n",
      "/opt/conda/lib/python3.7/site-packages/sklearn/model_selection/_validation.py:680: DataConversionWarning: A column-vector y was passed when a 1d array was expected. Please change the shape of y to (n_samples,), for example using ravel().\n",
      "  estimator.fit(X_train, y_train, **fit_params)\n",
      "/opt/conda/lib/python3.7/site-packages/sklearn/model_selection/_validation.py:680: DataConversionWarning: A column-vector y was passed when a 1d array was expected. Please change the shape of y to (n_samples,), for example using ravel().\n",
      "  estimator.fit(X_train, y_train, **fit_params)\n",
      "/opt/conda/lib/python3.7/site-packages/sklearn/model_selection/_validation.py:680: DataConversionWarning: A column-vector y was passed when a 1d array was expected. Please change the shape of y to (n_samples,), for example using ravel().\n",
      "  estimator.fit(X_train, y_train, **fit_params)\n",
      "/opt/conda/lib/python3.7/site-packages/sklearn/model_selection/_validation.py:680: DataConversionWarning: A column-vector y was passed when a 1d array was expected. Please change the shape of y to (n_samples,), for example using ravel().\n",
      "  estimator.fit(X_train, y_train, **fit_params)\n",
      "/opt/conda/lib/python3.7/site-packages/sklearn/model_selection/_validation.py:680: DataConversionWarning: A column-vector y was passed when a 1d array was expected. Please change the shape of y to (n_samples,), for example using ravel().\n",
      "  estimator.fit(X_train, y_train, **fit_params)\n",
      "/opt/conda/lib/python3.7/site-packages/sklearn/model_selection/_validation.py:680: DataConversionWarning: A column-vector y was passed when a 1d array was expected. Please change the shape of y to (n_samples,), for example using ravel().\n",
      "  estimator.fit(X_train, y_train, **fit_params)\n",
      "/opt/conda/lib/python3.7/site-packages/sklearn/model_selection/_validation.py:680: DataConversionWarning: A column-vector y was passed when a 1d array was expected. Please change the shape of y to (n_samples,), for example using ravel().\n",
      "  estimator.fit(X_train, y_train, **fit_params)\n",
      "/opt/conda/lib/python3.7/site-packages/sklearn/model_selection/_validation.py:680: DataConversionWarning: A column-vector y was passed when a 1d array was expected. Please change the shape of y to (n_samples,), for example using ravel().\n",
      "  estimator.fit(X_train, y_train, **fit_params)\n",
      "/opt/conda/lib/python3.7/site-packages/sklearn/model_selection/_validation.py:680: DataConversionWarning: A column-vector y was passed when a 1d array was expected. Please change the shape of y to (n_samples,), for example using ravel().\n",
      "  estimator.fit(X_train, y_train, **fit_params)\n",
      "/opt/conda/lib/python3.7/site-packages/sklearn/model_selection/_validation.py:680: DataConversionWarning: A column-vector y was passed when a 1d array was expected. Please change the shape of y to (n_samples,), for example using ravel().\n",
      "  estimator.fit(X_train, y_train, **fit_params)\n",
      "/opt/conda/lib/python3.7/site-packages/sklearn/model_selection/_validation.py:680: DataConversionWarning: A column-vector y was passed when a 1d array was expected. Please change the shape of y to (n_samples,), for example using ravel().\n",
      "  estimator.fit(X_train, y_train, **fit_params)\n",
      "/opt/conda/lib/python3.7/site-packages/sklearn/model_selection/_validation.py:680: DataConversionWarning: A column-vector y was passed when a 1d array was expected. Please change the shape of y to (n_samples,), for example using ravel().\n",
      "  estimator.fit(X_train, y_train, **fit_params)\n",
      "/opt/conda/lib/python3.7/site-packages/sklearn/model_selection/_validation.py:680: DataConversionWarning: A column-vector y was passed when a 1d array was expected. Please change the shape of y to (n_samples,), for example using ravel().\n",
      "  estimator.fit(X_train, y_train, **fit_params)\n",
      "/opt/conda/lib/python3.7/site-packages/sklearn/model_selection/_validation.py:680: DataConversionWarning: A column-vector y was passed when a 1d array was expected. Please change the shape of y to (n_samples,), for example using ravel().\n",
      "  estimator.fit(X_train, y_train, **fit_params)\n",
      "/opt/conda/lib/python3.7/site-packages/sklearn/model_selection/_validation.py:680: DataConversionWarning: A column-vector y was passed when a 1d array was expected. Please change the shape of y to (n_samples,), for example using ravel().\n",
      "  estimator.fit(X_train, y_train, **fit_params)\n",
      "/opt/conda/lib/python3.7/site-packages/sklearn/model_selection/_validation.py:680: DataConversionWarning: A column-vector y was passed when a 1d array was expected. Please change the shape of y to (n_samples,), for example using ravel().\n",
      "  estimator.fit(X_train, y_train, **fit_params)\n",
      "/opt/conda/lib/python3.7/site-packages/sklearn/model_selection/_validation.py:680: DataConversionWarning: A column-vector y was passed when a 1d array was expected. Please change the shape of y to (n_samples,), for example using ravel().\n",
      "  estimator.fit(X_train, y_train, **fit_params)\n",
      "/opt/conda/lib/python3.7/site-packages/sklearn/model_selection/_validation.py:680: DataConversionWarning: A column-vector y was passed when a 1d array was expected. Please change the shape of y to (n_samples,), for example using ravel().\n",
      "  estimator.fit(X_train, y_train, **fit_params)\n"
     ]
    },
    {
     "name": "stdout",
     "output_type": "stream",
     "text": [
      "[CV] END bootstrap=True, max_depth=30, max_features=sqrt, min_samples_leaf=1, min_samples_split=5, n_estimators=400; total time=   1.2s\n",
      "[CV] END bootstrap=True, max_depth=10, max_features=sqrt, min_samples_leaf=1, min_samples_split=5, n_estimators=2000; total time=   5.8s\n",
      "[CV] END bootstrap=False, max_depth=30, max_features=auto, min_samples_leaf=4, min_samples_split=2, n_estimators=2000; total time=   4.4s\n",
      "[CV] END bootstrap=True, max_depth=10, max_features=sqrt, min_samples_leaf=4, min_samples_split=2, n_estimators=1600; total time=   4.2s\n",
      "[CV] END bootstrap=False, max_depth=60, max_features=sqrt, min_samples_leaf=1, min_samples_split=5, n_estimators=600; total time=   1.3s\n",
      "[CV] END bootstrap=False, max_depth=60, max_features=sqrt, min_samples_leaf=1, min_samples_split=5, n_estimators=600; total time=   1.4s\n",
      "[CV] END bootstrap=False, max_depth=10, max_features=auto, min_samples_leaf=4, min_samples_split=5, n_estimators=1800; total time=   3.8s\n",
      "[CV] END bootstrap=True, max_depth=70, max_features=auto, min_samples_leaf=4, min_samples_split=10, n_estimators=400; total time=   1.0s\n",
      "[CV] END bootstrap=False, max_depth=90, max_features=sqrt, min_samples_leaf=1, min_samples_split=5, n_estimators=800; total time=   2.1s\n",
      "[CV] END bootstrap=False, max_depth=10, max_features=sqrt, min_samples_leaf=1, min_samples_split=10, n_estimators=2000; total time=   4.7s\n",
      "[CV] END bootstrap=False, max_depth=30, max_features=sqrt, min_samples_leaf=2, min_samples_split=10, n_estimators=800; total time=   1.9s\n",
      "[CV] END bootstrap=False, max_depth=50, max_features=auto, min_samples_leaf=4, min_samples_split=2, n_estimators=1800; total time=   4.0s\n",
      "[CV] END bootstrap=True, max_depth=20, max_features=sqrt, min_samples_leaf=1, min_samples_split=2, n_estimators=1000; total time=   2.7s\n",
      "[CV] END bootstrap=False, max_depth=110, max_features=auto, min_samples_leaf=2, min_samples_split=10, n_estimators=1800; total time=   4.0s\n",
      "[CV] END bootstrap=False, max_depth=30, max_features=sqrt, min_samples_leaf=1, min_samples_split=10, n_estimators=1800; total time=   4.0s\n",
      "[CV] END bootstrap=False, max_depth=70, max_features=sqrt, min_samples_leaf=1, min_samples_split=5, n_estimators=1600; total time=   3.7s\n",
      "[CV] END bootstrap=True, max_depth=None, max_features=auto, min_samples_leaf=2, min_samples_split=2, n_estimators=1800; total time=   4.9s\n",
      "[CV] END bootstrap=False, max_depth=None, max_features=sqrt, min_samples_leaf=1, min_samples_split=2, n_estimators=400; total time=   0.9s\n",
      "[CV] END bootstrap=False, max_depth=None, max_features=sqrt, min_samples_leaf=1, min_samples_split=2, n_estimators=400; total time=   1.0s\n",
      "[CV] END bootstrap=False, max_depth=40, max_features=auto, min_samples_leaf=1, min_samples_split=2, n_estimators=1400; total time=   3.4s\n",
      "[CV] END bootstrap=True, max_depth=20, max_features=sqrt, min_samples_leaf=2, min_samples_split=5, n_estimators=1000; total time=   2.7s\n",
      "[CV] END bootstrap=False, max_depth=100, max_features=auto, min_samples_leaf=4, min_samples_split=10, n_estimators=2000; total time=   4.3s\n",
      "[CV] END bootstrap=False, max_depth=20, max_features=sqrt, min_samples_leaf=4, min_samples_split=10, n_estimators=1200; total time=   2.6s\n",
      "[CV] END bootstrap=False, max_depth=50, max_features=sqrt, min_samples_leaf=2, min_samples_split=2, n_estimators=800; total time=   1.8s\n",
      "[CV] END bootstrap=True, max_depth=50, max_features=sqrt, min_samples_leaf=4, min_samples_split=10, n_estimators=800; total time=   2.1s\n",
      "[CV] END bootstrap=True, max_depth=90, max_features=sqrt, min_samples_leaf=4, min_samples_split=2, n_estimators=1800; total time=   4.7s\n",
      "[CV] END bootstrap=True, max_depth=20, max_features=sqrt, min_samples_leaf=2, min_samples_split=5, n_estimators=1200; total time=   3.3s\n",
      "[CV] END bootstrap=True, max_depth=100, max_features=auto, min_samples_leaf=1, min_samples_split=2, n_estimators=800; total time=   2.3s\n",
      "[CV] END bootstrap=True, max_depth=None, max_features=auto, min_samples_leaf=2, min_samples_split=5, n_estimators=800; total time=   2.1s\n",
      "[CV] END bootstrap=True, max_depth=10, max_features=auto, min_samples_leaf=4, min_samples_split=5, n_estimators=200; total time=   0.5s\n",
      "[CV] END bootstrap=True, max_depth=10, max_features=auto, min_samples_leaf=4, min_samples_split=5, n_estimators=200; total time=   0.5s\n",
      "[CV] END bootstrap=True, max_depth=60, max_features=sqrt, min_samples_leaf=2, min_samples_split=10, n_estimators=600; total time=   2.1s\n",
      "[CV] END bootstrap=True, max_depth=90, max_features=sqrt, min_samples_leaf=4, min_samples_split=2, n_estimators=800; total time=   2.2s\n",
      "[CV] END bootstrap=True, max_depth=110, max_features=sqrt, min_samples_leaf=1, min_samples_split=2, n_estimators=1000; total time=   2.8s\n",
      "[CV] END bootstrap=True, max_depth=90, max_features=auto, min_samples_leaf=2, min_samples_split=2, n_estimators=2000; total time=   5.4s\n",
      "[CV] END bootstrap=False, max_depth=70, max_features=sqrt, min_samples_leaf=4, min_samples_split=2, n_estimators=1200; total time=   2.6s\n",
      "[CV] END bootstrap=False, max_depth=50, max_features=auto, min_samples_leaf=2, min_samples_split=10, n_estimators=2000; total time=   4.4s\n",
      "[CV] END bootstrap=False, max_depth=50, max_features=auto, min_samples_leaf=4, min_samples_split=10, n_estimators=1000; total time=   2.1s\n",
      "[CV] END bootstrap=False, max_depth=30, max_features=auto, min_samples_leaf=4, min_samples_split=5, n_estimators=1000; total time=   2.1s\n",
      "[CV] END bootstrap=False, max_depth=None, max_features=sqrt, min_samples_leaf=2, min_samples_split=5, n_estimators=1400; total time=   3.1s\n",
      "[CV] END bootstrap=True, max_depth=10, max_features=auto, min_samples_leaf=1, min_samples_split=5, n_estimators=1600; total time=   4.3s\n",
      "[CV] END bootstrap=True, max_depth=80, max_features=auto, min_samples_leaf=2, min_samples_split=2, n_estimators=1800; total time=   5.5s\n",
      "[CV] END bootstrap=True, max_depth=80, max_features=sqrt, min_samples_leaf=2, min_samples_split=10, n_estimators=1400; total time=   3.8s\n",
      "[CV] END bootstrap=True, max_depth=10, max_features=sqrt, min_samples_leaf=4, min_samples_split=2, n_estimators=400; total time=   1.1s\n",
      "[CV] END bootstrap=False, max_depth=80, max_features=auto, min_samples_leaf=4, min_samples_split=10, n_estimators=1000; total time=   2.2s\n",
      "[CV] END bootstrap=False, max_depth=None, max_features=auto, min_samples_leaf=2, min_samples_split=10, n_estimators=1200; total time=   2.6s\n",
      "[CV] END bootstrap=True, max_depth=None, max_features=auto, min_samples_leaf=2, min_samples_split=10, n_estimators=1600; total time=   4.2s\n",
      "[CV] END bootstrap=False, max_depth=10, max_features=auto, min_samples_leaf=4, min_samples_split=2, n_estimators=1800; total time=   3.8s\n",
      "[CV] END bootstrap=True, max_depth=70, max_features=auto, min_samples_leaf=2, min_samples_split=2, n_estimators=1400; total time=   3.8s\n",
      "[CV] END bootstrap=False, max_depth=60, max_features=auto, min_samples_leaf=2, min_samples_split=10, n_estimators=2000; total time=   4.3s\n",
      "[CV] END bootstrap=False, max_depth=80, max_features=sqrt, min_samples_leaf=4, min_samples_split=2, n_estimators=1400; total time=   3.5s\n",
      "[CV] END bootstrap=True, max_depth=60, max_features=sqrt, min_samples_leaf=2, min_samples_split=5, n_estimators=1800; total time=   4.7s\n",
      "[CV] END bootstrap=True, max_depth=90, max_features=auto, min_samples_leaf=1, min_samples_split=5, n_estimators=1600; total time=   4.4s\n",
      "[CV] END bootstrap=True, max_depth=100, max_features=sqrt, min_samples_leaf=1, min_samples_split=5, n_estimators=2000; total time=   5.4s\n",
      "[CV] END bootstrap=True, max_depth=10, max_features=sqrt, min_samples_leaf=2, min_samples_split=5, n_estimators=1000; total time=   2.7s\n",
      "[CV] END bootstrap=True, max_depth=80, max_features=auto, min_samples_leaf=4, min_samples_split=5, n_estimators=200; total time=   0.5s\n",
      "[CV] END bootstrap=True, max_depth=80, max_features=auto, min_samples_leaf=4, min_samples_split=5, n_estimators=200; total time=   0.5s\n",
      "[CV] END bootstrap=True, max_depth=100, max_features=auto, min_samples_leaf=2, min_samples_split=10, n_estimators=600; total time=   1.6s\n",
      "[CV] END bootstrap=True, max_depth=100, max_features=auto, min_samples_leaf=2, min_samples_split=10, n_estimators=600; total time=   1.5s\n",
      "[CV] END bootstrap=True, max_depth=100, max_features=auto, min_samples_leaf=2, min_samples_split=10, n_estimators=600; total time=   1.5s"
     ]
    },
    {
     "name": "stderr",
     "output_type": "stream",
     "text": [
      "/opt/conda/lib/python3.7/site-packages/sklearn/model_selection/_validation.py:680: DataConversionWarning: A column-vector y was passed when a 1d array was expected. Please change the shape of y to (n_samples,), for example using ravel().\n",
      "  estimator.fit(X_train, y_train, **fit_params)\n",
      "/opt/conda/lib/python3.7/site-packages/sklearn/model_selection/_validation.py:680: DataConversionWarning: A column-vector y was passed when a 1d array was expected. Please change the shape of y to (n_samples,), for example using ravel().\n",
      "  estimator.fit(X_train, y_train, **fit_params)\n",
      "/opt/conda/lib/python3.7/site-packages/sklearn/model_selection/_validation.py:680: DataConversionWarning: A column-vector y was passed when a 1d array was expected. Please change the shape of y to (n_samples,), for example using ravel().\n",
      "  estimator.fit(X_train, y_train, **fit_params)\n",
      "/opt/conda/lib/python3.7/site-packages/sklearn/model_selection/_validation.py:680: DataConversionWarning: A column-vector y was passed when a 1d array was expected. Please change the shape of y to (n_samples,), for example using ravel().\n",
      "  estimator.fit(X_train, y_train, **fit_params)\n",
      "/opt/conda/lib/python3.7/site-packages/sklearn/model_selection/_validation.py:680: DataConversionWarning: A column-vector y was passed when a 1d array was expected. Please change the shape of y to (n_samples,), for example using ravel().\n",
      "  estimator.fit(X_train, y_train, **fit_params)\n",
      "/opt/conda/lib/python3.7/site-packages/sklearn/model_selection/_validation.py:680: DataConversionWarning: A column-vector y was passed when a 1d array was expected. Please change the shape of y to (n_samples,), for example using ravel().\n",
      "  estimator.fit(X_train, y_train, **fit_params)\n",
      "/opt/conda/lib/python3.7/site-packages/sklearn/model_selection/_validation.py:680: DataConversionWarning: A column-vector y was passed when a 1d array was expected. Please change the shape of y to (n_samples,), for example using ravel().\n",
      "  estimator.fit(X_train, y_train, **fit_params)\n",
      "/opt/conda/lib/python3.7/site-packages/sklearn/model_selection/_validation.py:680: DataConversionWarning: A column-vector y was passed when a 1d array was expected. Please change the shape of y to (n_samples,), for example using ravel().\n",
      "  estimator.fit(X_train, y_train, **fit_params)\n",
      "/opt/conda/lib/python3.7/site-packages/sklearn/model_selection/_validation.py:680: DataConversionWarning: A column-vector y was passed when a 1d array was expected. Please change the shape of y to (n_samples,), for example using ravel().\n",
      "  estimator.fit(X_train, y_train, **fit_params)\n",
      "/opt/conda/lib/python3.7/site-packages/sklearn/model_selection/_validation.py:680: DataConversionWarning: A column-vector y was passed when a 1d array was expected. Please change the shape of y to (n_samples,), for example using ravel().\n",
      "  estimator.fit(X_train, y_train, **fit_params)\n",
      "/opt/conda/lib/python3.7/site-packages/sklearn/model_selection/_validation.py:680: DataConversionWarning: A column-vector y was passed when a 1d array was expected. Please change the shape of y to (n_samples,), for example using ravel().\n",
      "  estimator.fit(X_train, y_train, **fit_params)\n",
      "/opt/conda/lib/python3.7/site-packages/sklearn/model_selection/_validation.py:680: DataConversionWarning: A column-vector y was passed when a 1d array was expected. Please change the shape of y to (n_samples,), for example using ravel().\n",
      "  estimator.fit(X_train, y_train, **fit_params)\n",
      "/opt/conda/lib/python3.7/site-packages/sklearn/model_selection/_validation.py:680: DataConversionWarning: A column-vector y was passed when a 1d array was expected. Please change the shape of y to (n_samples,), for example using ravel().\n",
      "  estimator.fit(X_train, y_train, **fit_params)\n",
      "/opt/conda/lib/python3.7/site-packages/sklearn/model_selection/_validation.py:680: DataConversionWarning: A column-vector y was passed when a 1d array was expected. Please change the shape of y to (n_samples,), for example using ravel().\n",
      "  estimator.fit(X_train, y_train, **fit_params)\n",
      "/opt/conda/lib/python3.7/site-packages/sklearn/model_selection/_validation.py:680: DataConversionWarning: A column-vector y was passed when a 1d array was expected. Please change the shape of y to (n_samples,), for example using ravel().\n",
      "  estimator.fit(X_train, y_train, **fit_params)\n",
      "/opt/conda/lib/python3.7/site-packages/sklearn/model_selection/_validation.py:680: DataConversionWarning: A column-vector y was passed when a 1d array was expected. Please change the shape of y to (n_samples,), for example using ravel().\n",
      "  estimator.fit(X_train, y_train, **fit_params)\n",
      "/opt/conda/lib/python3.7/site-packages/sklearn/model_selection/_validation.py:680: DataConversionWarning: A column-vector y was passed when a 1d array was expected. Please change the shape of y to (n_samples,), for example using ravel().\n",
      "  estimator.fit(X_train, y_train, **fit_params)\n",
      "/opt/conda/lib/python3.7/site-packages/sklearn/model_selection/_validation.py:680: DataConversionWarning: A column-vector y was passed when a 1d array was expected. Please change the shape of y to (n_samples,), for example using ravel().\n",
      "  estimator.fit(X_train, y_train, **fit_params)\n",
      "/opt/conda/lib/python3.7/site-packages/sklearn/model_selection/_validation.py:680: DataConversionWarning: A column-vector y was passed when a 1d array was expected. Please change the shape of y to (n_samples,), for example using ravel().\n",
      "  estimator.fit(X_train, y_train, **fit_params)\n",
      "/opt/conda/lib/python3.7/site-packages/sklearn/model_selection/_validation.py:680: DataConversionWarning: A column-vector y was passed when a 1d array was expected. Please change the shape of y to (n_samples,), for example using ravel().\n",
      "  estimator.fit(X_train, y_train, **fit_params)\n",
      "/opt/conda/lib/python3.7/site-packages/sklearn/model_selection/_validation.py:680: DataConversionWarning: A column-vector y was passed when a 1d array was expected. Please change the shape of y to (n_samples,), for example using ravel().\n",
      "  estimator.fit(X_train, y_train, **fit_params)\n",
      "/opt/conda/lib/python3.7/site-packages/sklearn/model_selection/_validation.py:680: DataConversionWarning: A column-vector y was passed when a 1d array was expected. Please change the shape of y to (n_samples,), for example using ravel().\n",
      "  estimator.fit(X_train, y_train, **fit_params)\n",
      "/opt/conda/lib/python3.7/site-packages/sklearn/model_selection/_validation.py:680: DataConversionWarning: A column-vector y was passed when a 1d array was expected. Please change the shape of y to (n_samples,), for example using ravel().\n",
      "  estimator.fit(X_train, y_train, **fit_params)\n",
      "/opt/conda/lib/python3.7/site-packages/sklearn/model_selection/_validation.py:680: DataConversionWarning: A column-vector y was passed when a 1d array was expected. Please change the shape of y to (n_samples,), for example using ravel().\n",
      "  estimator.fit(X_train, y_train, **fit_params)\n",
      "/opt/conda/lib/python3.7/site-packages/sklearn/model_selection/_validation.py:680: DataConversionWarning: A column-vector y was passed when a 1d array was expected. Please change the shape of y to (n_samples,), for example using ravel().\n",
      "  estimator.fit(X_train, y_train, **fit_params)\n",
      "/opt/conda/lib/python3.7/site-packages/sklearn/model_selection/_validation.py:680: DataConversionWarning: A column-vector y was passed when a 1d array was expected. Please change the shape of y to (n_samples,), for example using ravel().\n",
      "  estimator.fit(X_train, y_train, **fit_params)\n",
      "/opt/conda/lib/python3.7/site-packages/sklearn/model_selection/_validation.py:680: DataConversionWarning: A column-vector y was passed when a 1d array was expected. Please change the shape of y to (n_samples,), for example using ravel().\n",
      "  estimator.fit(X_train, y_train, **fit_params)\n",
      "/opt/conda/lib/python3.7/site-packages/sklearn/model_selection/_validation.py:680: DataConversionWarning: A column-vector y was passed when a 1d array was expected. Please change the shape of y to (n_samples,), for example using ravel().\n",
      "  estimator.fit(X_train, y_train, **fit_params)\n",
      "/opt/conda/lib/python3.7/site-packages/sklearn/model_selection/_validation.py:680: DataConversionWarning: A column-vector y was passed when a 1d array was expected. Please change the shape of y to (n_samples,), for example using ravel().\n",
      "  estimator.fit(X_train, y_train, **fit_params)\n"
     ]
    },
    {
     "name": "stdout",
     "output_type": "stream",
     "text": [
      "[CV] END bootstrap=True, max_depth=30, max_features=sqrt, min_samples_leaf=1, min_samples_split=5, n_estimators=400; total time=   1.2s\n",
      "[CV] END bootstrap=True, max_depth=10, max_features=sqrt, min_samples_leaf=1, min_samples_split=5, n_estimators=2000; total time=   5.7s\n",
      "[CV] END bootstrap=False, max_depth=30, max_features=auto, min_samples_leaf=4, min_samples_split=2, n_estimators=2000; total time=   4.4s\n",
      "[CV] END bootstrap=True, max_depth=10, max_features=sqrt, min_samples_leaf=4, min_samples_split=2, n_estimators=1600; total time=   4.2s\n",
      "[CV] END bootstrap=False, max_depth=100, max_features=sqrt, min_samples_leaf=2, min_samples_split=5, n_estimators=1000; total time=   2.3s\n",
      "[CV] END bootstrap=False, max_depth=50, max_features=auto, min_samples_leaf=1, min_samples_split=2, n_estimators=1000; total time=   2.3s\n",
      "[CV] END bootstrap=False, max_depth=10, max_features=auto, min_samples_leaf=4, min_samples_split=5, n_estimators=1800; total time=   3.8s\n",
      "[CV] END bootstrap=False, max_depth=10, max_features=sqrt, min_samples_leaf=1, min_samples_split=10, n_estimators=2000; total time=   5.0s\n",
      "[CV] END bootstrap=False, max_depth=10, max_features=sqrt, min_samples_leaf=2, min_samples_split=5, n_estimators=1600; total time=   3.6s\n",
      "[CV] END bootstrap=False, max_depth=50, max_features=auto, min_samples_leaf=4, min_samples_split=2, n_estimators=1800; total time=   3.9s\n",
      "[CV] END bootstrap=True, max_depth=20, max_features=sqrt, min_samples_leaf=1, min_samples_split=2, n_estimators=1000; total time=   2.8s\n",
      "[CV] END bootstrap=False, max_depth=110, max_features=auto, min_samples_leaf=2, min_samples_split=10, n_estimators=1800; total time=   4.0s\n",
      "[CV] END bootstrap=False, max_depth=70, max_features=sqrt, min_samples_leaf=1, min_samples_split=5, n_estimators=1600; total time=   3.6s\n",
      "[CV] END bootstrap=True, max_depth=80, max_features=sqrt, min_samples_leaf=4, min_samples_split=5, n_estimators=1400; total time=   3.6s\n",
      "[CV] END bootstrap=True, max_depth=None, max_features=auto, min_samples_leaf=2, min_samples_split=2, n_estimators=1800; total time=   4.8s\n",
      "[CV] END bootstrap=False, max_depth=80, max_features=sqrt, min_samples_leaf=1, min_samples_split=5, n_estimators=1400; total time=   3.7s\n",
      "[CV] END bootstrap=False, max_depth=40, max_features=auto, min_samples_leaf=1, min_samples_split=2, n_estimators=1400; total time=   3.5s\n",
      "[CV] END bootstrap=False, max_depth=100, max_features=auto, min_samples_leaf=4, min_samples_split=10, n_estimators=2000; total time=   4.3s\n",
      "[CV] END bootstrap=True, max_depth=20, max_features=sqrt, min_samples_leaf=2, min_samples_split=2, n_estimators=1200; total time=   3.2s\n",
      "[CV] END bootstrap=False, max_depth=50, max_features=sqrt, min_samples_leaf=2, min_samples_split=2, n_estimators=800; total time=   1.8s\n",
      "[CV] END bootstrap=False, max_depth=100, max_features=sqrt, min_samples_leaf=1, min_samples_split=5, n_estimators=800; total time=   1.9s\n",
      "[CV] END bootstrap=True, max_depth=50, max_features=sqrt, min_samples_leaf=4, min_samples_split=10, n_estimators=800; total time=   2.1s\n",
      "[CV] END bootstrap=True, max_depth=90, max_features=sqrt, min_samples_leaf=4, min_samples_split=2, n_estimators=1800; total time=   4.8s\n",
      "[CV] END bootstrap=True, max_depth=100, max_features=auto, min_samples_leaf=1, min_samples_split=2, n_estimators=800; total time=   2.2s\n",
      "[CV] END bootstrap=True, max_depth=None, max_features=auto, min_samples_leaf=2, min_samples_split=5, n_estimators=800; total time=   2.2s\n",
      "[CV] END bootstrap=True, max_depth=60, max_features=sqrt, min_samples_leaf=2, min_samples_split=2, n_estimators=1000; total time=   2.6s\n",
      "[CV] END bootstrap=True, max_depth=10, max_features=auto, min_samples_leaf=4, min_samples_split=5, n_estimators=200; total time=   0.5s\n",
      "[CV] END bootstrap=True, max_depth=60, max_features=sqrt, min_samples_leaf=2, min_samples_split=10, n_estimators=600; total time=   1.9s\n",
      "[CV] END bootstrap=True, max_depth=90, max_features=sqrt, min_samples_leaf=4, min_samples_split=10, n_estimators=400; total time=   1.1s\n",
      "[CV] END bootstrap=True, max_depth=90, max_features=sqrt, min_samples_leaf=4, min_samples_split=10, n_estimators=400; total time=   1.1s\n",
      "[CV] END bootstrap=True, max_depth=110, max_features=sqrt, min_samples_leaf=1, min_samples_split=2, n_estimators=1000; total time=   2.8s\n",
      "[CV] END bootstrap=True, max_depth=90, max_features=auto, min_samples_leaf=2, min_samples_split=2, n_estimators=2000; total time=   5.4s\n",
      "[CV] END bootstrap=False, max_depth=110, max_features=sqrt, min_samples_leaf=2, min_samples_split=2, n_estimators=600; total time=   1.4s\n",
      "[CV] END bootstrap=False, max_depth=20, max_features=auto, min_samples_leaf=1, min_samples_split=2, n_estimators=1800; total time=   4.4s\n",
      "[CV] END bootstrap=False, max_depth=50, max_features=auto, min_samples_leaf=2, min_samples_split=10, n_estimators=2000; total time=   4.4s\n",
      "[CV] END bootstrap=False, max_depth=30, max_features=auto, min_samples_leaf=4, min_samples_split=5, n_estimators=1000; total time=   2.2s\n",
      "[CV] END bootstrap=False, max_depth=None, max_features=sqrt, min_samples_leaf=2, min_samples_split=5, n_estimators=1400; total time=   3.1s\n",
      "[CV] END bootstrap=True, max_depth=80, max_features=auto, min_samples_leaf=2, min_samples_split=2, n_estimators=1800; total time=   5.4s\n",
      "[CV] END bootstrap=True, max_depth=100, max_features=auto, min_samples_leaf=1, min_samples_split=2, n_estimators=1400; total time=   4.1s\n",
      "[CV] END bootstrap=True, max_depth=80, max_features=sqrt, min_samples_leaf=2, min_samples_split=10, n_estimators=1400; total time=   4.0s\n",
      "[CV] END bootstrap=False, max_depth=80, max_features=auto, min_samples_leaf=4, min_samples_split=10, n_estimators=1000; total time=   2.2s\n",
      "[CV] END bootstrap=False, max_depth=None, max_features=auto, min_samples_leaf=2, min_samples_split=10, n_estimators=1200; total time=   2.6s\n",
      "[CV] END bootstrap=True, max_depth=20, max_features=sqrt, min_samples_leaf=1, min_samples_split=10, n_estimators=1600; total time=   4.3s\n",
      "[CV] END bootstrap=False, max_depth=10, max_features=auto, min_samples_leaf=4, min_samples_split=2, n_estimators=1800; total time=   3.9s\n",
      "[CV] END bootstrap=True, max_depth=70, max_features=auto, min_samples_leaf=2, min_samples_split=2, n_estimators=1400; total time=   3.8s\n",
      "[CV] END bootstrap=False, max_depth=80, max_features=sqrt, min_samples_leaf=1, min_samples_split=10, n_estimators=1000; total time=   2.2s\n",
      "[CV] END bootstrap=False, max_depth=80, max_features=sqrt, min_samples_leaf=4, min_samples_split=2, n_estimators=1400; total time=   3.1s\n",
      "[CV] END bootstrap=False, max_depth=20, max_features=sqrt, min_samples_leaf=4, min_samples_split=2, n_estimators=800; total time=   2.3s\n",
      "[CV] END bootstrap=True, max_depth=60, max_features=sqrt, min_samples_leaf=2, min_samples_split=5, n_estimators=1800; total time=   4.8s\n",
      "[CV] END bootstrap=True, max_depth=90, max_features=auto, min_samples_leaf=1, min_samples_split=5, n_estimators=1600; total time=   4.4s\n",
      "[CV] END bootstrap=True, max_depth=None, max_features=sqrt, min_samples_leaf=1, min_samples_split=10, n_estimators=1600; total time=   4.2s\n",
      "[CV] END bootstrap=True, max_depth=10, max_features=sqrt, min_samples_leaf=2, min_samples_split=5, n_estimators=1000; total time=   2.6s\n",
      "[CV] END bootstrap=True, max_depth=10, max_features=sqrt, min_samples_leaf=2, min_samples_split=5, n_estimators=1000; total time=   2.7s\n",
      "[CV] END bootstrap=False, max_depth=60, max_features=auto, min_samples_leaf=4, min_samples_split=2, n_estimators=2000; total time=   4.3s\n",
      "[CV] END bootstrap=True, max_depth=100, max_features=auto, min_samples_leaf=4, min_samples_split=5, n_estimators=1000; total time=   2.6s\n",
      "[CV] END bootstrap=False, max_depth=70, max_features=sqrt, min_samples_leaf=4, min_samples_split=5, n_estimators=800; total time=   1.7s\n",
      "[CV] END bootstrap=False, max_depth=40, max_features=sqrt, min_samples_leaf=1, min_samples_split=10, n_estimators=600; total time=   1.4s\n",
      "[CV] END bootstrap=True, max_depth=80, max_features=sqrt, min_samples_leaf=4, min_samples_split=2, n_estimators=1600; total time=   5.0s\n",
      "[CV] END bootstrap=True, max_depth=100, max_features=sqrt, min_samples_leaf=4, min_samples_split=10, n_estimators=800; total time=   2.2s\n",
      "[CV] END bootstrap=True, max_depth=110, max_features=sqrt, min_samples_leaf=1, min_samples_split=10, n_estimators=600; total time=   1.7s"
     ]
    },
    {
     "data": {
      "text/plain": [
       "RandomizedSearchCV(cv=3, estimator=RandomForestClassifier(n_estimators=200),\n",
       "                   n_iter=100, n_jobs=-1,\n",
       "                   param_distributions={'bootstrap': [True, False],\n",
       "                                        'max_depth': [10, 20, 30, 40, 50, 60,\n",
       "                                                      70, 80, 90, 100, 110,\n",
       "                                                      None],\n",
       "                                        'max_features': ['auto', 'sqrt'],\n",
       "                                        'min_samples_leaf': [1, 2, 4],\n",
       "                                        'min_samples_split': [2, 5, 10],\n",
       "                                        'n_estimators': [200, 400, 600, 800,\n",
       "                                                         1000, 1200, 1400, 1600,\n",
       "                                                         1800, 2000]},\n",
       "                   random_state=42, verbose=2)"
      ]
     },
     "execution_count": 102,
     "metadata": {},
     "output_type": "execute_result"
    }
   ],
   "source": [
    "# Use the random grid to search for best hyperparameters\n",
    "# Random search of parameters, using 3 fold cross validation, \n",
    "# search across 100 different combinations, and use all available cores\n",
    "rf_random = RandomizedSearchCV(estimator = clf_rfc, param_distributions = random_grid, n_iter = 100, cv = 3, verbose=2, random_state=42, n_jobs = -1)\n",
    "# Fit the random search model\n",
    "rf_random.fit(train_x, train_y)"
   ]
  },
  {
   "cell_type": "code",
   "execution_count": 103,
   "id": "1013c7b5",
   "metadata": {
    "execution": {
     "iopub.execute_input": "2022-10-23T00:50:01.702206Z",
     "iopub.status.busy": "2022-10-23T00:50:01.701193Z",
     "iopub.status.idle": "2022-10-23T00:50:01.707814Z",
     "shell.execute_reply": "2022-10-23T00:50:01.706817Z"
    },
    "papermill": {
     "duration": 0.063328,
     "end_time": "2022-10-23T00:50:01.709726",
     "exception": false,
     "start_time": "2022-10-23T00:50:01.646398",
     "status": "completed"
    },
    "scrolled": true,
    "tags": []
   },
   "outputs": [
    {
     "data": {
      "text/plain": [
       "{'n_estimators': 800,\n",
       " 'min_samples_split': 5,\n",
       " 'min_samples_leaf': 4,\n",
       " 'max_features': 'sqrt',\n",
       " 'max_depth': 70,\n",
       " 'bootstrap': False}"
      ]
     },
     "execution_count": 103,
     "metadata": {},
     "output_type": "execute_result"
    }
   ],
   "source": [
    "#Best Parameters\n",
    "rf_random.best_params_"
   ]
  },
  {
   "cell_type": "code",
   "execution_count": 104,
   "id": "b876aab0",
   "metadata": {
    "execution": {
     "iopub.execute_input": "2022-10-23T00:50:01.813422Z",
     "iopub.status.busy": "2022-10-23T00:50:01.812719Z",
     "iopub.status.idle": "2022-10-23T00:50:02.680624Z",
     "shell.execute_reply": "2022-10-23T00:50:02.679327Z"
    },
    "papermill": {
     "duration": 0.924097,
     "end_time": "2022-10-23T00:50:02.683318",
     "exception": false,
     "start_time": "2022-10-23T00:50:01.759221",
     "status": "completed"
    },
    "tags": []
   },
   "outputs": [
    {
     "data": {
      "text/plain": [
       "RandomForestClassifier(bootstrap=False, max_depth=60, max_features='sqrt',\n",
       "                       min_samples_leaf=4, n_estimators=600)"
      ]
     },
     "execution_count": 104,
     "metadata": {},
     "output_type": "execute_result"
    }
   ],
   "source": [
    "#Training the Random Forest Again using best parameters\n",
    "clf_rfc_best = RandomForestClassifier(n_estimators= 600,\n",
    " min_samples_split= 2,\n",
    " min_samples_leaf= 4,\n",
    " max_features='sqrt',\n",
    " max_depth= 60,\n",
    " bootstrap= False)\n",
    "clf_rfc_best.fit(train_x, train_y)"
   ]
  },
  {
   "cell_type": "code",
   "execution_count": 105,
   "id": "11f4235f",
   "metadata": {
    "execution": {
     "iopub.execute_input": "2022-10-23T00:50:02.791761Z",
     "iopub.status.busy": "2022-10-23T00:50:02.791059Z",
     "iopub.status.idle": "2022-10-23T00:50:02.886239Z",
     "shell.execute_reply": "2022-10-23T00:50:02.884865Z"
    },
    "papermill": {
     "duration": 0.152051,
     "end_time": "2022-10-23T00:50:02.888872",
     "exception": false,
     "start_time": "2022-10-23T00:50:02.736821",
     "status": "completed"
    },
    "tags": []
   },
   "outputs": [
    {
     "name": "stdout",
     "output_type": "stream",
     "text": [
      "Predicted Values: [0 0 0 1 0 1 0 0 0 1 1 0 0 1 1 0 0 0 1 0 1 1 0 0 1 1 1 0 0 0 1 1 0 0 0 0 1\n",
      " 0 0 0 0 0 1 0 0 0 0 0 0 0 0 0 0 1 0 1 0 0 1 1 0 0 0 1 1 0 1 0 0 0 1 1 1 0\n",
      " 0 0 0 0 0 1 0 0 0 1 1 0 0 1 0 1 0 0 0 0 0 0 0 0 0 0 0 0 0 0 0 0 0 0 1 0 1\n",
      " 0 0 0 0 0 0 0 0 0 0 0 1 1 0 0 1 0 0 1 1 1 0 0 0 1 0 0 0 0 1 0 1 1 1 0 0 0\n",
      " 1 0 0 0 0 0 0 1 1 1 0 1 1 1 0 1 1 1 1 1 0 1 1 1 1 0 0 0 0 0]\n"
     ]
    }
   ],
   "source": [
    "# Predicton on test with best Random Forest\n",
    "y_pred_rfc_best = clf_rfc_best.predict(test_x)\n",
    "\n",
    "print('Predicted Values:',y_pred_rfc_best)"
   ]
  },
  {
   "cell_type": "code",
   "execution_count": 106,
   "id": "897c7df5",
   "metadata": {
    "execution": {
     "iopub.execute_input": "2022-10-23T00:50:02.995237Z",
     "iopub.status.busy": "2022-10-23T00:50:02.994616Z",
     "iopub.status.idle": "2022-10-23T00:50:03.000855Z",
     "shell.execute_reply": "2022-10-23T00:50:02.999654Z"
    },
    "papermill": {
     "duration": 0.062285,
     "end_time": "2022-10-23T00:50:03.004064",
     "exception": false,
     "start_time": "2022-10-23T00:50:02.941779",
     "status": "completed"
    },
    "tags": []
   },
   "outputs": [
    {
     "name": "stdout",
     "output_type": "stream",
     "text": [
      "Accuracy :  84.26966292134831\n"
     ]
    }
   ],
   "source": [
    "#Accuracy Score with best Random Ferest\n",
    "print(\"Accuracy : \",accuracy_score(test_y,y_pred_rfc_best)*100)"
   ]
  },
  {
   "cell_type": "code",
   "execution_count": 107,
   "id": "96b45683",
   "metadata": {
    "execution": {
     "iopub.execute_input": "2022-10-23T00:50:03.110409Z",
     "iopub.status.busy": "2022-10-23T00:50:03.110022Z",
     "iopub.status.idle": "2022-10-23T00:50:03.116491Z",
     "shell.execute_reply": "2022-10-23T00:50:03.115017Z"
    },
    "papermill": {
     "duration": 0.063086,
     "end_time": "2022-10-23T00:50:03.119901",
     "exception": false,
     "start_time": "2022-10-23T00:50:03.056815",
     "status": "completed"
    },
    "tags": []
   },
   "outputs": [
    {
     "name": "stdout",
     "output_type": "stream",
     "text": [
      "Confusion Matrix:  [[102  12]\n",
      " [ 16  48]]\n"
     ]
    }
   ],
   "source": [
    "#Confusion Matrix with best Random Forest\n",
    "print(\"Confusion Matrix: \",confusion_matrix(test_y,y_pred_rfc_best))"
   ]
  },
  {
   "cell_type": "code",
   "execution_count": 108,
   "id": "a33031dd",
   "metadata": {
    "execution": {
     "iopub.execute_input": "2022-10-23T00:50:03.228230Z",
     "iopub.status.busy": "2022-10-23T00:50:03.226943Z",
     "iopub.status.idle": "2022-10-23T00:50:03.474003Z",
     "shell.execute_reply": "2022-10-23T00:50:03.472834Z"
    },
    "papermill": {
     "duration": 0.303428,
     "end_time": "2022-10-23T00:50:03.476863",
     "exception": false,
     "start_time": "2022-10-23T00:50:03.173435",
     "status": "completed"
    },
    "tags": []
   },
   "outputs": [
    {
     "data": {
      "image/png": "[encoded data removed]",
      "text/plain": [
       "<Figure size 432x288 with 2 Axes>"
      ]
     },
     "metadata": {},
     "output_type": "display_data"
    }
   ],
   "source": [
    "#Confusion Matrix in the form of Heatmap\n",
    "from sklearn import metrics\n",
    "cnf_matrix = metrics.confusion_matrix(test_y,y_pred_rfc_best)\n",
    "p = sns.heatmap(pd.DataFrame(cnf_matrix), annot=True, fmt='g',cmap='autumn')\n",
    "plt.title('Confusion matrix', y=1.1)\n",
    "plt.ylabel('Actual label')\n",
    "plt.xlabel('Predicted label')\n",
    "plt.show()"
   ]
  },
  {
   "cell_type": "code",
   "execution_count": 109,
   "id": "81896658",
   "metadata": {
    "execution": {
     "iopub.execute_input": "2022-10-23T00:50:03.581887Z",
     "iopub.status.busy": "2022-10-23T00:50:03.581511Z",
     "iopub.status.idle": "2022-10-23T00:50:03.592103Z",
     "shell.execute_reply": "2022-10-23T00:50:03.590635Z"
    },
    "papermill": {
     "duration": 0.066162,
     "end_time": "2022-10-23T00:50:03.594643",
     "exception": false,
     "start_time": "2022-10-23T00:50:03.528481",
     "status": "completed"
    },
    "tags": []
   },
   "outputs": [
    {
     "name": "stdout",
     "output_type": "stream",
     "text": [
      "Report :                precision    recall  f1-score   support\n",
      "\n",
      "           0       0.86      0.89      0.88       114\n",
      "           1       0.80      0.75      0.77        64\n",
      "\n",
      "    accuracy                           0.84       178\n",
      "   macro avg       0.83      0.82      0.83       178\n",
      "weighted avg       0.84      0.84      0.84       178\n",
      "\n"
     ]
    }
   ],
   "source": [
    "#Classification Report with Random Forest\n",
    "print(\"Report : \",classification_report(test_y,y_pred_rfc_best))"
   ]
  },
  {
   "cell_type": "markdown",
   "id": "cafd11ea",
   "metadata": {
    "papermill": {
     "duration": 0.106517,
     "end_time": "2022-10-23T00:50:03.754198",
     "exception": false,
     "start_time": "2022-10-23T00:50:03.647681",
     "status": "completed"
    },
    "tags": []
   },
   "source": [
    "### The Accuracy Increased from 80.8% to 85.3% after using the Random Search"
   ]
  },
  {
   "cell_type": "code",
   "execution_count": null,
   "id": "88f9ea46",
   "metadata": {
    "papermill": {
     "duration": 0.051665,
     "end_time": "2022-10-23T00:50:03.857765",
     "exception": false,
     "start_time": "2022-10-23T00:50:03.806100",
     "status": "completed"
    },
    "tags": []
   },
   "outputs": [],
   "source": []
  }
 ],
 "metadata": {
  "kernelspec": {
   "display_name": "Python 3",
   "language": "python",
   "name": "python3"
  },
  "language_info": {
   "codemirror_mode": {
    "name": "ipython",
    "version": 3
   },
   "file_extension": ".py",
   "mimetype": "text/x-python",
   "name": "python",
   "nbconvert_exporter": "python",
   "pygments_lexer": "ipython3",
   "version": "3.7.12"
  },
  "papermill": {
   "default_parameters": {},
   "duration": 264.138333,
   "end_time": "2022-10-23T00:50:06.531378",
   "environment_variables": {},
   "exception": null,
   "input_path": "__notebook__.ipynb",
   "output_path": "__notebook__.ipynb",
   "parameters": {},
   "start_time": "2022-10-23T00:45:42.393045",
   "version": "2.3.4"
  }
 },
 "nbformat": 4,
 "nbformat_minor": 5
}
